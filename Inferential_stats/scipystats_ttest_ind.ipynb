{
  "nbformat": 4,
  "nbformat_minor": 0,
  "metadata": {
    "colab": {
      "name": "scipystats_ttest_ind.ipynb",
      "provenance": [],
      "authorship_tag": "ABX9TyPHwAK1GWAieC4C4FAl7/fj",
      "include_colab_link": true
    },
    "kernelspec": {
      "name": "python3",
      "display_name": "Python 3"
    },
    "language_info": {
      "name": "python"
    }
  },
  "cells": [
    {
      "cell_type": "markdown",
      "metadata": {
        "id": "view-in-github",
        "colab_type": "text"
      },
      "source": [
        "<a href=\"https://colab.research.google.com/github/Suryan5h/MachineLearning/blob/main/Inferential_stats/scipystats_ttest_ind.ipynb\" target=\"_parent\"><img src=\"https://colab.research.google.com/assets/colab-badge.svg\" alt=\"Open In Colab\"/></a>"
      ]
    },
    {
      "cell_type": "code",
      "execution_count": 1,
      "metadata": {
        "id": "H3vshmgBGajG"
      },
      "outputs": [],
      "source": [
        "sample1 = [10.2,9.7,10.1,10.3,10.1,9.8,9.9,10.4,10.3,9.8]\n",
        "sample2 = [10.1,9.2,10.3,11,10.2,9.1,9.2,10.3,10.7,9.3]"
      ]
    },
    {
      "cell_type": "code",
      "source": [
        "import scipy.stats as stats"
      ],
      "metadata": {
        "id": "NweF_MEiGxnB"
      },
      "execution_count": 6,
      "outputs": []
    },
    {
      "cell_type": "code",
      "source": [
        "t_statistics, p_value = stats.ttest_ind(sample1,sample2)\n",
        "print(t_statistics,p_value)"
      ],
      "metadata": {
        "colab": {
          "base_uri": "https://localhost:8080/"
        },
        "id": "apEMWkmRG41g",
        "outputId": "4d700e0a-c281-4c33-93bf-66384bbcfc6b"
      },
      "execution_count": 7,
      "outputs": [
        {
          "output_type": "stream",
          "name": "stdout",
          "text": [
            "0.5191827700839814 0.6099583638259121\n"
          ]
        }
      ]
    },
    {
      "cell_type": "code",
      "source": [
        "alpha = 0.05\n",
        "if p_value < alpha:\n",
        "  print('P value = ',p_value)\n",
        "  print('Reject Ho')\n",
        "else:\n",
        "  print('P value = ',p_value)\n",
        "  print('Fail to reject Ho')"
      ],
      "metadata": {
        "colab": {
          "base_uri": "https://localhost:8080/"
        },
        "id": "K39EgvTsHDuY",
        "outputId": "5900f656-3c0d-426e-91ff-8b2828efd0b4"
      },
      "execution_count": 8,
      "outputs": [
        {
          "output_type": "stream",
          "name": "stdout",
          "text": [
            "P value =  0.6099583638259121\n",
            "Fail to reject Ho\n"
          ]
        }
      ]
    }
  ]
}