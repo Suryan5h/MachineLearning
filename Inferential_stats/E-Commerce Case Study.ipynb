{
 "cells": [
  {
   "cell_type": "markdown",
   "metadata": {},
   "source": [
    "# Problem Statement"
   ]
  },
  {
   "cell_type": "markdown",
   "metadata": {},
   "source": [
    "Ecommerce company is evaluating the customer experience. So they run a survey among the customers to understand the feedback from the customers. They see that late delivery is one most frequent problem faced by the customer. However, the consumer experience manager says that the late delivery % is similar to industry average. We should do hypothesis test to compare organization with industry average which is 0.06.\n",
    "\n",
    "Establish the fact that organization has a poor record in delivery. Evaluate the current algorithm to estimate delivery. The current algo is simplistic. We decide to build a intelligent system which predict delivery date by taking lot of factor into account. We roll out this algorithm for 10% of customer. Compare complaint % between the two samples "
   ]
  },
  {
   "cell_type": "markdown",
   "metadata": {},
   "source": [
    "# Solution"
   ]
  },
  {
   "cell_type": "code",
   "execution_count": 1,
   "metadata": {},
   "outputs": [],
   "source": [
    "import numpy as np\n",
    "import pandas as pd\n",
    "import matplotlib.pyplot as plt\n",
    "import seaborn as sns\n",
    "from statsmodels.stats.weightstats import ttest_ind, ztest\n",
    "from statsmodels.stats.proportion import proportions_ztest\n",
    "from statsmodels.stats.power import tt_ind_solve_power\n",
    "import scipy.stats as sc\n",
    "from scipy.stats import binom, norm, ttest_rel\n",
    "from IPython.display import Image"
   ]
  },
  {
   "cell_type": "code",
   "execution_count": 4,
   "metadata": {},
   "outputs": [],
   "source": [
    "orders = pd.read_csv('ecommerce_orders.csv')"
   ]
  },
  {
   "cell_type": "code",
   "execution_count": 5,
   "metadata": {},
   "outputs": [
    {
     "data": {
      "text/html": [
       "<div>\n",
       "<style scoped>\n",
       "    .dataframe tbody tr th:only-of-type {\n",
       "        vertical-align: middle;\n",
       "    }\n",
       "\n",
       "    .dataframe tbody tr th {\n",
       "        vertical-align: top;\n",
       "    }\n",
       "\n",
       "    .dataframe thead th {\n",
       "        text-align: right;\n",
       "    }\n",
       "</style>\n",
       "<table border=\"1\" class=\"dataframe\">\n",
       "  <thead>\n",
       "    <tr style=\"text-align: right;\">\n",
       "      <th></th>\n",
       "      <th>order_id</th>\n",
       "      <th>customer_id</th>\n",
       "      <th>order_status</th>\n",
       "      <th>order_purchase_timestamp</th>\n",
       "      <th>order_approved_at</th>\n",
       "      <th>order_delivered_carrier_date</th>\n",
       "      <th>order_delivered_customer_date</th>\n",
       "      <th>order_estimated_delivery_date</th>\n",
       "    </tr>\n",
       "  </thead>\n",
       "  <tbody>\n",
       "    <tr>\n",
       "      <th>0</th>\n",
       "      <td>9021fdebb45ac827a6033d6969d5c2e3</td>\n",
       "      <td>7fdeb74955a334e7a83f3bb365c07727</td>\n",
       "      <td>delivered</td>\n",
       "      <td>2017-01-05 19:52:28</td>\n",
       "      <td>2017-01-07 03:35:30</td>\n",
       "      <td>2017-01-09 16:55:33</td>\n",
       "      <td>2017-02-04 22:03:54</td>\n",
       "      <td>2017-02-07 00:00:00</td>\n",
       "    </tr>\n",
       "    <tr>\n",
       "      <th>1</th>\n",
       "      <td>43d29c6fc78c31c80080d85e5260a9fb</td>\n",
       "      <td>41fdaf0dcabfb53a5556c46cd8cc0a32</td>\n",
       "      <td>delivered</td>\n",
       "      <td>2017-01-05 14:36:18</td>\n",
       "      <td>2017-01-07 03:44:12</td>\n",
       "      <td>2017-01-11 16:25:58</td>\n",
       "      <td>2017-02-05 22:35:23</td>\n",
       "      <td>2017-02-01 00:00:00</td>\n",
       "    </tr>\n",
       "    <tr>\n",
       "      <th>2</th>\n",
       "      <td>17fed53ba6dfef9b594ee2268642e2aa</td>\n",
       "      <td>c0352e94059e3e5a714c9ad0c8306a54</td>\n",
       "      <td>delivered</td>\n",
       "      <td>2017-01-05 14:50:54</td>\n",
       "      <td>2017-01-07 03:35:35</td>\n",
       "      <td>2017-01-11 15:59:08</td>\n",
       "      <td>2017-02-07 02:10:29</td>\n",
       "      <td>2017-02-13 00:00:00</td>\n",
       "    </tr>\n",
       "    <tr>\n",
       "      <th>3</th>\n",
       "      <td>f92641ff0446a0e1c57195ebfe76e16a</td>\n",
       "      <td>cd21b89339f05955972dc288787533d3</td>\n",
       "      <td>delivered</td>\n",
       "      <td>2017-01-05 14:42:02</td>\n",
       "      <td>2017-01-07 03:44:08</td>\n",
       "      <td>2017-01-11 16:08:55</td>\n",
       "      <td>2017-02-07 20:36:41</td>\n",
       "      <td>2017-02-13 00:00:00</td>\n",
       "    </tr>\n",
       "    <tr>\n",
       "      <th>4</th>\n",
       "      <td>c9645496b715730a1a5d07eb97a6bf6b</td>\n",
       "      <td>65b9f936439ccafa20f0d6888a5875d3</td>\n",
       "      <td>delivered</td>\n",
       "      <td>2017-01-18 14:56:47</td>\n",
       "      <td>2017-01-24 15:25:11</td>\n",
       "      <td>2017-01-25 10:07:43</td>\n",
       "      <td>2017-02-08 00:18:25</td>\n",
       "      <td>2017-02-14 00:00:00</td>\n",
       "    </tr>\n",
       "  </tbody>\n",
       "</table>\n",
       "</div>"
      ],
      "text/plain": [
       "                           order_id                       customer_id  \\\n",
       "0  9021fdebb45ac827a6033d6969d5c2e3  7fdeb74955a334e7a83f3bb365c07727   \n",
       "1  43d29c6fc78c31c80080d85e5260a9fb  41fdaf0dcabfb53a5556c46cd8cc0a32   \n",
       "2  17fed53ba6dfef9b594ee2268642e2aa  c0352e94059e3e5a714c9ad0c8306a54   \n",
       "3  f92641ff0446a0e1c57195ebfe76e16a  cd21b89339f05955972dc288787533d3   \n",
       "4  c9645496b715730a1a5d07eb97a6bf6b  65b9f936439ccafa20f0d6888a5875d3   \n",
       "\n",
       "  order_status order_purchase_timestamp    order_approved_at  \\\n",
       "0    delivered      2017-01-05 19:52:28  2017-01-07 03:35:30   \n",
       "1    delivered      2017-01-05 14:36:18  2017-01-07 03:44:12   \n",
       "2    delivered      2017-01-05 14:50:54  2017-01-07 03:35:35   \n",
       "3    delivered      2017-01-05 14:42:02  2017-01-07 03:44:08   \n",
       "4    delivered      2017-01-18 14:56:47  2017-01-24 15:25:11   \n",
       "\n",
       "  order_delivered_carrier_date order_delivered_customer_date  \\\n",
       "0          2017-01-09 16:55:33           2017-02-04 22:03:54   \n",
       "1          2017-01-11 16:25:58           2017-02-05 22:35:23   \n",
       "2          2017-01-11 15:59:08           2017-02-07 02:10:29   \n",
       "3          2017-01-11 16:08:55           2017-02-07 20:36:41   \n",
       "4          2017-01-25 10:07:43           2017-02-08 00:18:25   \n",
       "\n",
       "  order_estimated_delivery_date  \n",
       "0           2017-02-07 00:00:00  \n",
       "1           2017-02-01 00:00:00  \n",
       "2           2017-02-13 00:00:00  \n",
       "3           2017-02-13 00:00:00  \n",
       "4           2017-02-14 00:00:00  "
      ]
     },
     "execution_count": 5,
     "metadata": {},
     "output_type": "execute_result"
    }
   ],
   "source": [
    "orders.head()"
   ]
  },
  {
   "cell_type": "code",
   "execution_count": 7,
   "metadata": {},
   "outputs": [],
   "source": [
    "# Reading reviews data\n",
    "reviews = pd.read_csv('ecommerce_reviews.csv')"
   ]
  },
  {
   "cell_type": "code",
   "execution_count": 8,
   "metadata": {},
   "outputs": [
    {
     "data": {
      "text/html": [
       "<div>\n",
       "<style scoped>\n",
       "    .dataframe tbody tr th:only-of-type {\n",
       "        vertical-align: middle;\n",
       "    }\n",
       "\n",
       "    .dataframe tbody tr th {\n",
       "        vertical-align: top;\n",
       "    }\n",
       "\n",
       "    .dataframe thead th {\n",
       "        text-align: right;\n",
       "    }\n",
       "</style>\n",
       "<table border=\"1\" class=\"dataframe\">\n",
       "  <thead>\n",
       "    <tr style=\"text-align: right;\">\n",
       "      <th></th>\n",
       "      <th>review_id</th>\n",
       "      <th>review_score</th>\n",
       "      <th>review_creation_date</th>\n",
       "      <th>review_title</th>\n",
       "      <th>order_id</th>\n",
       "    </tr>\n",
       "  </thead>\n",
       "  <tbody>\n",
       "    <tr>\n",
       "      <th>0</th>\n",
       "      <td>ef468ee6d6910150dc4ea20c19ad116d</td>\n",
       "      <td>2</td>\n",
       "      <td>2017-01-14 00:00:00</td>\n",
       "      <td>Bad Customer Service</td>\n",
       "      <td>9021fdebb45ac827a6033d6969d5c2e3</td>\n",
       "    </tr>\n",
       "    <tr>\n",
       "      <th>1</th>\n",
       "      <td>6ac9995954fe04381af93a85fb0d2db9</td>\n",
       "      <td>5</td>\n",
       "      <td>2017-01-17 00:00:00</td>\n",
       "      <td>Bad Quality</td>\n",
       "      <td>43d29c6fc78c31c80080d85e5260a9fb</td>\n",
       "    </tr>\n",
       "    <tr>\n",
       "      <th>2</th>\n",
       "      <td>9e6b49679769d18c3586112818627c07</td>\n",
       "      <td>5</td>\n",
       "      <td>2017-01-17 00:00:00</td>\n",
       "      <td>NaN</td>\n",
       "      <td>17fed53ba6dfef9b594ee2268642e2aa</td>\n",
       "    </tr>\n",
       "    <tr>\n",
       "      <th>3</th>\n",
       "      <td>9d1eb9becd0831bc797562f303f2b477</td>\n",
       "      <td>5</td>\n",
       "      <td>2017-01-18 00:00:00</td>\n",
       "      <td>NaN</td>\n",
       "      <td>f92641ff0446a0e1c57195ebfe76e16a</td>\n",
       "    </tr>\n",
       "    <tr>\n",
       "      <th>4</th>\n",
       "      <td>e2fd85e5df711bd91e6e96e13c741843</td>\n",
       "      <td>4</td>\n",
       "      <td>2017-01-31 00:00:00</td>\n",
       "      <td>NaN</td>\n",
       "      <td>c9645496b715730a1a5d07eb97a6bf6b</td>\n",
       "    </tr>\n",
       "  </tbody>\n",
       "</table>\n",
       "</div>"
      ],
      "text/plain": [
       "                          review_id  review_score review_creation_date  \\\n",
       "0  ef468ee6d6910150dc4ea20c19ad116d             2  2017-01-14 00:00:00   \n",
       "1  6ac9995954fe04381af93a85fb0d2db9             5  2017-01-17 00:00:00   \n",
       "2  9e6b49679769d18c3586112818627c07             5  2017-01-17 00:00:00   \n",
       "3  9d1eb9becd0831bc797562f303f2b477             5  2017-01-18 00:00:00   \n",
       "4  e2fd85e5df711bd91e6e96e13c741843             4  2017-01-31 00:00:00   \n",
       "\n",
       "           review_title                          order_id  \n",
       "0  Bad Customer Service  9021fdebb45ac827a6033d6969d5c2e3  \n",
       "1           Bad Quality  43d29c6fc78c31c80080d85e5260a9fb  \n",
       "2                   NaN  17fed53ba6dfef9b594ee2268642e2aa  \n",
       "3                   NaN  f92641ff0446a0e1c57195ebfe76e16a  \n",
       "4                   NaN  c9645496b715730a1a5d07eb97a6bf6b  "
      ]
     },
     "execution_count": 8,
     "metadata": {},
     "output_type": "execute_result"
    }
   ],
   "source": [
    "reviews.head()"
   ]
  },
  {
   "cell_type": "code",
   "execution_count": 9,
   "metadata": {},
   "outputs": [],
   "source": [
    "# Merging the orders dataset with the reviews dataset\n",
    "order_reviews = pd.merge(orders, reviews, how='left', left_on='order_id', right_on= 'order_id')"
   ]
  },
  {
   "cell_type": "code",
   "execution_count": 10,
   "metadata": {},
   "outputs": [
    {
     "data": {
      "text/html": [
       "<div>\n",
       "<style scoped>\n",
       "    .dataframe tbody tr th:only-of-type {\n",
       "        vertical-align: middle;\n",
       "    }\n",
       "\n",
       "    .dataframe tbody tr th {\n",
       "        vertical-align: top;\n",
       "    }\n",
       "\n",
       "    .dataframe thead th {\n",
       "        text-align: right;\n",
       "    }\n",
       "</style>\n",
       "<table border=\"1\" class=\"dataframe\">\n",
       "  <thead>\n",
       "    <tr style=\"text-align: right;\">\n",
       "      <th></th>\n",
       "      <th>order_id</th>\n",
       "      <th>customer_id</th>\n",
       "      <th>order_status</th>\n",
       "      <th>order_purchase_timestamp</th>\n",
       "      <th>order_approved_at</th>\n",
       "      <th>order_delivered_carrier_date</th>\n",
       "      <th>order_delivered_customer_date</th>\n",
       "      <th>order_estimated_delivery_date</th>\n",
       "      <th>review_id</th>\n",
       "      <th>review_score</th>\n",
       "      <th>review_creation_date</th>\n",
       "      <th>review_title</th>\n",
       "    </tr>\n",
       "  </thead>\n",
       "  <tbody>\n",
       "    <tr>\n",
       "      <th>0</th>\n",
       "      <td>9021fdebb45ac827a6033d6969d5c2e3</td>\n",
       "      <td>7fdeb74955a334e7a83f3bb365c07727</td>\n",
       "      <td>delivered</td>\n",
       "      <td>2017-01-05 19:52:28</td>\n",
       "      <td>2017-01-07 03:35:30</td>\n",
       "      <td>2017-01-09 16:55:33</td>\n",
       "      <td>2017-02-04 22:03:54</td>\n",
       "      <td>2017-02-07 00:00:00</td>\n",
       "      <td>ef468ee6d6910150dc4ea20c19ad116d</td>\n",
       "      <td>2</td>\n",
       "      <td>2017-01-14 00:00:00</td>\n",
       "      <td>Bad Customer Service</td>\n",
       "    </tr>\n",
       "    <tr>\n",
       "      <th>1</th>\n",
       "      <td>43d29c6fc78c31c80080d85e5260a9fb</td>\n",
       "      <td>41fdaf0dcabfb53a5556c46cd8cc0a32</td>\n",
       "      <td>delivered</td>\n",
       "      <td>2017-01-05 14:36:18</td>\n",
       "      <td>2017-01-07 03:44:12</td>\n",
       "      <td>2017-01-11 16:25:58</td>\n",
       "      <td>2017-02-05 22:35:23</td>\n",
       "      <td>2017-02-01 00:00:00</td>\n",
       "      <td>6ac9995954fe04381af93a85fb0d2db9</td>\n",
       "      <td>5</td>\n",
       "      <td>2017-01-17 00:00:00</td>\n",
       "      <td>Bad Quality</td>\n",
       "    </tr>\n",
       "    <tr>\n",
       "      <th>2</th>\n",
       "      <td>17fed53ba6dfef9b594ee2268642e2aa</td>\n",
       "      <td>c0352e94059e3e5a714c9ad0c8306a54</td>\n",
       "      <td>delivered</td>\n",
       "      <td>2017-01-05 14:50:54</td>\n",
       "      <td>2017-01-07 03:35:35</td>\n",
       "      <td>2017-01-11 15:59:08</td>\n",
       "      <td>2017-02-07 02:10:29</td>\n",
       "      <td>2017-02-13 00:00:00</td>\n",
       "      <td>9e6b49679769d18c3586112818627c07</td>\n",
       "      <td>5</td>\n",
       "      <td>2017-01-17 00:00:00</td>\n",
       "      <td>NaN</td>\n",
       "    </tr>\n",
       "    <tr>\n",
       "      <th>3</th>\n",
       "      <td>f92641ff0446a0e1c57195ebfe76e16a</td>\n",
       "      <td>cd21b89339f05955972dc288787533d3</td>\n",
       "      <td>delivered</td>\n",
       "      <td>2017-01-05 14:42:02</td>\n",
       "      <td>2017-01-07 03:44:08</td>\n",
       "      <td>2017-01-11 16:08:55</td>\n",
       "      <td>2017-02-07 20:36:41</td>\n",
       "      <td>2017-02-13 00:00:00</td>\n",
       "      <td>9d1eb9becd0831bc797562f303f2b477</td>\n",
       "      <td>5</td>\n",
       "      <td>2017-01-18 00:00:00</td>\n",
       "      <td>NaN</td>\n",
       "    </tr>\n",
       "    <tr>\n",
       "      <th>4</th>\n",
       "      <td>c9645496b715730a1a5d07eb97a6bf6b</td>\n",
       "      <td>65b9f936439ccafa20f0d6888a5875d3</td>\n",
       "      <td>delivered</td>\n",
       "      <td>2017-01-18 14:56:47</td>\n",
       "      <td>2017-01-24 15:25:11</td>\n",
       "      <td>2017-01-25 10:07:43</td>\n",
       "      <td>2017-02-08 00:18:25</td>\n",
       "      <td>2017-02-14 00:00:00</td>\n",
       "      <td>e2fd85e5df711bd91e6e96e13c741843</td>\n",
       "      <td>4</td>\n",
       "      <td>2017-01-31 00:00:00</td>\n",
       "      <td>NaN</td>\n",
       "    </tr>\n",
       "  </tbody>\n",
       "</table>\n",
       "</div>"
      ],
      "text/plain": [
       "                           order_id                       customer_id  \\\n",
       "0  9021fdebb45ac827a6033d6969d5c2e3  7fdeb74955a334e7a83f3bb365c07727   \n",
       "1  43d29c6fc78c31c80080d85e5260a9fb  41fdaf0dcabfb53a5556c46cd8cc0a32   \n",
       "2  17fed53ba6dfef9b594ee2268642e2aa  c0352e94059e3e5a714c9ad0c8306a54   \n",
       "3  f92641ff0446a0e1c57195ebfe76e16a  cd21b89339f05955972dc288787533d3   \n",
       "4  c9645496b715730a1a5d07eb97a6bf6b  65b9f936439ccafa20f0d6888a5875d3   \n",
       "\n",
       "  order_status order_purchase_timestamp    order_approved_at  \\\n",
       "0    delivered      2017-01-05 19:52:28  2017-01-07 03:35:30   \n",
       "1    delivered      2017-01-05 14:36:18  2017-01-07 03:44:12   \n",
       "2    delivered      2017-01-05 14:50:54  2017-01-07 03:35:35   \n",
       "3    delivered      2017-01-05 14:42:02  2017-01-07 03:44:08   \n",
       "4    delivered      2017-01-18 14:56:47  2017-01-24 15:25:11   \n",
       "\n",
       "  order_delivered_carrier_date order_delivered_customer_date  \\\n",
       "0          2017-01-09 16:55:33           2017-02-04 22:03:54   \n",
       "1          2017-01-11 16:25:58           2017-02-05 22:35:23   \n",
       "2          2017-01-11 15:59:08           2017-02-07 02:10:29   \n",
       "3          2017-01-11 16:08:55           2017-02-07 20:36:41   \n",
       "4          2017-01-25 10:07:43           2017-02-08 00:18:25   \n",
       "\n",
       "  order_estimated_delivery_date                         review_id  \\\n",
       "0           2017-02-07 00:00:00  ef468ee6d6910150dc4ea20c19ad116d   \n",
       "1           2017-02-01 00:00:00  6ac9995954fe04381af93a85fb0d2db9   \n",
       "2           2017-02-13 00:00:00  9e6b49679769d18c3586112818627c07   \n",
       "3           2017-02-13 00:00:00  9d1eb9becd0831bc797562f303f2b477   \n",
       "4           2017-02-14 00:00:00  e2fd85e5df711bd91e6e96e13c741843   \n",
       "\n",
       "   review_score review_creation_date          review_title  \n",
       "0             2  2017-01-14 00:00:00  Bad Customer Service  \n",
       "1             5  2017-01-17 00:00:00           Bad Quality  \n",
       "2             5  2017-01-17 00:00:00                   NaN  \n",
       "3             5  2017-01-18 00:00:00                   NaN  \n",
       "4             4  2017-01-31 00:00:00                   NaN  "
      ]
     },
     "execution_count": 10,
     "metadata": {},
     "output_type": "execute_result"
    }
   ],
   "source": [
    "order_reviews.head()"
   ]
  },
  {
   "cell_type": "code",
   "execution_count": 11,
   "metadata": {},
   "outputs": [],
   "source": [
    "# Removing any missing values in the order_ids and delivery dates\n",
    "order_reviews = order_reviews.dropna(subset = ['order_id', 'order_delivered_customer_date'])"
   ]
  },
  {
   "cell_type": "code",
   "execution_count": 12,
   "metadata": {},
   "outputs": [],
   "source": [
    "# Sorting the value by the date\n",
    "order_reviews = order_reviews.sort_values(by='order_delivered_customer_date').reset_index(drop=True)"
   ]
  },
  {
   "cell_type": "code",
   "execution_count": 13,
   "metadata": {},
   "outputs": [],
   "source": [
    "# Removing duplicate values from the order_reviews dataset\n",
    "order_reviews = order_reviews.drop_duplicates(subset='order_id')"
   ]
  },
  {
   "cell_type": "code",
   "execution_count": 14,
   "metadata": {},
   "outputs": [],
   "source": [
    "# Dropping columns irrelevant to the problem statement\n",
    "order_reviews = order_reviews.drop(columns = ['customer_id', 'order_status', 'order_purchase_timestamp', 'order_delivered_carrier_date'])"
   ]
  },
  {
   "cell_type": "markdown",
   "metadata": {},
   "source": [
    "### 1. Establish the fact that organization has a poor record in delivery. "
   ]
  },
  {
   "cell_type": "code",
   "execution_count": 15,
   "metadata": {},
   "outputs": [
    {
     "data": {
      "text/plain": [
       "(-10.0, 60.0)"
      ]
     },
     "execution_count": 15,
     "metadata": {},
     "output_type": "execute_result"
    },
    {
     "data": {
      "image/png": "[encoded data removed]",
      "text/plain": [
       "<Figure size 720x288 with 1 Axes>"
      ]
     },
     "metadata": {
      "needs_background": "light"
     },
     "output_type": "display_data"
    }
   ],
   "source": [
    "# Comparing the actual delivery time against the estimated delivery time\n",
    "\n",
    "# Converting all the dates to pandas datetime format\n",
    "order_reviews['order_approved_at'] = pd.to_datetime(order_reviews['order_approved_at'])\n",
    "order_reviews['order_estimated_delivery_date'] = pd.to_datetime(order_reviews['order_estimated_delivery_date'])\n",
    "order_reviews['order_delivered_customer_date'] = pd.to_datetime(order_reviews['order_delivered_customer_date'])\n",
    "\n",
    "# Calculate actual delivery time from customer buying the product to receiveing the product\n",
    "order_reviews['actual_delivery_time'] = (order_reviews['order_delivered_customer_date'] - order_reviews['order_approved_at']).dt.total_seconds() / 86400\n",
    "\n",
    "# Calculating the estimated delivery time\n",
    "order_reviews['estimated_delivery_time'] = (order_reviews['order_estimated_delivery_date'] - order_reviews['order_approved_at']).dt.total_seconds() / 86400\n",
    "\n",
    "# Comparing the actual delivery time and estimated delivery time\n",
    "plt.figure(figsize=(10,4))\n",
    "plt.title(\"Delivery time in days\")\n",
    "\n",
    "ax1 = sns.kdeplot(order_reviews['actual_delivery_time'].dropna(), color=\"red\", label='Actual Delivery time')\n",
    "ax2 = sns.kdeplot(order_reviews['estimated_delivery_time'].dropna(), color=\"blue\", label='Estimated delivery time')\n",
    "\n",
    "plt.xlim(-10, 60)"
   ]
  },
  {
   "cell_type": "markdown",
   "metadata": {},
   "source": [
    "### Comparing the means between **'actual_delivery_time'** and **'estimated_delivery_time'**"
   ]
  },
  {
   "cell_type": "code",
   "execution_count": 16,
   "metadata": {},
   "outputs": [],
   "source": [
    "# Testing for a significant difference between the estimated delivery time and actual delivery time\n",
    "sample1 = np.array(order_reviews['actual_delivery_time'].dropna())\n",
    "sample2 = np.array(order_reviews['estimated_delivery_time'].dropna())"
   ]
  },
  {
   "cell_type": "code",
   "execution_count": 17,
   "metadata": {},
   "outputs": [
    {
     "data": {
      "image/png": "[encoded data removed]",
      "text/plain": [
       "<IPython.core.display.Image object>"
      ]
     },
     "execution_count": 17,
     "metadata": {},
     "output_type": "execute_result"
    }
   ],
   "source": [
    "Image('Hypothesis_comparing_means.png')"
   ]
  },
  {
   "cell_type": "markdown",
   "metadata": {},
   "source": [
    "### Testing matched samples t tests"
   ]
  },
  {
   "cell_type": "code",
   "execution_count": 18,
   "metadata": {},
   "outputs": [],
   "source": [
    "# Matched sample test\n",
    "t_statistic, p_value = ttest_rel(sample1, sample2)"
   ]
  },
  {
   "cell_type": "code",
   "execution_count": 19,
   "metadata": {},
   "outputs": [
    {
     "name": "stdout",
     "output_type": "stream",
     "text": [
      "P value =  1.1313533589878193e-09\n",
      "Reject H0\n",
      "There is a significant difference between the estimated delivery time and actual delivery time\n"
     ]
    }
   ],
   "source": [
    "α = 0.05\n",
    "\n",
    "# Checking p value against α\n",
    "if p_value < α:\n",
    "    print('P value = ', p_value)\n",
    "    print('Reject H0')\n",
    "    print('There is a significant difference between the estimated delivery time and actual delivery time')\n",
    "else:\n",
    "    print('P value = ', p_value)\n",
    "    print('Cannot Reject H0')"
   ]
  },
  {
   "cell_type": "code",
   "execution_count": 20,
   "metadata": {},
   "outputs": [
    {
     "data": {
      "text/plain": [
       "Late Delivery             3985\n",
       "Great Customer Service    3170\n",
       "Great product             3035\n",
       "Bad Quality               2996\n",
       "Wrong Product             2975\n",
       "Product was broken        2964\n",
       "Bad Customer Service      2946\n",
       "Not User Friendly         2841\n",
       "Name: review_title, dtype: int64"
      ]
     },
     "execution_count": 20,
     "metadata": {},
     "output_type": "execute_result"
    }
   ],
   "source": [
    "# Frequency of reviews given by customers\n",
    "order_reviews.review_title.value_counts()"
   ]
  },
  {
   "cell_type": "code",
   "execution_count": 22,
   "metadata": {},
   "outputs": [
    {
     "name": "stderr",
     "output_type": "stream",
     "text": [
      "C:\\Users\\Asus\\AppData\\Local\\Temp/ipykernel_15348/3567905524.py:4: FutureWarning: Series.dt.weekofyear and Series.dt.week have been deprecated.  Please use Series.dt.isocalendar().week instead.\n",
      "  order_reviews['delivery_week'] = order_reviews['order_delivered_customer_date'].dt.week.astype(str)\n"
     ]
    }
   ],
   "source": [
    "# Weekly Analysis of the reviews\n",
    "\n",
    "# Week number when the customer recieved the delivery\n",
    "order_reviews['delivery_week'] = order_reviews['order_delivered_customer_date'].dt.week.astype(str)\n",
    "\n",
    "# Year number when the customer recieved the delivery\n",
    "order_reviews['delivery_year'] = order_reviews['order_delivered_customer_date'].dt.year.astype(str)\n",
    "\n",
    "# Creating a unique identifier for the week and the year of the date when the order was delivered\n",
    "order_reviews['delivery_year_week'] = order_reviews['delivery_year'] + order_reviews['delivery_week']"
   ]
  },
  {
   "cell_type": "code",
   "execution_count": 23,
   "metadata": {},
   "outputs": [
    {
     "data": {
      "text/html": [
       "<div>\n",
       "<style scoped>\n",
       "    .dataframe tbody tr th:only-of-type {\n",
       "        vertical-align: middle;\n",
       "    }\n",
       "\n",
       "    .dataframe tbody tr th {\n",
       "        vertical-align: top;\n",
       "    }\n",
       "\n",
       "    .dataframe thead th {\n",
       "        text-align: right;\n",
       "    }\n",
       "</style>\n",
       "<table border=\"1\" class=\"dataframe\">\n",
       "  <thead>\n",
       "    <tr style=\"text-align: right;\">\n",
       "      <th></th>\n",
       "      <th>order_id</th>\n",
       "      <th>order_approved_at</th>\n",
       "      <th>order_delivered_customer_date</th>\n",
       "      <th>order_estimated_delivery_date</th>\n",
       "      <th>review_id</th>\n",
       "      <th>review_score</th>\n",
       "      <th>review_creation_date</th>\n",
       "      <th>review_title</th>\n",
       "      <th>actual_delivery_time</th>\n",
       "      <th>estimated_delivery_time</th>\n",
       "      <th>delivery_week</th>\n",
       "      <th>delivery_year</th>\n",
       "      <th>delivery_year_week</th>\n",
       "    </tr>\n",
       "  </thead>\n",
       "  <tbody>\n",
       "    <tr>\n",
       "      <th>0</th>\n",
       "      <td>9021fdebb45ac827a6033d6969d5c2e3</td>\n",
       "      <td>2017-01-07 03:35:30</td>\n",
       "      <td>2017-02-04 22:03:54</td>\n",
       "      <td>2017-02-07</td>\n",
       "      <td>ef468ee6d6910150dc4ea20c19ad116d</td>\n",
       "      <td>2</td>\n",
       "      <td>2017-01-14 00:00:00</td>\n",
       "      <td>Bad Customer Service</td>\n",
       "      <td>28.769722</td>\n",
       "      <td>30.850347</td>\n",
       "      <td>5</td>\n",
       "      <td>2017</td>\n",
       "      <td>20175</td>\n",
       "    </tr>\n",
       "    <tr>\n",
       "      <th>1</th>\n",
       "      <td>43d29c6fc78c31c80080d85e5260a9fb</td>\n",
       "      <td>2017-01-07 03:44:12</td>\n",
       "      <td>2017-02-05 22:35:23</td>\n",
       "      <td>2017-02-01</td>\n",
       "      <td>6ac9995954fe04381af93a85fb0d2db9</td>\n",
       "      <td>5</td>\n",
       "      <td>2017-01-17 00:00:00</td>\n",
       "      <td>Bad Quality</td>\n",
       "      <td>29.785544</td>\n",
       "      <td>24.844306</td>\n",
       "      <td>5</td>\n",
       "      <td>2017</td>\n",
       "      <td>20175</td>\n",
       "    </tr>\n",
       "    <tr>\n",
       "      <th>2</th>\n",
       "      <td>17fed53ba6dfef9b594ee2268642e2aa</td>\n",
       "      <td>2017-01-07 03:35:35</td>\n",
       "      <td>2017-02-07 02:10:29</td>\n",
       "      <td>2017-02-13</td>\n",
       "      <td>9e6b49679769d18c3586112818627c07</td>\n",
       "      <td>5</td>\n",
       "      <td>2017-01-17 00:00:00</td>\n",
       "      <td>NaN</td>\n",
       "      <td>30.940903</td>\n",
       "      <td>36.850289</td>\n",
       "      <td>6</td>\n",
       "      <td>2017</td>\n",
       "      <td>20176</td>\n",
       "    </tr>\n",
       "    <tr>\n",
       "      <th>3</th>\n",
       "      <td>f92641ff0446a0e1c57195ebfe76e16a</td>\n",
       "      <td>2017-01-07 03:44:08</td>\n",
       "      <td>2017-02-07 20:36:41</td>\n",
       "      <td>2017-02-13</td>\n",
       "      <td>9d1eb9becd0831bc797562f303f2b477</td>\n",
       "      <td>5</td>\n",
       "      <td>2017-01-18 00:00:00</td>\n",
       "      <td>NaN</td>\n",
       "      <td>31.703160</td>\n",
       "      <td>36.844352</td>\n",
       "      <td>6</td>\n",
       "      <td>2017</td>\n",
       "      <td>20176</td>\n",
       "    </tr>\n",
       "    <tr>\n",
       "      <th>4</th>\n",
       "      <td>c9645496b715730a1a5d07eb97a6bf6b</td>\n",
       "      <td>2017-01-24 15:25:11</td>\n",
       "      <td>2017-02-08 00:18:25</td>\n",
       "      <td>2017-02-14</td>\n",
       "      <td>e2fd85e5df711bd91e6e96e13c741843</td>\n",
       "      <td>4</td>\n",
       "      <td>2017-01-31 00:00:00</td>\n",
       "      <td>NaN</td>\n",
       "      <td>14.370301</td>\n",
       "      <td>20.357512</td>\n",
       "      <td>6</td>\n",
       "      <td>2017</td>\n",
       "      <td>20176</td>\n",
       "    </tr>\n",
       "  </tbody>\n",
       "</table>\n",
       "</div>"
      ],
      "text/plain": [
       "                           order_id   order_approved_at  \\\n",
       "0  9021fdebb45ac827a6033d6969d5c2e3 2017-01-07 03:35:30   \n",
       "1  43d29c6fc78c31c80080d85e5260a9fb 2017-01-07 03:44:12   \n",
       "2  17fed53ba6dfef9b594ee2268642e2aa 2017-01-07 03:35:35   \n",
       "3  f92641ff0446a0e1c57195ebfe76e16a 2017-01-07 03:44:08   \n",
       "4  c9645496b715730a1a5d07eb97a6bf6b 2017-01-24 15:25:11   \n",
       "\n",
       "  order_delivered_customer_date order_estimated_delivery_date  \\\n",
       "0           2017-02-04 22:03:54                    2017-02-07   \n",
       "1           2017-02-05 22:35:23                    2017-02-01   \n",
       "2           2017-02-07 02:10:29                    2017-02-13   \n",
       "3           2017-02-07 20:36:41                    2017-02-13   \n",
       "4           2017-02-08 00:18:25                    2017-02-14   \n",
       "\n",
       "                          review_id  review_score review_creation_date  \\\n",
       "0  ef468ee6d6910150dc4ea20c19ad116d             2  2017-01-14 00:00:00   \n",
       "1  6ac9995954fe04381af93a85fb0d2db9             5  2017-01-17 00:00:00   \n",
       "2  9e6b49679769d18c3586112818627c07             5  2017-01-17 00:00:00   \n",
       "3  9d1eb9becd0831bc797562f303f2b477             5  2017-01-18 00:00:00   \n",
       "4  e2fd85e5df711bd91e6e96e13c741843             4  2017-01-31 00:00:00   \n",
       "\n",
       "           review_title  actual_delivery_time  estimated_delivery_time  \\\n",
       "0  Bad Customer Service             28.769722                30.850347   \n",
       "1           Bad Quality             29.785544                24.844306   \n",
       "2                   NaN             30.940903                36.850289   \n",
       "3                   NaN             31.703160                36.844352   \n",
       "4                   NaN             14.370301                20.357512   \n",
       "\n",
       "  delivery_week delivery_year delivery_year_week  \n",
       "0             5          2017              20175  \n",
       "1             5          2017              20175  \n",
       "2             6          2017              20176  \n",
       "3             6          2017              20176  \n",
       "4             6          2017              20176  "
      ]
     },
     "execution_count": 23,
     "metadata": {},
     "output_type": "execute_result"
    }
   ],
   "source": [
    "order_reviews.head()"
   ]
  },
  {
   "cell_type": "code",
   "execution_count": 24,
   "metadata": {},
   "outputs": [],
   "source": [
    "pd.set_option('display.max_rows', order_reviews.shape[0]+1)"
   ]
  },
  {
   "cell_type": "code",
   "execution_count": 25,
   "metadata": {},
   "outputs": [
    {
     "data": {
      "text/plain": [
       "delivery_year_week\n",
       "201710             Late Delivery\n",
       "201711             Late Delivery\n",
       "201712      Bad Customer Service\n",
       "201713             Late Delivery\n",
       "201714               Bad Quality\n",
       "201715             Late Delivery\n",
       "201716             Late Delivery\n",
       "201717             Late Delivery\n",
       "201718             Great product\n",
       "201719        Product was broken\n",
       "201720             Late Delivery\n",
       "201721      Bad Customer Service\n",
       "201722             Late Delivery\n",
       "201723             Late Delivery\n",
       "201724             Late Delivery\n",
       "201725             Great product\n",
       "201726               Bad Quality\n",
       "201727             Late Delivery\n",
       "201728             Late Delivery\n",
       "201729             Late Delivery\n",
       "201730        Product was broken\n",
       "201731             Late Delivery\n",
       "201732    Great Customer Service\n",
       "201733             Late Delivery\n",
       "201734             Late Delivery\n",
       "201735             Late Delivery\n",
       "201736             Late Delivery\n",
       "201737    Great Customer Service\n",
       "201738             Late Delivery\n",
       "201739             Late Delivery\n",
       "201740             Late Delivery\n",
       "201741             Late Delivery\n",
       "201742             Late Delivery\n",
       "201743             Late Delivery\n",
       "201744             Late Delivery\n",
       "201745    Great Customer Service\n",
       "201746             Late Delivery\n",
       "201747             Wrong Product\n",
       "201748             Late Delivery\n",
       "201749             Late Delivery\n",
       "20175       Bad Customer Service\n",
       "201750             Late Delivery\n",
       "201751             Late Delivery\n",
       "201752             Late Delivery\n",
       "20176       Bad Customer Service\n",
       "20177         Product was broken\n",
       "20178       Bad Customer Service\n",
       "20179              Wrong Product\n",
       "20181              Late Delivery\n",
       "201810             Late Delivery\n",
       "201811             Late Delivery\n",
       "201812             Late Delivery\n",
       "201813    Great Customer Service\n",
       "201814             Late Delivery\n",
       "20182              Late Delivery\n",
       "20183       Bad Customer Service\n",
       "20184                Bad Quality\n",
       "20185              Late Delivery\n",
       "20186              Late Delivery\n",
       "20187              Late Delivery\n",
       "20188              Late Delivery\n",
       "20189              Late Delivery\n",
       "Name: review_title, dtype: object"
      ]
     },
     "execution_count": 25,
     "metadata": {},
     "output_type": "execute_result"
    }
   ],
   "source": [
    "# Most common review on a weekly basis\n",
    "order_reviews.groupby(['delivery_year_week'])['review_title'].apply(lambda x:x.value_counts().index[0])"
   ]
  },
  {
   "cell_type": "code",
   "execution_count": 26,
   "metadata": {},
   "outputs": [],
   "source": [
    "# Using this function, you can adjust the number of rows you want to be displayed while printing the dataframe\n",
    "pd.set_option('display.max_rows', 10)"
   ]
  },
  {
   "cell_type": "markdown",
   "metadata": {},
   "source": [
    "### Testing proportion of Late Delivery reviews"
   ]
  },
  {
   "cell_type": "code",
   "execution_count": 27,
   "metadata": {},
   "outputs": [],
   "source": [
    "# Count of Late Delivery orders per week\n",
    "num_late_delivery_weekly = order_reviews.groupby(order_reviews.delivery_year_week).review_title.apply(lambda x: (x=='Late Delivery').sum())"
   ]
  },
  {
   "cell_type": "code",
   "execution_count": 28,
   "metadata": {},
   "outputs": [],
   "source": [
    "# Count of orders per week\n",
    "num_orders_weekly = order_reviews.groupby(order_reviews.delivery_year_week).order_id.count()"
   ]
  },
  {
   "cell_type": "code",
   "execution_count": 30,
   "metadata": {},
   "outputs": [],
   "source": [
    "proportion_late_deliveries = num_late_delivery_weekly/ num_orders_weekly"
   ]
  },
  {
   "cell_type": "code",
   "execution_count": 31,
   "metadata": {},
   "outputs": [
    {
     "data": {
      "text/plain": [
       "0.06358674398735424"
      ]
     },
     "execution_count": 31,
     "metadata": {},
     "output_type": "execute_result"
    }
   ],
   "source": [
    "np.mean(proportion_late_deliveries)"
   ]
  },
  {
   "cell_type": "markdown",
   "metadata": {},
   "source": [
    "### 2) Conduct a hypothesis test to compare the organization late delivery % with the industry average which is 6%"
   ]
  },
  {
   "cell_type": "code",
   "execution_count": 32,
   "metadata": {},
   "outputs": [
    {
     "data": {
      "image/png": "[encoded data removed]",
      "text/plain": [
       "<IPython.core.display.Image object>"
      ]
     },
     "execution_count": 32,
     "metadata": {},
     "output_type": "execute_result"
    }
   ],
   "source": [
    "Image('Hypothesis_Testing_proportion_.png')"
   ]
  },
  {
   "cell_type": "code",
   "execution_count": 33,
   "metadata": {},
   "outputs": [],
   "source": [
    "successes = np.sum(num_late_delivery_weekly)\n",
    "sample_size = np.sum(num_orders_weekly)"
   ]
  },
  {
   "cell_type": "code",
   "execution_count": 34,
   "metadata": {},
   "outputs": [
    {
     "name": "stdout",
     "output_type": "stream",
     "text": [
      "3985\n",
      "61005\n"
     ]
    }
   ],
   "source": [
    "print(successes)\n",
    "print(sample_size)"
   ]
  },
  {
   "cell_type": "code",
   "execution_count": 35,
   "metadata": {},
   "outputs": [],
   "source": [
    "#Hypo. testing with single population\n",
    "z_statistic, p_value = proportions_ztest(successes, sample_size, value = 0.06, alternative = 'larger')"
   ]
  },
  {
   "cell_type": "markdown",
   "metadata": {},
   "source": [
    "#### **Note:** <br>\n",
    "\n",
    "**Ha: p < 0.06 (1 tailed test)**<br>\n",
    "alternative = 'smaller'\n",
    "\n",
    "**Ha: p > 0.06 (1 tailed test)**<br>\n",
    "alternative = 'larger'\n",
    "\n",
    "**Ha: p != 0.06 (2 tailed test)**<br>\n",
    "alternative = 'two-sided'"
   ]
  },
  {
   "cell_type": "code",
   "execution_count": 36,
   "metadata": {},
   "outputs": [
    {
     "data": {
      "text/plain": [
       "5.179425725521796e-08"
      ]
     },
     "execution_count": 36,
     "metadata": {},
     "output_type": "execute_result"
    }
   ],
   "source": [
    "p_value"
   ]
  },
  {
   "cell_type": "code",
   "execution_count": 38,
   "metadata": {},
   "outputs": [
    {
     "name": "stdout",
     "output_type": "stream",
     "text": [
      "P value =  5.179425725521796e-08\n",
      "Reject H0\n",
      "The proportion of Late Delivery complaints is > 0.06\n"
     ]
    }
   ],
   "source": [
    "α = 0.05\n",
    "\n",
    "# Checking p value against α\n",
    "if p_value < α:\n",
    "    print('P value = ', p_value)\n",
    "    print('Reject H0')\n",
    "    print('The proportion of Late Delivery complaints is > 0.06')\n",
    "else:\n",
    "    print('P value = ', p_value)\n",
    "    print('Cannot Reject H0')\n",
    "    print('The proportion of Late Delivery complaints is <= 0.06')"
   ]
  },
  {
   "cell_type": "code",
   "execution_count": 39,
   "metadata": {},
   "outputs": [],
   "source": [
    "#This means that late delivery >6% (industry avg.). So we need to take some action."
   ]
  },
  {
   "cell_type": "markdown",
   "metadata": {},
   "source": [
    "### 3) A/B Testing\n",
    "\n",
    "#### Compare late delivery complaint % before and after the algorithm was rolled out."
   ]
  },
  {
   "cell_type": "code",
   "execution_count": 40,
   "metadata": {},
   "outputs": [],
   "source": [
    "ab_testing_orders = pd.read_csv('ab_testing_orders.csv')\n",
    "ab_testing_reviews = pd.read_csv('ab_testing_reviews.csv')"
   ]
  },
  {
   "cell_type": "code",
   "execution_count": 41,
   "metadata": {},
   "outputs": [
    {
     "data": {
      "text/html": [
       "<div>\n",
       "<style scoped>\n",
       "    .dataframe tbody tr th:only-of-type {\n",
       "        vertical-align: middle;\n",
       "    }\n",
       "\n",
       "    .dataframe tbody tr th {\n",
       "        vertical-align: top;\n",
       "    }\n",
       "\n",
       "    .dataframe thead th {\n",
       "        text-align: right;\n",
       "    }\n",
       "</style>\n",
       "<table border=\"1\" class=\"dataframe\">\n",
       "  <thead>\n",
       "    <tr style=\"text-align: right;\">\n",
       "      <th></th>\n",
       "      <th>order_id</th>\n",
       "      <th>customer_id</th>\n",
       "      <th>order_status</th>\n",
       "      <th>order_purchase_timestamp</th>\n",
       "      <th>order_approved_at</th>\n",
       "      <th>order_delivered_carrier_date</th>\n",
       "      <th>order_delivered_customer_date</th>\n",
       "      <th>order_estimated_delivery_date</th>\n",
       "      <th>group</th>\n",
       "    </tr>\n",
       "  </thead>\n",
       "  <tbody>\n",
       "    <tr>\n",
       "      <th>0</th>\n",
       "      <td>865aee0fd5873d8a2974df861e2526ef</td>\n",
       "      <td>622c8e6dd2f3d6f07a232257ee86e6b9</td>\n",
       "      <td>delivered</td>\n",
       "      <td>2018-01-07 20:49:50</td>\n",
       "      <td>2018-01-07 21:31:45</td>\n",
       "      <td>2018-01-24 18:15:05</td>\n",
       "      <td>2018-04-17 22:42:11</td>\n",
       "      <td>2018-04-17 00:00:00</td>\n",
       "      <td>Treatment</td>\n",
       "    </tr>\n",
       "    <tr>\n",
       "      <th>1</th>\n",
       "      <td>39e0115911bf404857e14baa7f097feb</td>\n",
       "      <td>816642e9995c2461f2172469e78c7370</td>\n",
       "      <td>delivered</td>\n",
       "      <td>2018-01-20 07:48:16</td>\n",
       "      <td>2018-01-20 09:15:46</td>\n",
       "      <td>2018-01-23 18:27:00</td>\n",
       "      <td>2018-04-19 15:28:27</td>\n",
       "      <td>2018-04-25 00:00:00</td>\n",
       "      <td>Control</td>\n",
       "    </tr>\n",
       "    <tr>\n",
       "      <th>2</th>\n",
       "      <td>38930f76efb00b138f4d632e4d557341</td>\n",
       "      <td>0f9043c635f86f7eb1e8fc07704df303</td>\n",
       "      <td>delivered</td>\n",
       "      <td>2018-01-28 13:47:42</td>\n",
       "      <td>2018-01-28 14:00:18</td>\n",
       "      <td>2018-02-02 01:42:30</td>\n",
       "      <td>2018-04-20 22:43:45</td>\n",
       "      <td>2018-04-27 00:00:00</td>\n",
       "      <td>Control</td>\n",
       "    </tr>\n",
       "    <tr>\n",
       "      <th>3</th>\n",
       "      <td>7b875e17a8b649ecb72124320bdfd20f</td>\n",
       "      <td>399c6c81654067bed2b65f0265f1282b</td>\n",
       "      <td>delivered</td>\n",
       "      <td>2018-01-28 22:45:22</td>\n",
       "      <td>2018-01-28 22:53:23</td>\n",
       "      <td>2018-02-02 01:42:28</td>\n",
       "      <td>2018-04-29 10:10:28</td>\n",
       "      <td>2018-04-30 00:00:00</td>\n",
       "      <td>Treatment</td>\n",
       "    </tr>\n",
       "    <tr>\n",
       "      <th>4</th>\n",
       "      <td>933fc5257a9b5a80bd558f2968d7b6f3</td>\n",
       "      <td>7128a6c72181215d6e1358918a66c845</td>\n",
       "      <td>delivered</td>\n",
       "      <td>2018-01-29 11:03:03</td>\n",
       "      <td>2018-01-30 04:31:05</td>\n",
       "      <td>2018-02-02 01:25:40</td>\n",
       "      <td>2018-04-29 04:55:04</td>\n",
       "      <td>2018-04-24 00:00:00</td>\n",
       "      <td>Control</td>\n",
       "    </tr>\n",
       "  </tbody>\n",
       "</table>\n",
       "</div>"
      ],
      "text/plain": [
       "                           order_id                       customer_id  \\\n",
       "0  865aee0fd5873d8a2974df861e2526ef  622c8e6dd2f3d6f07a232257ee86e6b9   \n",
       "1  39e0115911bf404857e14baa7f097feb  816642e9995c2461f2172469e78c7370   \n",
       "2  38930f76efb00b138f4d632e4d557341  0f9043c635f86f7eb1e8fc07704df303   \n",
       "3  7b875e17a8b649ecb72124320bdfd20f  399c6c81654067bed2b65f0265f1282b   \n",
       "4  933fc5257a9b5a80bd558f2968d7b6f3  7128a6c72181215d6e1358918a66c845   \n",
       "\n",
       "  order_status order_purchase_timestamp    order_approved_at  \\\n",
       "0    delivered      2018-01-07 20:49:50  2018-01-07 21:31:45   \n",
       "1    delivered      2018-01-20 07:48:16  2018-01-20 09:15:46   \n",
       "2    delivered      2018-01-28 13:47:42  2018-01-28 14:00:18   \n",
       "3    delivered      2018-01-28 22:45:22  2018-01-28 22:53:23   \n",
       "4    delivered      2018-01-29 11:03:03  2018-01-30 04:31:05   \n",
       "\n",
       "  order_delivered_carrier_date order_delivered_customer_date  \\\n",
       "0          2018-01-24 18:15:05           2018-04-17 22:42:11   \n",
       "1          2018-01-23 18:27:00           2018-04-19 15:28:27   \n",
       "2          2018-02-02 01:42:30           2018-04-20 22:43:45   \n",
       "3          2018-02-02 01:42:28           2018-04-29 10:10:28   \n",
       "4          2018-02-02 01:25:40           2018-04-29 04:55:04   \n",
       "\n",
       "  order_estimated_delivery_date      group  \n",
       "0           2018-04-17 00:00:00  Treatment  \n",
       "1           2018-04-25 00:00:00    Control  \n",
       "2           2018-04-27 00:00:00    Control  \n",
       "3           2018-04-30 00:00:00  Treatment  \n",
       "4           2018-04-24 00:00:00    Control  "
      ]
     },
     "execution_count": 41,
     "metadata": {},
     "output_type": "execute_result"
    }
   ],
   "source": [
    "ab_testing_orders.head()"
   ]
  },
  {
   "cell_type": "code",
   "execution_count": 42,
   "metadata": {},
   "outputs": [
    {
     "data": {
      "text/html": [
       "<div>\n",
       "<style scoped>\n",
       "    .dataframe tbody tr th:only-of-type {\n",
       "        vertical-align: middle;\n",
       "    }\n",
       "\n",
       "    .dataframe tbody tr th {\n",
       "        vertical-align: top;\n",
       "    }\n",
       "\n",
       "    .dataframe thead th {\n",
       "        text-align: right;\n",
       "    }\n",
       "</style>\n",
       "<table border=\"1\" class=\"dataframe\">\n",
       "  <thead>\n",
       "    <tr style=\"text-align: right;\">\n",
       "      <th></th>\n",
       "      <th>review_id</th>\n",
       "      <th>review_score</th>\n",
       "      <th>review_creation_date</th>\n",
       "      <th>review_title</th>\n",
       "      <th>order_id</th>\n",
       "    </tr>\n",
       "  </thead>\n",
       "  <tbody>\n",
       "    <tr>\n",
       "      <th>0</th>\n",
       "      <td>8a2cafc6b27b235c8b83974d7458b164</td>\n",
       "      <td>2</td>\n",
       "      <td>2018-03-23 00:00:00</td>\n",
       "      <td>NaN</td>\n",
       "      <td>9fe292254834c701a4b05deafecba7b8</td>\n",
       "    </tr>\n",
       "    <tr>\n",
       "      <th>1</th>\n",
       "      <td>bed12104b8138d789dfd826944881f37</td>\n",
       "      <td>5</td>\n",
       "      <td>2018-04-05 00:00:00</td>\n",
       "      <td>Bad Quality</td>\n",
       "      <td>032ba6b521e033ef4b05f4bbb4e30100</td>\n",
       "    </tr>\n",
       "    <tr>\n",
       "      <th>2</th>\n",
       "      <td>314f32cabb5ba31146e829d0b0d372c0</td>\n",
       "      <td>2</td>\n",
       "      <td>2018-04-15 00:00:00</td>\n",
       "      <td>Bad Quality</td>\n",
       "      <td>5759a07ad897af5017002314211af1ee</td>\n",
       "    </tr>\n",
       "    <tr>\n",
       "      <th>3</th>\n",
       "      <td>bdc9c2c766688466949a71868764bd06</td>\n",
       "      <td>5</td>\n",
       "      <td>2018-04-03 00:00:00</td>\n",
       "      <td>NaN</td>\n",
       "      <td>26bcc6734abd841f5e3d6244bf0dbacb</td>\n",
       "    </tr>\n",
       "    <tr>\n",
       "      <th>4</th>\n",
       "      <td>071a0dff95cf9a9de744c86c78237d7f</td>\n",
       "      <td>3</td>\n",
       "      <td>2018-04-07 00:00:00</td>\n",
       "      <td>NaN</td>\n",
       "      <td>ca66e72f5578f9b35b68982c4865079b</td>\n",
       "    </tr>\n",
       "  </tbody>\n",
       "</table>\n",
       "</div>"
      ],
      "text/plain": [
       "                          review_id  review_score review_creation_date  \\\n",
       "0  8a2cafc6b27b235c8b83974d7458b164             2  2018-03-23 00:00:00   \n",
       "1  bed12104b8138d789dfd826944881f37             5  2018-04-05 00:00:00   \n",
       "2  314f32cabb5ba31146e829d0b0d372c0             2  2018-04-15 00:00:00   \n",
       "3  bdc9c2c766688466949a71868764bd06             5  2018-04-03 00:00:00   \n",
       "4  071a0dff95cf9a9de744c86c78237d7f             3  2018-04-07 00:00:00   \n",
       "\n",
       "  review_title                          order_id  \n",
       "0          NaN  9fe292254834c701a4b05deafecba7b8  \n",
       "1  Bad Quality  032ba6b521e033ef4b05f4bbb4e30100  \n",
       "2  Bad Quality  5759a07ad897af5017002314211af1ee  \n",
       "3          NaN  26bcc6734abd841f5e3d6244bf0dbacb  \n",
       "4          NaN  ca66e72f5578f9b35b68982c4865079b  "
      ]
     },
     "execution_count": 42,
     "metadata": {},
     "output_type": "execute_result"
    }
   ],
   "source": [
    "ab_testing_reviews.head()"
   ]
  },
  {
   "cell_type": "code",
   "execution_count": 43,
   "metadata": {},
   "outputs": [],
   "source": [
    "# Merging the orders dataset with the reviews dataset\n",
    "ab_testing_orders_reviews = pd.merge(ab_testing_orders, ab_testing_reviews, how='left', left_on='order_id', right_on= 'order_id')"
   ]
  },
  {
   "cell_type": "code",
   "execution_count": 44,
   "metadata": {},
   "outputs": [
    {
     "data": {
      "text/plain": [
       "Treatment    18235\n",
       "Control      15000\n",
       "Name: group, dtype: int64"
      ]
     },
     "execution_count": 44,
     "metadata": {},
     "output_type": "execute_result"
    }
   ],
   "source": [
    "# Number of customers in the Treatment group and Control group\n",
    "ab_testing_orders_reviews.group.value_counts()"
   ]
  },
  {
   "cell_type": "code",
   "execution_count": 45,
   "metadata": {},
   "outputs": [],
   "source": [
    "#Ideally, in an industry we won't see almost 50-50 proportion between control:treatment. It might be of 1/10 for treatment."
   ]
  },
  {
   "cell_type": "code",
   "execution_count": 46,
   "metadata": {},
   "outputs": [],
   "source": [
    "# Creating a new column, Delivery_Complaint\n",
    "# Delivery_Complaint = True if review_title = Late Delivery, else False\n",
    "ab_testing_orders_reviews['Delivery_Complaint'] = ab_testing_orders_reviews['review_title'].apply(lambda x: x == 'Late Delivery')"
   ]
  },
  {
   "cell_type": "code",
   "execution_count": 47,
   "metadata": {},
   "outputs": [
    {
     "data": {
      "text/plain": [
       "False    31267\n",
       "True      1968\n",
       "Name: Delivery_Complaint, dtype: int64"
      ]
     },
     "execution_count": 47,
     "metadata": {},
     "output_type": "execute_result"
    }
   ],
   "source": [
    "# 'True' is the number of orders in the dataset having delivery complaints\n",
    "# 'False' is the number of orders in the dataset not having a delivery complaint\n",
    "ab_testing_orders_reviews['Delivery_Complaint'].value_counts()"
   ]
  },
  {
   "cell_type": "code",
   "execution_count": 48,
   "metadata": {},
   "outputs": [],
   "source": [
    "# Number of Delivery complains in the Control and Treatment Groups\n",
    "successes = ab_testing_orders_reviews.groupby('group')['Delivery_Complaint'].sum()"
   ]
  },
  {
   "cell_type": "code",
   "execution_count": 49,
   "metadata": {},
   "outputs": [
    {
     "data": {
      "text/plain": [
       "group\n",
       "Control      1013\n",
       "Treatment     955\n",
       "Name: Delivery_Complaint, dtype: int64"
      ]
     },
     "execution_count": 49,
     "metadata": {},
     "output_type": "execute_result"
    }
   ],
   "source": [
    "successes"
   ]
  },
  {
   "cell_type": "code",
   "execution_count": 50,
   "metadata": {},
   "outputs": [],
   "source": [
    "# Sample Size taken for the Control and Treatment Groups\n",
    "# This counts the number of True values in the Control and Treatment groups. Remember, True means review_title = Late Delivery\n",
    "sample_size = ab_testing_orders_reviews.groupby('group')['order_id'].count()"
   ]
  },
  {
   "cell_type": "code",
   "execution_count": 52,
   "metadata": {},
   "outputs": [
    {
     "data": {
      "text/plain": [
       "group\n",
       "Control      15000\n",
       "Treatment    18235\n",
       "Name: order_id, dtype: int64"
      ]
     },
     "execution_count": 52,
     "metadata": {},
     "output_type": "execute_result"
    }
   ],
   "source": [
    "sample_size"
   ]
  },
  {
   "cell_type": "code",
   "execution_count": 53,
   "metadata": {},
   "outputs": [],
   "source": [
    "proportions = successes/ sample_size"
   ]
  },
  {
   "cell_type": "code",
   "execution_count": 54,
   "metadata": {},
   "outputs": [
    {
     "data": {
      "text/plain": [
       "group\n",
       "Control      0.067533\n",
       "Treatment    0.052372\n",
       "dtype: float64"
      ]
     },
     "execution_count": 54,
     "metadata": {},
     "output_type": "execute_result"
    }
   ],
   "source": [
    "proportions"
   ]
  },
  {
   "cell_type": "markdown",
   "metadata": {},
   "source": [
    "### With Library"
   ]
  },
  {
   "cell_type": "markdown",
   "metadata": {},
   "source": [
    "### **Hypothesis**"
   ]
  },
  {
   "cell_type": "code",
   "execution_count": 55,
   "metadata": {},
   "outputs": [
    {
     "data": {
      "image/png": "[encoded data removed]",
      "text/plain": [
       "<IPython.core.display.Image object>"
      ]
     },
     "execution_count": 55,
     "metadata": {},
     "output_type": "execute_result"
    }
   ],
   "source": [
    "Image('proportions_test.png')"
   ]
  },
  {
   "cell_type": "code",
   "execution_count": 56,
   "metadata": {},
   "outputs": [],
   "source": [
    "z_statistic, p_value = proportions_ztest(successes, sample_size, alternative = 'two-sided')"
   ]
  },
  {
   "cell_type": "code",
   "execution_count": 57,
   "metadata": {},
   "outputs": [
    {
     "name": "stdout",
     "output_type": "stream",
     "text": [
      "z_statistic =  5.827515932146575\n",
      "p_value =  5.6258480616739625e-09\n"
     ]
    }
   ],
   "source": [
    "print('z_statistic = ', z_statistic)\n",
    "print('p_value = ', p_value)"
   ]
  },
  {
   "cell_type": "markdown",
   "metadata": {},
   "source": [
    "Depending on the level of significance (α), I can decide to accept or reject the alternate hypothesis\n",
    "\n",
    "If α = 0.05\n",
    "\n",
    "I reject H0, since: p value < α <br>\n",
    "     &emsp; &emsp; &emsp; &emsp; &emsp; &emsp;            5.62585e-09 < 0.05\n",
    "                    \n",
    "**Conclusion:**<br>\n",
    "There is a significant difference between the two samples"
   ]
  },
  {
   "cell_type": "markdown",
   "metadata": {},
   "source": [
    "### Without library"
   ]
  },
  {
   "cell_type": "code",
   "execution_count": 39,
   "metadata": {},
   "outputs": [
    {
     "data": {
      "image/png": "[encoded data removed]",
      "text/plain": [
       "<IPython.core.display.Image object>"
      ]
     },
     "execution_count": 39,
     "metadata": {},
     "output_type": "execute_result"
    }
   ],
   "source": [
    "Image('proportions_test.png')"
   ]
  },
  {
   "cell_type": "code",
   "execution_count": 40,
   "metadata": {},
   "outputs": [
    {
     "data": {
      "image/png": "[encoded data removed]",
      "text/plain": [
       "<IPython.core.display.Image object>"
      ]
     },
     "execution_count": 40,
     "metadata": {},
     "output_type": "execute_result"
    }
   ],
   "source": [
    "Image('p_.png')"
   ]
  },
  {
   "cell_type": "code",
   "execution_count": 41,
   "metadata": {},
   "outputs": [],
   "source": [
    "p = sum(successes)/sum(sample_size)"
   ]
  },
  {
   "cell_type": "code",
   "execution_count": 42,
   "metadata": {},
   "outputs": [
    {
     "data": {
      "image/png": "[encoded data removed]",
      "text/plain": [
       "<IPython.core.display.Image object>"
      ]
     },
     "execution_count": 42,
     "metadata": {},
     "output_type": "execute_result"
    }
   ],
   "source": [
    "Image('sample_std_.png')"
   ]
  },
  {
   "cell_type": "code",
   "execution_count": 43,
   "metadata": {},
   "outputs": [],
   "source": [
    "sp = np.sqrt(p*(1-p)*sum(1/sample_size))"
   ]
  },
  {
   "cell_type": "code",
   "execution_count": 44,
   "metadata": {},
   "outputs": [
    {
     "data": {
      "image/png": "[encoded data removed]",
      "text/plain": [
       "<IPython.core.display.Image object>"
      ]
     },
     "execution_count": 44,
     "metadata": {},
     "output_type": "execute_result"
    }
   ],
   "source": [
    "Image('z_statistic_.png')"
   ]
  },
  {
   "cell_type": "code",
   "execution_count": 45,
   "metadata": {},
   "outputs": [],
   "source": [
    "p1 = proportions[0]\n",
    "p2 = proportions[1]"
   ]
  },
  {
   "cell_type": "code",
   "execution_count": 46,
   "metadata": {},
   "outputs": [],
   "source": [
    "z = (p1 - p2)/sp"
   ]
  },
  {
   "cell_type": "code",
   "execution_count": 47,
   "metadata": {},
   "outputs": [],
   "source": [
    "p_value = 2*(1 - sc.norm.cdf(z))"
   ]
  },
  {
   "cell_type": "code",
   "execution_count": 48,
   "metadata": {},
   "outputs": [],
   "source": [
    "α = 0.05"
   ]
  },
  {
   "cell_type": "code",
   "execution_count": 49,
   "metadata": {},
   "outputs": [],
   "source": [
    "z_alpha = sc.norm.ppf(α/2)"
   ]
  },
  {
   "cell_type": "code",
   "execution_count": 50,
   "metadata": {},
   "outputs": [
    {
     "name": "stdout",
     "output_type": "stream",
     "text": [
      "Reject H0\n",
      "The proportions are not equal\n"
     ]
    }
   ],
   "source": [
    "# Reject H0 if z score <= z_alpha or z score >= z_alpha\n",
    "\n",
    "if z<= z_alpha or z>= -z_alpha:\n",
    "    print('Reject H0')\n",
    "    print('The proportions are not equal')\n",
    "\n",
    "else:\n",
    "    print('Cannot Reject H0')"
   ]
  },
  {
   "cell_type": "code",
   "execution_count": 51,
   "metadata": {},
   "outputs": [
    {
     "data": {
      "image/png": "[encoded data removed]",
      "text/plain": [
       "<IPython.core.display.Image object>"
      ]
     },
     "execution_count": 51,
     "metadata": {},
     "output_type": "execute_result"
    }
   ],
   "source": [
    "Image('Distribution_p1p2.png')"
   ]
  },
  {
   "cell_type": "markdown",
   "metadata": {},
   "source": [
    "#### Comparing the actual delivery time against the estimated delivery time for the treatment dataset"
   ]
  },
  {
   "cell_type": "code",
   "execution_count": 58,
   "metadata": {},
   "outputs": [],
   "source": [
    "order_reviews_treatment_group = ab_testing_orders_reviews[ab_testing_orders_reviews['group'] == 'Treatment']"
   ]
  },
  {
   "cell_type": "code",
   "execution_count": 59,
   "metadata": {},
   "outputs": [
    {
     "name": "stderr",
     "output_type": "stream",
     "text": [
      "C:\\Users\\Asus\\AppData\\Local\\Temp/ipykernel_15348/3647087025.py:2: SettingWithCopyWarning: \n",
      "A value is trying to be set on a copy of a slice from a DataFrame.\n",
      "Try using .loc[row_indexer,col_indexer] = value instead\n",
      "\n",
      "See the caveats in the documentation: https://pandas.pydata.org/pandas-docs/stable/user_guide/indexing.html#returning-a-view-versus-a-copy\n",
      "  order_reviews_treatment_group['order_approved_at'] = pd.to_datetime(order_reviews_treatment_group['order_approved_at'])\n",
      "C:\\Users\\Asus\\AppData\\Local\\Temp/ipykernel_15348/3647087025.py:3: SettingWithCopyWarning: \n",
      "A value is trying to be set on a copy of a slice from a DataFrame.\n",
      "Try using .loc[row_indexer,col_indexer] = value instead\n",
      "\n",
      "See the caveats in the documentation: https://pandas.pydata.org/pandas-docs/stable/user_guide/indexing.html#returning-a-view-versus-a-copy\n",
      "  order_reviews_treatment_group['order_estimated_delivery_date'] = pd.to_datetime(order_reviews_treatment_group['order_estimated_delivery_date'])\n",
      "C:\\Users\\Asus\\AppData\\Local\\Temp/ipykernel_15348/3647087025.py:4: SettingWithCopyWarning: \n",
      "A value is trying to be set on a copy of a slice from a DataFrame.\n",
      "Try using .loc[row_indexer,col_indexer] = value instead\n",
      "\n",
      "See the caveats in the documentation: https://pandas.pydata.org/pandas-docs/stable/user_guide/indexing.html#returning-a-view-versus-a-copy\n",
      "  order_reviews_treatment_group['order_delivered_customer_date'] = pd.to_datetime(order_reviews_treatment_group['order_delivered_customer_date'])\n",
      "C:\\Users\\Asus\\AppData\\Local\\Temp/ipykernel_15348/3647087025.py:7: SettingWithCopyWarning: \n",
      "A value is trying to be set on a copy of a slice from a DataFrame.\n",
      "Try using .loc[row_indexer,col_indexer] = value instead\n",
      "\n",
      "See the caveats in the documentation: https://pandas.pydata.org/pandas-docs/stable/user_guide/indexing.html#returning-a-view-versus-a-copy\n",
      "  order_reviews_treatment_group['actual_delivery_time'] = (order_reviews_treatment_group['order_delivered_customer_date'] - order_reviews_treatment_group['order_approved_at']).dt.total_seconds() / 86400\n",
      "C:\\Users\\Asus\\AppData\\Local\\Temp/ipykernel_15348/3647087025.py:10: SettingWithCopyWarning: \n",
      "A value is trying to be set on a copy of a slice from a DataFrame.\n",
      "Try using .loc[row_indexer,col_indexer] = value instead\n",
      "\n",
      "See the caveats in the documentation: https://pandas.pydata.org/pandas-docs/stable/user_guide/indexing.html#returning-a-view-versus-a-copy\n",
      "  order_reviews_treatment_group['estimated_delivery_time'] = (order_reviews_treatment_group['order_estimated_delivery_date'] - order_reviews_treatment_group['order_approved_at']).dt.total_seconds() / 86400\n"
     ]
    },
    {
     "data": {
      "text/plain": [
       "(-10.0, 60.0)"
      ]
     },
     "execution_count": 59,
     "metadata": {},
     "output_type": "execute_result"
    },
    {
     "data": {
      "image/png": "[encoded data removed]",
      "text/plain": [
       "<Figure size 720x288 with 1 Axes>"
      ]
     },
     "metadata": {
      "needs_background": "light"
     },
     "output_type": "display_data"
    }
   ],
   "source": [
    "# Converting all the dates to pandas datetime format\n",
    "order_reviews_treatment_group['order_approved_at'] = pd.to_datetime(order_reviews_treatment_group['order_approved_at'])\n",
    "order_reviews_treatment_group['order_estimated_delivery_date'] = pd.to_datetime(order_reviews_treatment_group['order_estimated_delivery_date'])\n",
    "order_reviews_treatment_group['order_delivered_customer_date'] = pd.to_datetime(order_reviews_treatment_group['order_delivered_customer_date'])\n",
    "\n",
    "# Calculate actual delivery time from customer buying the product to receiveing the product\n",
    "order_reviews_treatment_group['actual_delivery_time'] = (order_reviews_treatment_group['order_delivered_customer_date'] - order_reviews_treatment_group['order_approved_at']).dt.total_seconds() / 86400\n",
    "\n",
    "# Calculating the estimated delivery time\n",
    "order_reviews_treatment_group['estimated_delivery_time'] = (order_reviews_treatment_group['order_estimated_delivery_date'] - order_reviews_treatment_group['order_approved_at']).dt.total_seconds() / 86400\n",
    "\n",
    "# Comparing the actual delivery time and estimated delivery time\n",
    "plt.figure(figsize=(10,4))\n",
    "plt.title(\"Delivery time in days\")\n",
    "\n",
    "ax1 = sns.kdeplot(order_reviews_treatment_group['actual_delivery_time'].dropna(), color=\"red\", label='Actual Delivery time')\n",
    "ax2 = sns.kdeplot(order_reviews_treatment_group['estimated_delivery_time'].dropna(), color=\"blue\", label='Estimated delivery time')\n",
    "\n",
    "plt.xlim(-10, 60)"
   ]
  },
  {
   "cell_type": "code",
   "execution_count": 60,
   "metadata": {},
   "outputs": [
    {
     "data": {
      "text/plain": [
       "0        99.102951\n",
       "3        91.046262\n",
       "5        92.478322\n",
       "7        68.161111\n",
       "10       65.975278\n",
       "           ...    \n",
       "33222    13.864167\n",
       "33223     4.864132\n",
       "33224     4.645590\n",
       "33231     4.475498\n",
       "33232     5.395058\n",
       "Name: estimated_delivery_time, Length: 18235, dtype: float64"
      ]
     },
     "execution_count": 60,
     "metadata": {},
     "output_type": "execute_result"
    }
   ],
   "source": [
    "order_reviews_treatment_group['estimated_delivery_time']"
   ]
  },
  {
   "cell_type": "code",
   "execution_count": 61,
   "metadata": {},
   "outputs": [],
   "source": [
    "# Testing for a significant difference between the estimated delivery time and actual delivery time\n",
    "sample_estimated_delivery_time = np.array(order_reviews_treatment_group['actual_delivery_time'])\n",
    "sample_actual_delivery_time = np.array(order_reviews_treatment_group['estimated_delivery_time'])"
   ]
  },
  {
   "cell_type": "code",
   "execution_count": 62,
   "metadata": {},
   "outputs": [
    {
     "data": {
      "image/png": "[encoded data removed]",
      "text/plain": [
       "<IPython.core.display.Image object>"
      ]
     },
     "execution_count": 62,
     "metadata": {},
     "output_type": "execute_result"
    }
   ],
   "source": [
    "Image('Hypothesis_comparing_means.png')"
   ]
  },
  {
   "cell_type": "code",
   "execution_count": 63,
   "metadata": {},
   "outputs": [],
   "source": [
    "# Matched sample test\n",
    "t_statistic, p_value = ttest_rel(sample_estimated_delivery_time, sample_actual_delivery_time)"
   ]
  },
  {
   "cell_type": "code",
   "execution_count": 66,
   "metadata": {},
   "outputs": [
    {
     "name": "stdout",
     "output_type": "stream",
     "text": [
      "1.2349946194663077\n",
      "0.216848419877708\n"
     ]
    }
   ],
   "source": [
    "print(t_statistic)\n",
    "print(p_value)"
   ]
  },
  {
   "cell_type": "code",
   "execution_count": 65,
   "metadata": {},
   "outputs": [
    {
     "name": "stdout",
     "output_type": "stream",
     "text": [
      "P value =  0.216848419877708\n",
      "Fail to Reject H0\n"
     ]
    }
   ],
   "source": [
    "α = 0.05\n",
    "\n",
    "# Checking p value against α\n",
    "if p_value < α:\n",
    "    print('P value = ', p_value)\n",
    "    print('Reject H0')\n",
    "    print('Populations means are not equal')\n",
    "else:\n",
    "    print('P value = ', p_value)\n",
    "    print('Fail to Reject H0')"
   ]
  },
  {
   "cell_type": "code",
   "execution_count": 67,
   "metadata": {},
   "outputs": [],
   "source": [
    "#Means, statistically there is no significant difference between the 2 means"
   ]
  },
  {
   "cell_type": "code",
   "execution_count": 68,
   "metadata": {},
   "outputs": [],
   "source": [
    "#Population means are equal"
   ]
  }
 ],
 "metadata": {
  "kernelspec": {
   "display_name": "Python 3 (ipykernel)",
   "language": "python",
   "name": "python3"
  },
  "language_info": {
   "codemirror_mode": {
    "name": "ipython",
    "version": 3
   },
   "file_extension": ".py",
   "mimetype": "text/x-python",
   "name": "python",
   "nbconvert_exporter": "python",
   "pygments_lexer": "ipython3",
   "version": "3.9.7"
  }
 },
 "nbformat": 4,
 "nbformat_minor": 4
}
