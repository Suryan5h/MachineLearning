{
  "nbformat": 4,
  "nbformat_minor": 0,
  "metadata": {
    "colab": {
      "name": "Hypothesis_testing_python.ipynb",
      "provenance": [],
      "authorship_tag": "ABX9TyPvhOCq5BjOaoUrPPh0W05G",
      "include_colab_link": true
    },
    "kernelspec": {
      "name": "python3",
      "display_name": "Python 3"
    },
    "language_info": {
      "name": "python"
    }
  },
  "cells": [
    {
      "cell_type": "markdown",
      "metadata": {
        "id": "view-in-github",
        "colab_type": "text"
      },
      "source": [
        "<a href=\"https://colab.research.google.com/github/Suryan5h/MachineLearning/blob/main/Inferential_stats/Hypothesis_testing_python.ipynb\" target=\"_parent\"><img src=\"https://colab.research.google.com/assets/colab-badge.svg\" alt=\"Open In Colab\"/></a>"
      ]
    },
    {
      "cell_type": "code",
      "execution_count": 1,
      "metadata": {
        "id": "y72zfgshcglS"
      },
      "outputs": [],
      "source": [
        "from scipy import stats\n",
        "import numpy as np"
      ]
    },
    {
      "cell_type": "markdown",
      "source": [
        "# **Hypothesis Testing in Python**"
      ],
      "metadata": {
        "id": "6yLMn7hoeODD"
      }
    },
    {
      "cell_type": "code",
      "source": [
        "sample = [10.2,3.1,2.5,3,3,7,8,7.8,5.1,9.8,1.7]"
      ],
      "metadata": {
        "id": "6uZOPbcUclnT"
      },
      "execution_count": 2,
      "outputs": []
    },
    {
      "cell_type": "code",
      "source": [
        "hypothesized_mean = 10"
      ],
      "metadata": {
        "id": "Uu2bFk8oc1kC"
      },
      "execution_count": 3,
      "outputs": []
    },
    {
      "cell_type": "markdown",
      "source": [
        "https://docs.scipy.org/doc/scipy/reference/generated/scipy.stats.ttest_1samp.html"
      ],
      "metadata": {
        "id": "OEZVB-eofjaF"
      }
    },
    {
      "cell_type": "code",
      "source": [
        "t_statistics, p_value = stats.ttest_1samp(sample,hypothesized_mean)"
      ],
      "metadata": {
        "id": "9dodv27oc6kh"
      },
      "execution_count": 10,
      "outputs": []
    },
    {
      "cell_type": "code",
      "source": [
        "p_value"
      ],
      "metadata": {
        "colab": {
          "base_uri": "https://localhost:8080/"
        },
        "id": "Sojw4nDqdGCJ",
        "outputId": "405c1db3-67ad-4098-840d-ea58c87efa1f"
      },
      "execution_count": 5,
      "outputs": [
        {
          "output_type": "execute_result",
          "data": {
            "text/plain": [
              "0.0007870236348320897"
            ]
          },
          "metadata": {},
          "execution_count": 5
        }
      ]
    },
    {
      "cell_type": "code",
      "source": [
        "alpha = 0.05\n",
        "if p_value<alpha:\n",
        "  print('Reject H0')\n",
        "else:\n",
        "  print('Fail to reject H0')"
      ],
      "metadata": {
        "colab": {
          "base_uri": "https://localhost:8080/"
        },
        "id": "PMU8byepdHn5",
        "outputId": "412d78df-8997-4742-9ec2-ae2227cb7dd7"
      },
      "execution_count": 6,
      "outputs": [
        {
          "output_type": "stream",
          "name": "stdout",
          "text": [
            "Reject H0\n"
          ]
        }
      ]
    },
    {
      "cell_type": "code",
      "source": [
        "#This is for 2 tailed.\n",
        "#For one tailed, / by 2.\n",
        "p_value_1tailed = p_value/2"
      ],
      "metadata": {
        "id": "R_19DtqwdVjZ"
      },
      "execution_count": 7,
      "outputs": []
    },
    {
      "cell_type": "code",
      "source": [
        "alpha = 0.05\n",
        "if p_value_1tailed<alpha:\n",
        "  print('Reject H0')\n",
        "else:\n",
        "  print('Fail to reject H0')"
      ],
      "metadata": {
        "colab": {
          "base_uri": "https://localhost:8080/"
        },
        "id": "e2b5RqredpIB",
        "outputId": "0b3c528a-6462-4b0b-9eda-61e7b0d96bdd"
      },
      "execution_count": 8,
      "outputs": [
        {
          "output_type": "stream",
          "name": "stdout",
          "text": [
            "Reject H0\n"
          ]
        }
      ]
    },
    {
      "cell_type": "markdown",
      "source": [
        "# **Testing Proportions**"
      ],
      "metadata": {
        "id": "Jx9_gX7qds9R"
      }
    },
    {
      "cell_type": "code",
      "source": [
        "from statsmodels.stats.proportion import proportions_ztest"
      ],
      "metadata": {
        "id": "-OFmn_A2eEfC"
      },
      "execution_count": 11,
      "outputs": []
    },
    {
      "cell_type": "code",
      "source": [
        "'''\n",
        "proportions_ztest(count, nobs, value=None, alternative='two-sided')\n",
        "\n",
        "count: number of successes in nobs\n",
        "nobs: number of trials\n",
        "value: hypothesized_proportion (in a one sample test)\n",
        "alternative: alternative hypothesis\n",
        "             = 'smaller' if p < hypothesized_proportion\n",
        "             = 'larger'  if p > hypothesized_proportion\n",
        "             = 'two-sided' if p != hypothesized_proportion\n",
        "             \n",
        "prop_var: By default, the standard error is calculated using the sample proportion and not hypothesised proportion.\n",
        "          This is the classical approach and is not recommended. Hence we have set the value to the hypothesised proprotion = 0.2\n",
        "\n",
        "'''\n",
        "\n",
        "sample_proportion = 0.175\n",
        "sample_size = 400\n",
        "hypothesized_proportion = 0.2"
      ],
      "metadata": {
        "id": "yMeOZwOsl-c6"
      },
      "execution_count": 12,
      "outputs": []
    },
    {
      "cell_type": "code",
      "source": [
        "num_successes = sample_proportion*sample_size\n",
        "num_trials = sample_size\n",
        "\n",
        "z_statistic, p_value = proportions_ztest(num_successes, num_trials, value = hypothesized_proportion, alternative = 'two-sided', prop_var = 0.2)"
      ],
      "metadata": {
        "id": "7q8UEd7FmIdh"
      },
      "execution_count": 13,
      "outputs": []
    },
    {
      "cell_type": "code",
      "source": [
        "alpha = 0.05\n",
        "if p_value_1tailed<alpha:\n",
        "  print('Reject H0')\n",
        "else:\n",
        "  print('Fail to reject H0')"
      ],
      "metadata": {
        "colab": {
          "base_uri": "https://localhost:8080/"
        },
        "id": "WjcSbushmWZZ",
        "outputId": "7c1f85b6-d60c-4f3d-cdd8-2f964f70a4e2"
      },
      "execution_count": 14,
      "outputs": [
        {
          "output_type": "stream",
          "name": "stdout",
          "text": [
            "Reject H0\n"
          ]
        }
      ]
    },
    {
      "cell_type": "markdown",
      "source": [
        "https://www.statsmodels.org/stable/generated/statsmodels.stats.proportion.proportions_ztest.html"
      ],
      "metadata": {
        "id": "OO8--67omaFR"
      }
    },
    {
      "cell_type": "markdown",
      "source": [
        "# **2 Sample Tests**"
      ],
      "metadata": {
        "id": "PzjYSnIxmgBA"
      }
    },
    {
      "cell_type": "markdown",
      "source": [
        "**Comparing 2 samples with unknown variances**"
      ],
      "metadata": {
        "id": "0neTjJ_LmkaY"
      }
    },
    {
      "cell_type": "code",
      "source": [
        "sample1 = [10.2, 9.7, 10.1, 10.3, 10.1, 9.8, 9.9, 10.4, 10.3, 9.8]\n",
        "sample2 = [10.1, 9.2, 10.3, 11, 10.2, 9.1, 9.2, 10.3, 10.7, 9.3]"
      ],
      "metadata": {
        "id": "6iDljJSVmqWw"
      },
      "execution_count": 15,
      "outputs": []
    },
    {
      "cell_type": "code",
      "source": [
        "t_statistic, p_value = stats.ttest_ind(sample1, sample2)"
      ],
      "metadata": {
        "id": "UK1N4S14mxNh"
      },
      "execution_count": 16,
      "outputs": []
    },
    {
      "cell_type": "code",
      "source": [
        "α = 0.05\n",
        "if p_value < α:\n",
        "    print('P value = ', p_value)\n",
        "    print('Reject H0')\n",
        "else:\n",
        "    print('P value = ', p_value)\n",
        "    print('Fail to reject H0')"
      ],
      "metadata": {
        "colab": {
          "base_uri": "https://localhost:8080/"
        },
        "id": "eaKXBcSdm0Aw",
        "outputId": "156e1f2b-8e72-4b28-f0ec-40aea9102b13"
      },
      "execution_count": 18,
      "outputs": [
        {
          "output_type": "stream",
          "name": "stdout",
          "text": [
            "P value =  0.6099583638259121\n",
            "Fail to reject H0\n"
          ]
        }
      ]
    },
    {
      "cell_type": "markdown",
      "source": [
        "# **Comparing Proportions**"
      ],
      "metadata": {
        "id": "UEwytG24m2bg"
      }
    },
    {
      "cell_type": "code",
      "source": [
        "import numpy as np\n",
        "from statsmodels.stats import proportion"
      ],
      "metadata": {
        "id": "B6IGyflEnDcK"
      },
      "execution_count": 19,
      "outputs": []
    },
    {
      "cell_type": "code",
      "source": [
        "successes = np.array([63, 60])\n",
        "sample_sizes = np.array([150, 200])"
      ],
      "metadata": {
        "id": "U_JWiojInMgp"
      },
      "execution_count": 20,
      "outputs": []
    },
    {
      "cell_type": "code",
      "source": [
        "# Testing proportions for two samples\n",
        "z_statistic, p_value = proportion.proportions_ztest(successes, sample_sizes, alternative = 'two-sided')"
      ],
      "metadata": {
        "id": "HdXBXuSbnOVi"
      },
      "execution_count": 21,
      "outputs": []
    },
    {
      "cell_type": "code",
      "source": [
        "z_statistic"
      ],
      "metadata": {
        "colab": {
          "base_uri": "https://localhost:8080/"
        },
        "id": "5tgVnY_jnR_x",
        "outputId": "30887ec3-3af9-4914-e209-c5ccf38d9a47"
      },
      "execution_count": 22,
      "outputs": [
        {
          "output_type": "execute_result",
          "data": {
            "text/plain": [
              "2.3270751647490346"
            ]
          },
          "metadata": {},
          "execution_count": 22
        }
      ]
    },
    {
      "cell_type": "code",
      "source": [
        "α = 0.05\n",
        "if p_value < α:\n",
        "    print('P value = ', p_value)\n",
        "    print('Reject H0')\n",
        "else:\n",
        "    print('P value = ', p_value)\n",
        "    print('Fail to reject H0')"
      ],
      "metadata": {
        "colab": {
          "base_uri": "https://localhost:8080/"
        },
        "id": "WpCLu7hynT-A",
        "outputId": "2ee33414-6835-4a8a-c7a0-082045003ec7"
      },
      "execution_count": 24,
      "outputs": [
        {
          "output_type": "stream",
          "name": "stdout",
          "text": [
            "P value =  0.019961265070318403\n",
            "Reject H0\n"
          ]
        }
      ]
    },
    {
      "cell_type": "markdown",
      "source": [
        "# **Comparing Matched Samples**"
      ],
      "metadata": {
        "id": "3KFZj0OVnVz5"
      }
    },
    {
      "cell_type": "code",
      "source": [
        "sample_8hr = [6, 6, 7, 4, 3, 9, 7, 6]\n",
        "sample_5hr = [5, 4, 7, 3, 5, 8, 5, 6]"
      ],
      "metadata": {
        "id": "yaF5gBlencg4"
      },
      "execution_count": 25,
      "outputs": []
    },
    {
      "cell_type": "code",
      "source": [
        "from scipy.stats import ttest_rel"
      ],
      "metadata": {
        "id": "7XE7J7foneow"
      },
      "execution_count": 26,
      "outputs": []
    },
    {
      "cell_type": "code",
      "source": [
        "test_statistic, p_value = ttest_rel(sample_8hr, sample_5hr)"
      ],
      "metadata": {
        "id": "o4sMLvPUngLp"
      },
      "execution_count": 27,
      "outputs": []
    },
    {
      "cell_type": "code",
      "source": [
        "#since it is 1 taled test\n",
        "p_value = p_value/2\n",
        "\n",
        "α = 0.05\n",
        "if p_value < α:\n",
        "    print('Reject H0')\n",
        "else:\n",
        "    print('Fail to reject H0')"
      ],
      "metadata": {
        "colab": {
          "base_uri": "https://localhost:8080/"
        },
        "id": "bmDiGFm1nhzJ",
        "outputId": "c586539d-8c74-40be-fcec-c63b1beb7d82"
      },
      "execution_count": 29,
      "outputs": [
        {
          "output_type": "stream",
          "name": "stdout",
          "text": [
            "Fail to reject H0\n"
          ]
        }
      ]
    },
    {
      "cell_type": "code",
      "source": [
        "p_value"
      ],
      "metadata": {
        "colab": {
          "base_uri": "https://localhost:8080/"
        },
        "id": "BIUPEnlpnl2R",
        "outputId": "25ad8694-4353-4a17-96e8-0976fd03351a"
      },
      "execution_count": 30,
      "outputs": [
        {
          "output_type": "execute_result",
          "data": {
            "text/plain": [
              "0.05420938640472515"
            ]
          },
          "metadata": {},
          "execution_count": 30
        }
      ]
    },
    {
      "cell_type": "code",
      "source": [
        ""
      ],
      "metadata": {
        "id": "7hiCB1RznpZ5"
      },
      "execution_count": null,
      "outputs": []
    }
  ]
}