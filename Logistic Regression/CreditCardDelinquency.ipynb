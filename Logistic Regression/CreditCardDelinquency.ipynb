{
 "cells": [
  {
   "cell_type": "code",
   "execution_count": null,
   "id": "f91cd0ba",
   "metadata": {},
   "outputs": [],
   "source": [
    "asdasdasdasdasdasdasdasdasd"
   ]
  },
  {
   "cell_type": "code",
   "execution_count": 3,
   "id": "65c720ce",
   "metadata": {},
   "outputs": [],
   "source": [
    "import os\n",
    "import sys\n",
    "# Here you need to have same Python version on your local machine adn on worker node i.e. EC2. here both should have python3.\n",
    "os.environ[\"PYSPARK_PYTHON\"] = \"/bin/python3\"\n",
    "os.environ[\"JAVA_HOME\"] = \"/usr/java/jdk1.8.0_161/jre\"\n",
    "os.environ[\"SPARK_HOME\"] = \"/home/ec2-user/spark-2.4.4-bin-hadoop2.7\"\n",
    "os.environ[\"PYLIB\"] = os.environ[\"SPARK_HOME\"] + \"/python/lib\"\n",
    "sys.path.insert(0, os.environ[\"PYLIB\"] + \"/py4j-0.10.7-src.zip\")\n",
    "sys.path.insert(0, os.environ[\"PYLIB\"] + \"/pyspark.zip\")"
   ]
  },
  {
   "cell_type": "code",
   "execution_count": 4,
   "id": "19607b12",
   "metadata": {},
   "outputs": [],
   "source": [
    "from warnings import filterwarnings\n",
    "filterwarnings('ignore')"
   ]
  },
  {
   "cell_type": "code",
   "execution_count": 5,
   "id": "2c38634e",
   "metadata": {},
   "outputs": [
    {
     "name": "stderr",
     "output_type": "stream",
     "text": [
      "22/10/19 16:32:48 WARN NativeCodeLoader: Unable to load native-hadoop library for your platform... using builtin-java classes where applicable\n",
      "Using Spark's default log4j profile: org/apache/spark/log4j-defaults.properties\n",
      "Setting default log level to \"WARN\".\n",
      "To adjust logging level use sc.setLogLevel(newLevel). For SparkR, use setLogLevel(newLevel).\n"
     ]
    }
   ],
   "source": [
    "from pyspark.sql import SparkSession\n",
    "spark = SparkSession.builder.appName('Credit Card Application Approval Model').config('spark.ui.showConsoleProgress', 'false').getOrCreate()"
   ]
  },
  {
   "cell_type": "code",
   "execution_count": 6,
   "id": "11bed171",
   "metadata": {},
   "outputs": [
    {
     "name": "stdout",
     "output_type": "stream",
     "text": [
      "+-------+--------------+------+\n",
      "|     ID|MONTHS_BALANCE|STATUS|\n",
      "+-------+--------------+------+\n",
      "|5001711|             0|     X|\n",
      "|5001711|            -1|     0|\n",
      "|5001711|            -2|     0|\n",
      "|5001711|            -3|     0|\n",
      "|5001712|             0|     C|\n",
      "+-------+--------------+------+\n",
      "only showing top 5 rows\n",
      "\n"
     ]
    }
   ],
   "source": [
    "from pyspark import SparkFiles\n",
    "spark.sparkContext.addFile(\"https://s3.amazonaws.com/sqoop.oozie.ml/credit_record.csv\")\n",
    "credit_record_df = spark.read.csv(SparkFiles.get(\"credit_record.csv\"),inferSchema=True,header=True)\n",
    "credit_record_df.show(5)"
   ]
  },
  {
   "cell_type": "code",
   "execution_count": 7,
   "id": "57ead9a0",
   "metadata": {},
   "outputs": [
    {
     "name": "stdout",
     "output_type": "stream",
     "text": [
      "1048575 3\n"
     ]
    }
   ],
   "source": [
    "print(credit_record_df.count(), len(credit_record_df.columns))"
   ]
  },
  {
   "cell_type": "code",
   "execution_count": 8,
   "id": "5a2658eb",
   "metadata": {},
   "outputs": [
    {
     "name": "stdout",
     "output_type": "stream",
     "text": [
      "+-------+-----------+------------+---------------+------------+----------------+--------------------+--------------------+--------------------+-----------------+----------+-------------+----------+---------------+----------+----------+---------------+---------------+\n",
      "|     ID|CODE_GENDER|FLAG_OWN_CAR|FLAG_OWN_REALTY|CNT_CHILDREN|AMT_INCOME_TOTAL|    NAME_INCOME_TYPE| NAME_EDUCATION_TYPE|  NAME_FAMILY_STATUS|NAME_HOUSING_TYPE|DAYS_BIRTH|DAYS_EMPLOYED|FLAG_MOBIL|FLAG_WORK_PHONE|FLAG_PHONE|FLAG_EMAIL|OCCUPATION_TYPE|CNT_FAM_MEMBERS|\n",
      "+-------+-----------+------------+---------------+------------+----------------+--------------------+--------------------+--------------------+-----------------+----------+-------------+----------+---------------+----------+----------+---------------+---------------+\n",
      "|5008804|          M|           Y|              Y|           0|        427500.0|             Working|    Higher education|      Civil marriage| Rented apartment|    -12005|        -4542|         1|              1|         0|         0|           null|            2.0|\n",
      "|5008805|          M|           Y|              Y|           0|        427500.0|             Working|    Higher education|      Civil marriage| Rented apartment|    -12005|        -4542|         1|              1|         0|         0|           null|            2.0|\n",
      "|5008806|          M|           Y|              Y|           0|        112500.0|             Working|Secondary / secon...|             Married|House / apartment|    -21474|        -1134|         1|              0|         0|         0| Security staff|            2.0|\n",
      "|5008808|          F|           N|              Y|           0|        270000.0|Commercial associate|Secondary / secon...|Single / not married|House / apartment|    -19110|        -3051|         1|              0|         1|         1|    Sales staff|            1.0|\n",
      "|5008809|          F|           N|              Y|           0|        270000.0|Commercial associate|Secondary / secon...|Single / not married|House / apartment|    -19110|        -3051|         1|              0|         1|         1|    Sales staff|            1.0|\n",
      "+-------+-----------+------------+---------------+------------+----------------+--------------------+--------------------+--------------------+-----------------+----------+-------------+----------+---------------+----------+----------+---------------+---------------+\n",
      "only showing top 5 rows\n",
      "\n"
     ]
    }
   ],
   "source": [
    "spark.sparkContext.addFile(\"https://s3.amazonaws.com/sqoop.oozie.ml/application_record.csv\")\n",
    "application_df = spark.read.csv(SparkFiles.get(\"application_record.csv\"),inferSchema=True,header=True)\n",
    "application_df.show(5) "
   ]
  },
  {
   "cell_type": "code",
   "execution_count": 9,
   "id": "3e86b344",
   "metadata": {},
   "outputs": [
    {
     "name": "stdout",
     "output_type": "stream",
     "text": [
      "+------+------+\n",
      "|STATUS| count|\n",
      "+------+------+\n",
      "|     3|   320|\n",
      "|     0|383120|\n",
      "|     5|  1693|\n",
      "|     C|442031|\n",
      "|     X|209230|\n",
      "|     1| 11090|\n",
      "|     4|   223|\n",
      "|     2|   868|\n",
      "+------+------+\n",
      "\n"
     ]
    }
   ],
   "source": [
    "#Different categories of Status which are there in credit_record_df.\n",
    "credit_record_df.groupBy('STATUS').count().show()"
   ]
  },
  {
   "cell_type": "code",
   "execution_count": 10,
   "id": "af36793f",
   "metadata": {},
   "outputs": [],
   "source": [
    "from pyspark.sql import functions as F\n",
    "from pyspark.sql import types as T\n",
    "def transform_status(input_str):\n",
    "    if input_str in (\"X\",\"0\",\"1\",\"C\"):\n",
    "        return 0\n",
    "    else:\n",
    "        return 1"
   ]
  },
  {
   "cell_type": "code",
   "execution_count": 11,
   "id": "9847a9ad",
   "metadata": {},
   "outputs": [],
   "source": [
    "transform_status_udf = F.udf(f=lambda row: transform_status(row),returnType = T.IntegerType())"
   ]
  },
  {
   "cell_type": "code",
   "execution_count": 12,
   "id": "bfd7f228",
   "metadata": {},
   "outputs": [
    {
     "name": "stdout",
     "output_type": "stream",
     "text": [
      "+-------+--------------+------+------+\n",
      "|     ID|MONTHS_BALANCE|STATUS|TARGET|\n",
      "+-------+--------------+------+------+\n",
      "|5001711|             0|     X|     0|\n",
      "|5001711|            -1|     0|     0|\n",
      "|5001711|            -2|     0|     0|\n",
      "|5001711|            -3|     0|     0|\n",
      "|5001712|             0|     C|     0|\n",
      "+-------+--------------+------+------+\n",
      "only showing top 5 rows\n",
      "\n"
     ]
    },
    {
     "name": "stderr",
     "output_type": "stream",
     "text": [
      "Traceback (most recent call last):\n",
      "  File \"/home/ec2-user/spark-2.4.4-bin-hadoop2.7/python/lib/pyspark.zip/pyspark/daemon.py\", line 170, in manager\n",
      "  File \"/home/ec2-user/spark-2.4.4-bin-hadoop2.7/python/lib/pyspark.zip/pyspark/daemon.py\", line 73, in worker\n",
      "  File \"/home/ec2-user/spark-2.4.4-bin-hadoop2.7/python/lib/pyspark.zip/pyspark/worker.py\", line 402, in main\n",
      "    if read_int(infile) == SpecialLengths.END_OF_STREAM:\n",
      "  File \"/home/ec2-user/spark-2.4.4-bin-hadoop2.7/python/lib/pyspark.zip/pyspark/serializers.py\", line 717, in read_int\n",
      "    raise EOFError\n",
      "EOFError\n"
     ]
    }
   ],
   "source": [
    "updated_df = credit_record_df.withColumn(\"TARGET\",transform_status_udf(F.col(\"STATUS\")))\n",
    "updated_df.show(5)"
   ]
  },
  {
   "cell_type": "code",
   "execution_count": 13,
   "id": "e202ba79",
   "metadata": {},
   "outputs": [
    {
     "name": "stdout",
     "output_type": "stream",
     "text": [
      "root\n",
      " |-- ID: integer (nullable = true)\n",
      " |-- MONTHS_BALANCE: integer (nullable = true)\n",
      " |-- STATUS: string (nullable = true)\n",
      " |-- TARGET: integer (nullable = true)\n",
      "\n"
     ]
    }
   ],
   "source": [
    "updated_df.printSchema()"
   ]
  },
  {
   "cell_type": "code",
   "execution_count": 14,
   "id": "af928e26",
   "metadata": {},
   "outputs": [
    {
     "name": "stdout",
     "output_type": "stream",
     "text": [
      "+------+-------+\n",
      "|TARGET|  count|\n",
      "+------+-------+\n",
      "|     1|   3104|\n",
      "|     0|1045471|\n",
      "+------+-------+\n",
      "\n"
     ]
    }
   ],
   "source": [
    "updated_df.groupBy('TARGET').count().show()"
   ]
  },
  {
   "cell_type": "code",
   "execution_count": 15,
   "id": "37209ace",
   "metadata": {},
   "outputs": [],
   "source": [
    "new_df = updated_df.join(updated_df.groupBy('ID').agg(F.max('TARGET').alias('Target_final')).select('ID','Target_final'),'ID')"
   ]
  },
  {
   "cell_type": "code",
   "execution_count": 16,
   "id": "88e5bdff",
   "metadata": {
    "scrolled": true
   },
   "outputs": [
    {
     "name": "stdout",
     "output_type": "stream",
     "text": [
      "+-------+--------------+------+------+------------+\n",
      "|     ID|MONTHS_BALANCE|STATUS|TARGET|Target_final|\n",
      "+-------+--------------+------+------+------------+\n",
      "|5001711|             0|     X|     0|           0|\n",
      "|5001711|            -1|     0|     0|           0|\n",
      "|5001711|            -2|     0|     0|           0|\n",
      "|5001711|            -3|     0|     0|           0|\n",
      "|5001712|             0|     C|     0|           0|\n",
      "|5001712|            -1|     C|     0|           0|\n",
      "|5001712|            -2|     C|     0|           0|\n",
      "|5001712|            -3|     C|     0|           0|\n",
      "|5001712|            -4|     C|     0|           0|\n",
      "|5001712|            -5|     C|     0|           0|\n",
      "|5001712|            -6|     C|     0|           0|\n",
      "|5001712|            -7|     C|     0|           0|\n",
      "|5001712|            -8|     C|     0|           0|\n",
      "|5001712|            -9|     0|     0|           0|\n",
      "|5001712|           -10|     0|     0|           0|\n",
      "|5001712|           -11|     0|     0|           0|\n",
      "|5001712|           -12|     0|     0|           0|\n",
      "|5001712|           -13|     0|     0|           0|\n",
      "|5001712|           -14|     0|     0|           0|\n",
      "|5001712|           -15|     0|     0|           0|\n",
      "+-------+--------------+------+------+------------+\n",
      "only showing top 20 rows\n",
      "\n"
     ]
    },
    {
     "name": "stderr",
     "output_type": "stream",
     "text": [
      "Traceback (most recent call last):\n",
      "  File \"/home/ec2-user/spark-2.4.4-bin-hadoop2.7/python/lib/pyspark.zip/pyspark/daemon.py\", line 170, in manager\n",
      "  File \"/home/ec2-user/spark-2.4.4-bin-hadoop2.7/python/lib/pyspark.zip/pyspark/daemon.py\", line 73, in worker\n",
      "  File \"/home/ec2-user/spark-2.4.4-bin-hadoop2.7/python/lib/pyspark.zip/pyspark/worker.py\", line 402, in main\n",
      "    if read_int(infile) == SpecialLengths.END_OF_STREAM:\n",
      "  File \"/home/ec2-user/spark-2.4.4-bin-hadoop2.7/python/lib/pyspark.zip/pyspark/serializers.py\", line 717, in read_int\n",
      "    raise EOFError\n",
      "EOFError\n"
     ]
    }
   ],
   "source": [
    "new_df.show()"
   ]
  },
  {
   "cell_type": "code",
   "execution_count": 17,
   "id": "ff7c9368",
   "metadata": {},
   "outputs": [],
   "source": [
    "df = new_df.select('ID','Target_final').distinct()"
   ]
  },
  {
   "cell_type": "code",
   "execution_count": 18,
   "id": "5b4b1342",
   "metadata": {},
   "outputs": [
    {
     "name": "stdout",
     "output_type": "stream",
     "text": [
      "+-------+------------+\n",
      "|     ID|Target_final|\n",
      "+-------+------------+\n",
      "|5060127|           0|\n",
      "|5095205|           0|\n",
      "|5114046|           0|\n",
      "|5121952|           0|\n",
      "|5120456|           0|\n",
      "|5105081|           0|\n",
      "|5114083|           0|\n",
      "|5121158|           0|\n",
      "|5104882|           0|\n",
      "|5137314|           0|\n",
      "|5009694|           0|\n",
      "|5058371|           0|\n",
      "|5024388|           0|\n",
      "|5022103|           0|\n",
      "|5135959|           0|\n",
      "|5139314|           0|\n",
      "|5022751|           0|\n",
      "|5089303|           0|\n",
      "|5118528|           0|\n",
      "|5003274|           0|\n",
      "+-------+------------+\n",
      "only showing top 20 rows\n",
      "\n"
     ]
    }
   ],
   "source": [
    "df.show()"
   ]
  },
  {
   "cell_type": "code",
   "execution_count": 19,
   "id": "405f5568",
   "metadata": {},
   "outputs": [
    {
     "name": "stdout",
     "output_type": "stream",
     "text": [
      "+------------+\n",
      "|Target_final|\n",
      "+------------+\n",
      "|           1|\n",
      "|           0|\n",
      "+------------+\n",
      "\n"
     ]
    }
   ],
   "source": [
    "df.select('Target_final').distinct().show()"
   ]
  },
  {
   "cell_type": "code",
   "execution_count": 20,
   "id": "7609a119",
   "metadata": {},
   "outputs": [
    {
     "data": {
      "text/plain": [
       "45985"
      ]
     },
     "execution_count": 20,
     "metadata": {},
     "output_type": "execute_result"
    }
   ],
   "source": [
    "df.count()"
   ]
  },
  {
   "cell_type": "code",
   "execution_count": 21,
   "id": "42049304",
   "metadata": {},
   "outputs": [
    {
     "data": {
      "text/plain": [
       "438557"
      ]
     },
     "execution_count": 21,
     "metadata": {},
     "output_type": "execute_result"
    }
   ],
   "source": [
    "application_df.count()"
   ]
  },
  {
   "cell_type": "code",
   "execution_count": 22,
   "id": "ff38b27a",
   "metadata": {},
   "outputs": [
    {
     "name": "stdout",
     "output_type": "stream",
     "text": [
      "+-------+-----------+------------+---------------+------------+----------------+--------------------+--------------------+--------------------+-----------------+----------+-------------+----------+---------------+----------+----------+--------------------+---------------+------------+\n",
      "|     ID|CODE_GENDER|FLAG_OWN_CAR|FLAG_OWN_REALTY|CNT_CHILDREN|AMT_INCOME_TOTAL|    NAME_INCOME_TYPE| NAME_EDUCATION_TYPE|  NAME_FAMILY_STATUS|NAME_HOUSING_TYPE|DAYS_BIRTH|DAYS_EMPLOYED|FLAG_MOBIL|FLAG_WORK_PHONE|FLAG_PHONE|FLAG_EMAIL|     OCCUPATION_TYPE|CNT_FAM_MEMBERS|Target_final|\n",
      "+-------+-----------+------------+---------------+------------+----------------+--------------------+--------------------+--------------------+-----------------+----------+-------------+----------+---------------+----------+----------+--------------------+---------------+------------+\n",
      "|5009033|          F|           N|              N|           0|        255150.0|           Pensioner|   Incomplete higher|      Civil marriage| Rented apartment|    -18682|       365243|         1|              0|         0|         0|                null|            2.0|           0|\n",
      "|5009304|          F|           N|              N|           0|        112500.0|           Pensioner|Secondary / secon...|               Widow|House / apartment|    -22061|       365243|         1|              0|         0|         0|                null|            1.0|           0|\n",
      "|5009355|          F|           N|              N|           0|        135000.0|Commercial associate|Secondary / secon...|             Married|House / apartment|    -19692|        -5273|         1|              1|         1|         0|            Laborers|            2.0|           0|\n",
      "|5009429|          M|           N|              N|           0|        198000.0|             Working|Secondary / secon...|Single / not married|     With parents|     -8657|        -1164|         1|              1|         0|         0|            Laborers|            1.0|           0|\n",
      "|5010070|          F|           N|              Y|           0|        279000.0|       State servant|    Higher education|Single / not married|House / apartment|    -11091|         -617|         1|              0|         0|         1|            Managers|            1.0|           0|\n",
      "|5010236|          M|           Y|              Y|           0|        225000.0|             Working|Secondary / secon...|             Married|House / apartment|    -16507|        -4331|         1|              0|         0|         0|             Drivers|            2.0|           0|\n",
      "|5010338|          F|           N|              N|           0|        216000.0|           Pensioner|Secondary / secon...|             Married|House / apartment|    -22867|       365243|         1|              0|         0|         0|                null|            2.0|           0|\n",
      "|5010511|          F|           Y|              Y|           1|        157500.0|Commercial associate|Secondary / secon...|             Married|House / apartment|    -13830|        -4239|         1|              0|         0|         0|            Laborers|            3.0|           0|\n",
      "|5010624|          F|           N|              Y|           0|        103500.0|           Pensioner|   Incomplete higher|             Married|House / apartment|    -22254|       365243|         1|              0|         1|         0|                null|            2.0|           0|\n",
      "|5010629|          F|           N|              Y|           0|        180000.0|             Working|Secondary / secon...|Single / not married|House / apartment|    -19421|        -2017|         1|              0|         0|         0|                null|            1.0|           0|\n",
      "|5011029|          F|           N|              Y|           0|        292500.0|             Working|Secondary / secon...|      Civil marriage|House / apartment|    -16588|        -1013|         1|              0|         0|         1|         Sales staff|            2.0|           0|\n",
      "|5018442|          F|           N|              Y|           0|        202500.0|             Working|Secondary / secon...|               Widow|House / apartment|    -20227|        -5416|         1|              0|         0|         0|          Core staff|            1.0|           0|\n",
      "|5021819|          F|           Y|              Y|           1|         67500.0|             Working|Secondary / secon...|             Married|House / apartment|    -11454|        -1678|         1|              0|         1|         1|       Cooking staff|            3.0|           0|\n",
      "|5021944|          F|           Y|              Y|           0|        445500.0|Commercial associate|    Higher education|             Married|House / apartment|    -12477|         -456|         1|              0|         0|         0|            Managers|            2.0|           0|\n",
      "|5021994|          M|           Y|              Y|           0|        135000.0|             Working|    Higher education|             Married|House / apartment|     -9303|         -852|         1|              0|         0|         0|         Sales staff|            2.0|           0|\n",
      "|5022024|          M|           Y|              Y|           0|        112500.0|             Working|Secondary / secon...|Single / not married|House / apartment|     -9952|        -1613|         1|              0|         0|         0|                null|            1.0|           0|\n",
      "|5022285|          F|           N|              N|           1|        157500.0|             Working|Secondary / secon...|      Civil marriage|House / apartment|    -15100|        -3500|         1|              0|         0|         0|       Cooking staff|            3.0|           0|\n",
      "|5022944|          F|           Y|              N|           0|        202500.0|Commercial associate|   Incomplete higher|           Separated|House / apartment|    -14096|        -1344|         1|              0|         1|         1|         Accountants|            1.0|           0|\n",
      "|5023011|          M|           Y|              N|           0|        360000.0|             Working|Secondary / secon...|             Married|House / apartment|    -11440|        -2457|         1|              0|         0|         0|Private service s...|            2.0|           0|\n",
      "|5023430|          F|           N|              Y|           0|        108000.0|           Pensioner|Secondary / secon...|             Married|House / apartment|    -23044|       365243|         1|              0|         1|         0|                null|            2.0|           0|\n",
      "+-------+-----------+------------+---------------+------------+----------------+--------------------+--------------------+--------------------+-----------------+----------+-------------+----------+---------------+----------+----------+--------------------+---------------+------------+\n",
      "only showing top 20 rows\n",
      "\n"
     ]
    }
   ],
   "source": [
    "#Merge with the application_df using inner join on column 'ID'\n",
    "merged = application_df.join(df,on='ID',how='inner')\n",
    "merged.show(20)"
   ]
  },
  {
   "cell_type": "code",
   "execution_count": 23,
   "id": "baa684ff",
   "metadata": {},
   "outputs": [
    {
     "data": {
      "text/plain": [
       "36457"
      ]
     },
     "execution_count": 23,
     "metadata": {},
     "output_type": "execute_result"
    }
   ],
   "source": [
    "merged.count()"
   ]
  },
  {
   "cell_type": "code",
   "execution_count": 24,
   "id": "cfad13b4",
   "metadata": {},
   "outputs": [
    {
     "name": "stdout",
     "output_type": "stream",
     "text": [
      "+------------+-----+\n",
      "|Target_final|count|\n",
      "+------------+-----+\n",
      "|           1|  616|\n",
      "|           0|35841|\n",
      "+------------+-----+\n",
      "\n"
     ]
    }
   ],
   "source": [
    "merged.groupBy('Target_final').count().show()"
   ]
  },
  {
   "cell_type": "markdown",
   "id": "b73fb31e",
   "metadata": {},
   "source": [
    "# Exploratory Data Analysis using Seaborn and Matplotlib"
   ]
  },
  {
   "cell_type": "markdown",
   "id": "d106aab8",
   "metadata": {},
   "source": [
    "***Install Seaborn***"
   ]
  },
  {
   "cell_type": "code",
   "execution_count": 25,
   "id": "ee25c749",
   "metadata": {},
   "outputs": [
    {
     "name": "stdout",
     "output_type": "stream",
     "text": [
      "Defaulting to user installation because normal site-packages is not writeable\n",
      "Requirement already satisfied: seaborn in ./.local/lib/python3.7/site-packages (0.12.0)\n",
      "Requirement already satisfied: pandas>=0.25 in ./.local/lib/python3.7/site-packages (from seaborn) (1.3.5)\n",
      "Requirement already satisfied: numpy>=1.17 in ./.local/lib/python3.7/site-packages (from seaborn) (1.21.6)\n",
      "Requirement already satisfied: typing_extensions; python_version < \"3.8\" in ./.local/lib/python3.7/site-packages (from seaborn) (4.3.0)\n",
      "Requirement already satisfied: matplotlib>=3.1 in ./.local/lib/python3.7/site-packages (from seaborn) (3.5.3)\n"
     ]
    },
    {
     "name": "stderr",
     "output_type": "stream",
     "text": [
      "WARNING: pip is being invoked by an old script wrapper. This will fail in a future version of pip.\n",
      "Please see https://github.com/pypa/pip/issues/5599 for advice on fixing the underlying issue.\n",
      "To avoid this problem you can invoke Python with '-m pip' instead of running pip directly.\n"
     ]
    },
    {
     "name": "stdout",
     "output_type": "stream",
     "text": [
      "Requirement already satisfied: python-dateutil>=2.7.3 in ./.local/lib/python3.7/site-packages (from pandas>=0.25->seaborn) (2.8.2)\n",
      "Requirement already satisfied: pytz>=2017.3 in ./.local/lib/python3.7/site-packages (from pandas>=0.25->seaborn) (2022.2.1)\n",
      "Requirement already satisfied: fonttools>=4.22.0 in ./.local/lib/python3.7/site-packages (from matplotlib>=3.1->seaborn) (4.37.4)\n",
      "Requirement already satisfied: kiwisolver>=1.0.1 in ./.local/lib/python3.7/site-packages (from matplotlib>=3.1->seaborn) (1.4.4)\n",
      "Requirement already satisfied: packaging>=20.0 in ./.local/lib/python3.7/site-packages (from matplotlib>=3.1->seaborn) (21.3)\n",
      "Requirement already satisfied: pyparsing>=2.2.1 in ./.local/lib/python3.7/site-packages (from matplotlib>=3.1->seaborn) (3.0.9)\n",
      "Requirement already satisfied: cycler>=0.10 in ./.local/lib/python3.7/site-packages (from matplotlib>=3.1->seaborn) (0.11.0)\n",
      "Requirement already satisfied: pillow>=6.2.0 in ./.local/lib/python3.7/site-packages (from matplotlib>=3.1->seaborn) (9.2.0)\n",
      "Requirement already satisfied: six>=1.5 in ./.local/lib/python3.7/site-packages (from python-dateutil>=2.7.3->pandas>=0.25->seaborn) (1.16.0)\n"
     ]
    },
    {
     "data": {
      "text/plain": [
       "0"
      ]
     },
     "execution_count": 25,
     "metadata": {},
     "output_type": "execute_result"
    }
   ],
   "source": [
    "import pip\n",
    "pip.main(['install','seaborn'])"
   ]
  },
  {
   "cell_type": "markdown",
   "id": "1261808c",
   "metadata": {},
   "source": [
    "***Import Matplotlib.pyplot and seaborn***"
   ]
  },
  {
   "cell_type": "code",
   "execution_count": 26,
   "id": "9ab3da22",
   "metadata": {},
   "outputs": [],
   "source": [
    "import matplotlib.pyplot as plt\n",
    "import seaborn as sns"
   ]
  },
  {
   "cell_type": "markdown",
   "id": "7fd398a9",
   "metadata": {},
   "source": [
    "***Converting Spark DF to Pandas dataframe for visualizations and exploratory data analysis***"
   ]
  },
  {
   "cell_type": "code",
   "execution_count": 27,
   "id": "a2595f9e",
   "metadata": {},
   "outputs": [
    {
     "data": {
      "text/html": [
       "<div>\n",
       "<style scoped>\n",
       "    .dataframe tbody tr th:only-of-type {\n",
       "        vertical-align: middle;\n",
       "    }\n",
       "\n",
       "    .dataframe tbody tr th {\n",
       "        vertical-align: top;\n",
       "    }\n",
       "\n",
       "    .dataframe thead th {\n",
       "        text-align: right;\n",
       "    }\n",
       "</style>\n",
       "<table border=\"1\" class=\"dataframe\">\n",
       "  <thead>\n",
       "    <tr style=\"text-align: right;\">\n",
       "      <th></th>\n",
       "      <th>ID</th>\n",
       "      <th>CODE_GENDER</th>\n",
       "      <th>FLAG_OWN_CAR</th>\n",
       "      <th>FLAG_OWN_REALTY</th>\n",
       "      <th>CNT_CHILDREN</th>\n",
       "      <th>AMT_INCOME_TOTAL</th>\n",
       "      <th>NAME_INCOME_TYPE</th>\n",
       "      <th>NAME_EDUCATION_TYPE</th>\n",
       "      <th>NAME_FAMILY_STATUS</th>\n",
       "      <th>NAME_HOUSING_TYPE</th>\n",
       "      <th>DAYS_BIRTH</th>\n",
       "      <th>DAYS_EMPLOYED</th>\n",
       "      <th>FLAG_MOBIL</th>\n",
       "      <th>FLAG_WORK_PHONE</th>\n",
       "      <th>FLAG_PHONE</th>\n",
       "      <th>FLAG_EMAIL</th>\n",
       "      <th>OCCUPATION_TYPE</th>\n",
       "      <th>CNT_FAM_MEMBERS</th>\n",
       "      <th>Target_final</th>\n",
       "    </tr>\n",
       "  </thead>\n",
       "  <tbody>\n",
       "    <tr>\n",
       "      <th>0</th>\n",
       "      <td>5009033</td>\n",
       "      <td>F</td>\n",
       "      <td>N</td>\n",
       "      <td>N</td>\n",
       "      <td>0</td>\n",
       "      <td>255150.0</td>\n",
       "      <td>Pensioner</td>\n",
       "      <td>Incomplete higher</td>\n",
       "      <td>Civil marriage</td>\n",
       "      <td>Rented apartment</td>\n",
       "      <td>-18682</td>\n",
       "      <td>365243</td>\n",
       "      <td>1</td>\n",
       "      <td>0</td>\n",
       "      <td>0</td>\n",
       "      <td>0</td>\n",
       "      <td>None</td>\n",
       "      <td>2.0</td>\n",
       "      <td>0</td>\n",
       "    </tr>\n",
       "    <tr>\n",
       "      <th>1</th>\n",
       "      <td>5009304</td>\n",
       "      <td>F</td>\n",
       "      <td>N</td>\n",
       "      <td>N</td>\n",
       "      <td>0</td>\n",
       "      <td>112500.0</td>\n",
       "      <td>Pensioner</td>\n",
       "      <td>Secondary / secondary special</td>\n",
       "      <td>Widow</td>\n",
       "      <td>House / apartment</td>\n",
       "      <td>-22061</td>\n",
       "      <td>365243</td>\n",
       "      <td>1</td>\n",
       "      <td>0</td>\n",
       "      <td>0</td>\n",
       "      <td>0</td>\n",
       "      <td>None</td>\n",
       "      <td>1.0</td>\n",
       "      <td>0</td>\n",
       "    </tr>\n",
       "    <tr>\n",
       "      <th>2</th>\n",
       "      <td>5009355</td>\n",
       "      <td>F</td>\n",
       "      <td>N</td>\n",
       "      <td>N</td>\n",
       "      <td>0</td>\n",
       "      <td>135000.0</td>\n",
       "      <td>Commercial associate</td>\n",
       "      <td>Secondary / secondary special</td>\n",
       "      <td>Married</td>\n",
       "      <td>House / apartment</td>\n",
       "      <td>-19692</td>\n",
       "      <td>-5273</td>\n",
       "      <td>1</td>\n",
       "      <td>1</td>\n",
       "      <td>1</td>\n",
       "      <td>0</td>\n",
       "      <td>Laborers</td>\n",
       "      <td>2.0</td>\n",
       "      <td>0</td>\n",
       "    </tr>\n",
       "    <tr>\n",
       "      <th>3</th>\n",
       "      <td>5009429</td>\n",
       "      <td>M</td>\n",
       "      <td>N</td>\n",
       "      <td>N</td>\n",
       "      <td>0</td>\n",
       "      <td>198000.0</td>\n",
       "      <td>Working</td>\n",
       "      <td>Secondary / secondary special</td>\n",
       "      <td>Single / not married</td>\n",
       "      <td>With parents</td>\n",
       "      <td>-8657</td>\n",
       "      <td>-1164</td>\n",
       "      <td>1</td>\n",
       "      <td>1</td>\n",
       "      <td>0</td>\n",
       "      <td>0</td>\n",
       "      <td>Laborers</td>\n",
       "      <td>1.0</td>\n",
       "      <td>0</td>\n",
       "    </tr>\n",
       "    <tr>\n",
       "      <th>4</th>\n",
       "      <td>5010070</td>\n",
       "      <td>F</td>\n",
       "      <td>N</td>\n",
       "      <td>Y</td>\n",
       "      <td>0</td>\n",
       "      <td>279000.0</td>\n",
       "      <td>State servant</td>\n",
       "      <td>Higher education</td>\n",
       "      <td>Single / not married</td>\n",
       "      <td>House / apartment</td>\n",
       "      <td>-11091</td>\n",
       "      <td>-617</td>\n",
       "      <td>1</td>\n",
       "      <td>0</td>\n",
       "      <td>0</td>\n",
       "      <td>1</td>\n",
       "      <td>Managers</td>\n",
       "      <td>1.0</td>\n",
       "      <td>0</td>\n",
       "    </tr>\n",
       "  </tbody>\n",
       "</table>\n",
       "</div>"
      ],
      "text/plain": [
       "        ID CODE_GENDER FLAG_OWN_CAR FLAG_OWN_REALTY  CNT_CHILDREN  \\\n",
       "0  5009033           F            N               N             0   \n",
       "1  5009304           F            N               N             0   \n",
       "2  5009355           F            N               N             0   \n",
       "3  5009429           M            N               N             0   \n",
       "4  5010070           F            N               Y             0   \n",
       "\n",
       "   AMT_INCOME_TOTAL      NAME_INCOME_TYPE            NAME_EDUCATION_TYPE  \\\n",
       "0          255150.0             Pensioner              Incomplete higher   \n",
       "1          112500.0             Pensioner  Secondary / secondary special   \n",
       "2          135000.0  Commercial associate  Secondary / secondary special   \n",
       "3          198000.0               Working  Secondary / secondary special   \n",
       "4          279000.0         State servant               Higher education   \n",
       "\n",
       "     NAME_FAMILY_STATUS  NAME_HOUSING_TYPE  DAYS_BIRTH  DAYS_EMPLOYED  \\\n",
       "0        Civil marriage   Rented apartment      -18682         365243   \n",
       "1                 Widow  House / apartment      -22061         365243   \n",
       "2               Married  House / apartment      -19692          -5273   \n",
       "3  Single / not married       With parents       -8657          -1164   \n",
       "4  Single / not married  House / apartment      -11091           -617   \n",
       "\n",
       "   FLAG_MOBIL  FLAG_WORK_PHONE  FLAG_PHONE  FLAG_EMAIL OCCUPATION_TYPE  \\\n",
       "0           1                0           0           0            None   \n",
       "1           1                0           0           0            None   \n",
       "2           1                1           1           0        Laborers   \n",
       "3           1                1           0           0        Laborers   \n",
       "4           1                0           0           1        Managers   \n",
       "\n",
       "   CNT_FAM_MEMBERS  Target_final  \n",
       "0              2.0             0  \n",
       "1              1.0             0  \n",
       "2              2.0             0  \n",
       "3              1.0             0  \n",
       "4              1.0             0  "
      ]
     },
     "execution_count": 27,
     "metadata": {},
     "output_type": "execute_result"
    }
   ],
   "source": [
    "pandas_df = merged.toPandas()\n",
    "pandas_df.head()"
   ]
  },
  {
   "cell_type": "code",
   "execution_count": 28,
   "id": "ebcb98a4",
   "metadata": {},
   "outputs": [
    {
     "data": {
      "text/plain": [
       "(36457, 19)"
      ]
     },
     "execution_count": 28,
     "metadata": {},
     "output_type": "execute_result"
    }
   ],
   "source": [
    "#Shape of our pandas dataframe\n",
    "pandas_df.shape"
   ]
  },
  {
   "cell_type": "markdown",
   "id": "338bd48f",
   "metadata": {},
   "source": [
    "## Checking Missing Values in our dataset"
   ]
  },
  {
   "cell_type": "code",
   "execution_count": 29,
   "id": "caf3f240",
   "metadata": {},
   "outputs": [
    {
     "name": "stdout",
     "output_type": "stream",
     "text": [
      "<class 'pandas.core.frame.DataFrame'>\n",
      "RangeIndex: 36457 entries, 0 to 36456\n",
      "Data columns (total 19 columns):\n",
      " #   Column               Non-Null Count  Dtype  \n",
      "---  ------               --------------  -----  \n",
      " 0   ID                   36457 non-null  int32  \n",
      " 1   CODE_GENDER          36457 non-null  object \n",
      " 2   FLAG_OWN_CAR         36457 non-null  object \n",
      " 3   FLAG_OWN_REALTY      36457 non-null  object \n",
      " 4   CNT_CHILDREN         36457 non-null  int32  \n",
      " 5   AMT_INCOME_TOTAL     36457 non-null  float64\n",
      " 6   NAME_INCOME_TYPE     36457 non-null  object \n",
      " 7   NAME_EDUCATION_TYPE  36457 non-null  object \n",
      " 8   NAME_FAMILY_STATUS   36457 non-null  object \n",
      " 9   NAME_HOUSING_TYPE    36457 non-null  object \n",
      " 10  DAYS_BIRTH           36457 non-null  int32  \n",
      " 11  DAYS_EMPLOYED        36457 non-null  int32  \n",
      " 12  FLAG_MOBIL           36457 non-null  int32  \n",
      " 13  FLAG_WORK_PHONE      36457 non-null  int32  \n",
      " 14  FLAG_PHONE           36457 non-null  int32  \n",
      " 15  FLAG_EMAIL           36457 non-null  int32  \n",
      " 16  OCCUPATION_TYPE      25134 non-null  object \n",
      " 17  CNT_FAM_MEMBERS      36457 non-null  float64\n",
      " 18  Target_final         36457 non-null  int32  \n",
      "dtypes: float64(2), int32(9), object(8)\n",
      "memory usage: 4.0+ MB\n"
     ]
    }
   ],
   "source": [
    "# Info for all columns\n",
    "pandas_df.info()"
   ]
  },
  {
   "cell_type": "code",
   "execution_count": 30,
   "id": "a705cc67",
   "metadata": {},
   "outputs": [
    {
     "data": {
      "text/plain": [
       "ID                         0\n",
       "CODE_GENDER                0\n",
       "FLAG_OWN_CAR               0\n",
       "FLAG_OWN_REALTY            0\n",
       "CNT_CHILDREN               0\n",
       "AMT_INCOME_TOTAL           0\n",
       "NAME_INCOME_TYPE           0\n",
       "NAME_EDUCATION_TYPE        0\n",
       "NAME_FAMILY_STATUS         0\n",
       "NAME_HOUSING_TYPE          0\n",
       "DAYS_BIRTH                 0\n",
       "DAYS_EMPLOYED              0\n",
       "FLAG_MOBIL                 0\n",
       "FLAG_WORK_PHONE            0\n",
       "FLAG_PHONE                 0\n",
       "FLAG_EMAIL                 0\n",
       "OCCUPATION_TYPE        11323\n",
       "CNT_FAM_MEMBERS            0\n",
       "Target_final               0\n",
       "dtype: int64"
      ]
     },
     "execution_count": 30,
     "metadata": {},
     "output_type": "execute_result"
    }
   ],
   "source": [
    "pandas_df.isnull().sum()"
   ]
  },
  {
   "cell_type": "markdown",
   "id": "94f9236e",
   "metadata": {},
   "source": [
    "> ***Observations:*** <br>\n",
    "> Feature OCCUPATION_TYPE has 11323 missing values. Since it's a huge missing data, we will not drop these rows, instead we can do some imputation on this column. Or we can also make 'Missing Occupation' as a category and categorize all the missing values. "
   ]
  },
  {
   "cell_type": "code",
   "execution_count": 31,
   "id": "cc72f0df",
   "metadata": {},
   "outputs": [
    {
     "data": {
      "text/plain": [
       "ID                       int32\n",
       "CODE_GENDER             object\n",
       "FLAG_OWN_CAR            object\n",
       "FLAG_OWN_REALTY         object\n",
       "CNT_CHILDREN             int32\n",
       "AMT_INCOME_TOTAL       float64\n",
       "NAME_INCOME_TYPE        object\n",
       "NAME_EDUCATION_TYPE     object\n",
       "NAME_FAMILY_STATUS      object\n",
       "NAME_HOUSING_TYPE       object\n",
       "DAYS_BIRTH               int32\n",
       "DAYS_EMPLOYED            int32\n",
       "FLAG_MOBIL               int32\n",
       "FLAG_WORK_PHONE          int32\n",
       "FLAG_PHONE               int32\n",
       "FLAG_EMAIL               int32\n",
       "OCCUPATION_TYPE         object\n",
       "CNT_FAM_MEMBERS        float64\n",
       "Target_final             int32\n",
       "dtype: object"
      ]
     },
     "execution_count": 31,
     "metadata": {},
     "output_type": "execute_result"
    }
   ],
   "source": [
    "# Checking dtypes\n",
    "pandas_df.dtypes"
   ]
  },
  {
   "cell_type": "code",
   "execution_count": null,
   "id": "e1c44907",
   "metadata": {},
   "outputs": [],
   "source": [
    "#Function to help in EDA\n",
    "#For understanding the data more clearly, and analyzing columns on the basis of TARGET variable,\n",
    "#We can create a function to provide us the defaulter percentage for each of the category.\n",
    "def calculate_delinquent_pct(df,col):\n",
    "    temp_df = pd.DataFrame(columns=['Category','Delinquent Percentage'])\n",
    "    for cat in df[col].unique():\n",
    "        defaulter_count = df[(df[col]==cat) & (df['TARGET']==1)].shape[0]\n",
    "        total_count = df[df[col]==cat].shape[0]\n",
    "        temp_df = temp_df.append({'Category':cat,'Delinquent Percentage':(defaulter_count/total_count * 100)},ignore_index=True)\n",
    "    return temp_df.sort_values(by='Delinquent Percentage',ascending=False)"
   ]
  },
  {
   "cell_type": "markdown",
   "id": "bc23731f",
   "metadata": {},
   "source": [
    "## Numerical Features EDA"
   ]
  },
  {
   "cell_type": "code",
   "execution_count": 32,
   "id": "99d64e96",
   "metadata": {},
   "outputs": [
    {
     "data": {
      "text/html": [
       "<div>\n",
       "<style scoped>\n",
       "    .dataframe tbody tr th:only-of-type {\n",
       "        vertical-align: middle;\n",
       "    }\n",
       "\n",
       "    .dataframe tbody tr th {\n",
       "        vertical-align: top;\n",
       "    }\n",
       "\n",
       "    .dataframe thead th {\n",
       "        text-align: right;\n",
       "    }\n",
       "</style>\n",
       "<table border=\"1\" class=\"dataframe\">\n",
       "  <thead>\n",
       "    <tr style=\"text-align: right;\">\n",
       "      <th></th>\n",
       "      <th>ID</th>\n",
       "      <th>CNT_CHILDREN</th>\n",
       "      <th>AMT_INCOME_TOTAL</th>\n",
       "      <th>DAYS_BIRTH</th>\n",
       "      <th>DAYS_EMPLOYED</th>\n",
       "      <th>FLAG_MOBIL</th>\n",
       "      <th>FLAG_WORK_PHONE</th>\n",
       "      <th>FLAG_PHONE</th>\n",
       "      <th>FLAG_EMAIL</th>\n",
       "      <th>CNT_FAM_MEMBERS</th>\n",
       "      <th>Target_final</th>\n",
       "    </tr>\n",
       "  </thead>\n",
       "  <tbody>\n",
       "    <tr>\n",
       "      <th>count</th>\n",
       "      <td>3.645700e+04</td>\n",
       "      <td>36457.000000</td>\n",
       "      <td>3.645700e+04</td>\n",
       "      <td>36457.000000</td>\n",
       "      <td>36457.000000</td>\n",
       "      <td>36457.0</td>\n",
       "      <td>36457.000000</td>\n",
       "      <td>36457.000000</td>\n",
       "      <td>36457.000000</td>\n",
       "      <td>36457.000000</td>\n",
       "      <td>36457.000000</td>\n",
       "    </tr>\n",
       "    <tr>\n",
       "      <th>mean</th>\n",
       "      <td>5.078227e+06</td>\n",
       "      <td>0.430315</td>\n",
       "      <td>1.866857e+05</td>\n",
       "      <td>-15975.173382</td>\n",
       "      <td>59262.935568</td>\n",
       "      <td>1.0</td>\n",
       "      <td>0.225526</td>\n",
       "      <td>0.294813</td>\n",
       "      <td>0.089722</td>\n",
       "      <td>2.198453</td>\n",
       "      <td>0.016897</td>\n",
       "    </tr>\n",
       "    <tr>\n",
       "      <th>std</th>\n",
       "      <td>4.187524e+04</td>\n",
       "      <td>0.742367</td>\n",
       "      <td>1.017892e+05</td>\n",
       "      <td>4200.549944</td>\n",
       "      <td>137651.334859</td>\n",
       "      <td>0.0</td>\n",
       "      <td>0.417934</td>\n",
       "      <td>0.455965</td>\n",
       "      <td>0.285787</td>\n",
       "      <td>0.911686</td>\n",
       "      <td>0.128886</td>\n",
       "    </tr>\n",
       "    <tr>\n",
       "      <th>min</th>\n",
       "      <td>5.008804e+06</td>\n",
       "      <td>0.000000</td>\n",
       "      <td>2.700000e+04</td>\n",
       "      <td>-25152.000000</td>\n",
       "      <td>-15713.000000</td>\n",
       "      <td>1.0</td>\n",
       "      <td>0.000000</td>\n",
       "      <td>0.000000</td>\n",
       "      <td>0.000000</td>\n",
       "      <td>1.000000</td>\n",
       "      <td>0.000000</td>\n",
       "    </tr>\n",
       "    <tr>\n",
       "      <th>25%</th>\n",
       "      <td>5.042028e+06</td>\n",
       "      <td>0.000000</td>\n",
       "      <td>1.215000e+05</td>\n",
       "      <td>-19438.000000</td>\n",
       "      <td>-3153.000000</td>\n",
       "      <td>1.0</td>\n",
       "      <td>0.000000</td>\n",
       "      <td>0.000000</td>\n",
       "      <td>0.000000</td>\n",
       "      <td>2.000000</td>\n",
       "      <td>0.000000</td>\n",
       "    </tr>\n",
       "    <tr>\n",
       "      <th>50%</th>\n",
       "      <td>5.074614e+06</td>\n",
       "      <td>0.000000</td>\n",
       "      <td>1.575000e+05</td>\n",
       "      <td>-15563.000000</td>\n",
       "      <td>-1552.000000</td>\n",
       "      <td>1.0</td>\n",
       "      <td>0.000000</td>\n",
       "      <td>0.000000</td>\n",
       "      <td>0.000000</td>\n",
       "      <td>2.000000</td>\n",
       "      <td>0.000000</td>\n",
       "    </tr>\n",
       "    <tr>\n",
       "      <th>75%</th>\n",
       "      <td>5.115396e+06</td>\n",
       "      <td>1.000000</td>\n",
       "      <td>2.250000e+05</td>\n",
       "      <td>-12462.000000</td>\n",
       "      <td>-408.000000</td>\n",
       "      <td>1.0</td>\n",
       "      <td>0.000000</td>\n",
       "      <td>1.000000</td>\n",
       "      <td>0.000000</td>\n",
       "      <td>3.000000</td>\n",
       "      <td>0.000000</td>\n",
       "    </tr>\n",
       "    <tr>\n",
       "      <th>max</th>\n",
       "      <td>5.150487e+06</td>\n",
       "      <td>19.000000</td>\n",
       "      <td>1.575000e+06</td>\n",
       "      <td>-7489.000000</td>\n",
       "      <td>365243.000000</td>\n",
       "      <td>1.0</td>\n",
       "      <td>1.000000</td>\n",
       "      <td>1.000000</td>\n",
       "      <td>1.000000</td>\n",
       "      <td>20.000000</td>\n",
       "      <td>1.000000</td>\n",
       "    </tr>\n",
       "  </tbody>\n",
       "</table>\n",
       "</div>"
      ],
      "text/plain": [
       "                 ID  CNT_CHILDREN  AMT_INCOME_TOTAL    DAYS_BIRTH  \\\n",
       "count  3.645700e+04  36457.000000      3.645700e+04  36457.000000   \n",
       "mean   5.078227e+06      0.430315      1.866857e+05 -15975.173382   \n",
       "std    4.187524e+04      0.742367      1.017892e+05   4200.549944   \n",
       "min    5.008804e+06      0.000000      2.700000e+04 -25152.000000   \n",
       "25%    5.042028e+06      0.000000      1.215000e+05 -19438.000000   \n",
       "50%    5.074614e+06      0.000000      1.575000e+05 -15563.000000   \n",
       "75%    5.115396e+06      1.000000      2.250000e+05 -12462.000000   \n",
       "max    5.150487e+06     19.000000      1.575000e+06  -7489.000000   \n",
       "\n",
       "       DAYS_EMPLOYED  FLAG_MOBIL  FLAG_WORK_PHONE    FLAG_PHONE    FLAG_EMAIL  \\\n",
       "count   36457.000000     36457.0     36457.000000  36457.000000  36457.000000   \n",
       "mean    59262.935568         1.0         0.225526      0.294813      0.089722   \n",
       "std    137651.334859         0.0         0.417934      0.455965      0.285787   \n",
       "min    -15713.000000         1.0         0.000000      0.000000      0.000000   \n",
       "25%     -3153.000000         1.0         0.000000      0.000000      0.000000   \n",
       "50%     -1552.000000         1.0         0.000000      0.000000      0.000000   \n",
       "75%      -408.000000         1.0         0.000000      1.000000      0.000000   \n",
       "max    365243.000000         1.0         1.000000      1.000000      1.000000   \n",
       "\n",
       "       CNT_FAM_MEMBERS  Target_final  \n",
       "count     36457.000000  36457.000000  \n",
       "mean          2.198453      0.016897  \n",
       "std           0.911686      0.128886  \n",
       "min           1.000000      0.000000  \n",
       "25%           2.000000      0.000000  \n",
       "50%           2.000000      0.000000  \n",
       "75%           3.000000      0.000000  \n",
       "max          20.000000      1.000000  "
      ]
     },
     "execution_count": 32,
     "metadata": {},
     "output_type": "execute_result"
    }
   ],
   "source": [
    "pandas_df.describe()"
   ]
  },
  {
   "cell_type": "markdown",
   "id": "7f4cdc0e",
   "metadata": {},
   "source": [
    "***Observations based on Describe() method used above:***"
   ]
  },
  {
   "cell_type": "code",
   "execution_count": 33,
   "id": "85865bee",
   "metadata": {},
   "outputs": [
    {
     "data": {
      "text/plain": [
       "0     25201\n",
       "1      7492\n",
       "2      3256\n",
       "3       419\n",
       "4        63\n",
       "5        20\n",
       "14        3\n",
       "7         2\n",
       "19        1\n",
       "Name: CNT_CHILDREN, dtype: int64"
      ]
     },
     "execution_count": 33,
     "metadata": {},
     "output_type": "execute_result"
    }
   ],
   "source": [
    "# FEATURE: CNT_CHILDREN\n",
    "# We see max CNT_CHILDREN to be 19, which seems highly unlikely.\n",
    "# Let's explore the data\n",
    "pandas_df.CNT_CHILDREN.value_counts()"
   ]
  },
  {
   "cell_type": "code",
   "execution_count": null,
   "id": "9616ea77",
   "metadata": {},
   "outputs": [],
   "source": [
    "calculate_delinquent_pct(pandas_df,'CNT_CHILDREN')"
   ]
  },
  {
   "cell_type": "code",
   "execution_count": 34,
   "id": "50ee431b",
   "metadata": {},
   "outputs": [
    {
     "data": {
      "image/png": "[encoded data removed]",
      "text/plain": [
       "<Figure size 432x288 with 1 Axes>"
      ]
     },
     "metadata": {
      "needs_background": "light"
     },
     "output_type": "display_data"
    }
   ],
   "source": [
    "sns.boxplot(data=pandas_df,x='CNT_CHILDREN')\n",
    "plt.show()"
   ]
  },
  {
   "cell_type": "code",
   "execution_count": 35,
   "id": "d42b3fcb",
   "metadata": {},
   "outputs": [
    {
     "data": {
      "image/png": "[encoded data removed]",
      "text/plain": [
       "<Figure size 432x288 with 1 Axes>"
      ]
     },
     "metadata": {
      "needs_background": "light"
     },
     "output_type": "display_data"
    }
   ],
   "source": [
    "# There are 3 customerID with 14 number of childrens and 1 customer with 19 children which seems highly unlikely. \n",
    "# So it's an outlier.\n",
    "sns.countplot(data=pandas_df,x='CNT_CHILDREN')\n",
    "plt.show()"
   ]
  },
  {
   "cell_type": "markdown",
   "id": "2a331b43",
   "metadata": {},
   "source": [
    "> ***Observations:*** <br>\n",
    "> Feature CNT_CHILDREN has some outliers 14 and 19, which seems highly unlikely. So we will replace these values later in Feature engineering part."
   ]
  },
  {
   "cell_type": "code",
   "execution_count": 36,
   "id": "66e28352",
   "metadata": {},
   "outputs": [],
   "source": [
    "# FEATURE: DAYS_BIRTH\n",
    "# Days birth is birthdate which is in negative, i.e. -1 means birthday was yesterday, so we need to convert these values to\n",
    "# age while feature engineering."
   ]
  },
  {
   "cell_type": "code",
   "execution_count": 37,
   "id": "87098f41",
   "metadata": {},
   "outputs": [
    {
     "data": {
      "text/html": [
       "<div>\n",
       "<style scoped>\n",
       "    .dataframe tbody tr th:only-of-type {\n",
       "        vertical-align: middle;\n",
       "    }\n",
       "\n",
       "    .dataframe tbody tr th {\n",
       "        vertical-align: top;\n",
       "    }\n",
       "\n",
       "    .dataframe thead th {\n",
       "        text-align: right;\n",
       "    }\n",
       "</style>\n",
       "<table border=\"1\" class=\"dataframe\">\n",
       "  <thead>\n",
       "    <tr style=\"text-align: right;\">\n",
       "      <th></th>\n",
       "      <th>ID</th>\n",
       "      <th>CODE_GENDER</th>\n",
       "      <th>FLAG_OWN_CAR</th>\n",
       "      <th>FLAG_OWN_REALTY</th>\n",
       "      <th>CNT_CHILDREN</th>\n",
       "      <th>AMT_INCOME_TOTAL</th>\n",
       "      <th>NAME_INCOME_TYPE</th>\n",
       "      <th>NAME_EDUCATION_TYPE</th>\n",
       "      <th>NAME_FAMILY_STATUS</th>\n",
       "      <th>NAME_HOUSING_TYPE</th>\n",
       "      <th>DAYS_BIRTH</th>\n",
       "      <th>DAYS_EMPLOYED</th>\n",
       "      <th>FLAG_MOBIL</th>\n",
       "      <th>FLAG_WORK_PHONE</th>\n",
       "      <th>FLAG_PHONE</th>\n",
       "      <th>FLAG_EMAIL</th>\n",
       "      <th>OCCUPATION_TYPE</th>\n",
       "      <th>CNT_FAM_MEMBERS</th>\n",
       "      <th>Target_final</th>\n",
       "    </tr>\n",
       "  </thead>\n",
       "  <tbody>\n",
       "  </tbody>\n",
       "</table>\n",
       "</div>"
      ],
      "text/plain": [
       "Empty DataFrame\n",
       "Columns: [ID, CODE_GENDER, FLAG_OWN_CAR, FLAG_OWN_REALTY, CNT_CHILDREN, AMT_INCOME_TOTAL, NAME_INCOME_TYPE, NAME_EDUCATION_TYPE, NAME_FAMILY_STATUS, NAME_HOUSING_TYPE, DAYS_BIRTH, DAYS_EMPLOYED, FLAG_MOBIL, FLAG_WORK_PHONE, FLAG_PHONE, FLAG_EMAIL, OCCUPATION_TYPE, CNT_FAM_MEMBERS, Target_final]\n",
       "Index: []"
      ]
     },
     "execution_count": 37,
     "metadata": {},
     "output_type": "execute_result"
    }
   ],
   "source": [
    "# No value should be greater than 0\n",
    "pandas_df[pandas_df.DAYS_BIRTH > 0]"
   ]
  },
  {
   "cell_type": "markdown",
   "id": "83307b50",
   "metadata": {},
   "source": [
    "> ***Observations:*** <br>\n",
    "> Feature DAYS_BIRTH is in negative values and we need to transform this feature into Age by dividing this by 365. Then we can bin the age column to find a range and get hidden insights."
   ]
  },
  {
   "cell_type": "code",
   "execution_count": 38,
   "id": "ded235b2",
   "metadata": {},
   "outputs": [
    {
     "data": {
      "text/plain": [
       "(6135, 19)"
      ]
     },
     "execution_count": 38,
     "metadata": {},
     "output_type": "execute_result"
    }
   ],
   "source": [
    "# FEATURE: DAYS_EMPLOYED\n",
    "# Days employed should not be positive\n",
    "temp = pandas_df[pandas_df.DAYS_EMPLOYED > 0]\n",
    "temp.shape"
   ]
  },
  {
   "cell_type": "code",
   "execution_count": 39,
   "id": "dfc91a08",
   "metadata": {},
   "outputs": [
    {
     "data": {
      "text/plain": [
       "Pensioner    6135\n",
       "Name: NAME_INCOME_TYPE, dtype: int64"
      ]
     },
     "execution_count": 39,
     "metadata": {},
     "output_type": "execute_result"
    }
   ],
   "source": [
    "# But we see there are 6135 values whose DAYS_EMPLOYED > 0\n",
    "# Let's check the INCOME TYPE of these people.\n",
    "temp['NAME_INCOME_TYPE'].value_counts()"
   ]
  },
  {
   "cell_type": "markdown",
   "id": "d20e82fb",
   "metadata": {},
   "source": [
    "> ***Observations:*** <br>\n",
    "> Feature DAYS_EMPLOYED has both positive and negative values. Positive values are only for People with INCOME_TYPE = Pensioner. This is because Pensioners are not employed. We need to do some feature transformation for positive values."
   ]
  },
  {
   "cell_type": "code",
   "execution_count": 40,
   "id": "91a946a3",
   "metadata": {},
   "outputs": [
    {
     "data": {
      "image/png": "[encoded data removed]",
      "text/plain": [
       "<Figure size 432x288 with 1 Axes>"
      ]
     },
     "metadata": {
      "needs_background": "light"
     },
     "output_type": "display_data"
    }
   ],
   "source": [
    "# FEATURE: AMT_INCOME_TOTAL\n",
    "sns.boxplot(data=pandas_df,x='AMT_INCOME_TOTAL')\n",
    "plt.show()"
   ]
  },
  {
   "cell_type": "code",
   "execution_count": 41,
   "id": "3c85b90b",
   "metadata": {},
   "outputs": [
    {
     "data": {
      "text/plain": [
       "1    36457\n",
       "Name: FLAG_MOBIL, dtype: int64"
      ]
     },
     "execution_count": 41,
     "metadata": {},
     "output_type": "execute_result"
    }
   ],
   "source": [
    "# FEATURE: FLAG_MOBIL\n",
    "pandas_df.FLAG_MOBIL.value_counts()"
   ]
  },
  {
   "cell_type": "markdown",
   "id": "d7e0e768",
   "metadata": {},
   "source": [
    "> ***Observations:*** <br>\n",
    "> All are FLAG_MOBIL 1 , so this column is of no use to us. And we will delete this column later on."
   ]
  },
  {
   "cell_type": "code",
   "execution_count": 42,
   "id": "3b83b32d",
   "metadata": {},
   "outputs": [
    {
     "data": {
      "text/plain": [
       "0    0.774474\n",
       "1    0.225526\n",
       "Name: FLAG_WORK_PHONE, dtype: float64"
      ]
     },
     "execution_count": 42,
     "metadata": {},
     "output_type": "execute_result"
    }
   ],
   "source": [
    "# FEATURE: FLAG_WORK_PHONE\n",
    "pandas_df.FLAG_WORK_PHONE.value_counts(normalize=True)"
   ]
  },
  {
   "cell_type": "code",
   "execution_count": null,
   "id": "67c29e5a",
   "metadata": {},
   "outputs": [],
   "source": [
    "calculate_delinquent_pct(pandas_df,'FLAG_WORK_PHONE')"
   ]
  },
  {
   "cell_type": "markdown",
   "id": "6920c302",
   "metadata": {},
   "source": [
    "> ***Observations:*** <br>\n",
    "> Imbalanced data that many people have not provided their work phone number in the applications."
   ]
  },
  {
   "cell_type": "code",
   "execution_count": 43,
   "id": "d6232d17",
   "metadata": {},
   "outputs": [
    {
     "data": {
      "text/plain": [
       "0    0.705187\n",
       "1    0.294813\n",
       "Name: FLAG_PHONE, dtype: float64"
      ]
     },
     "execution_count": 43,
     "metadata": {},
     "output_type": "execute_result"
    }
   ],
   "source": [
    "# FEATURE: FLAG_PHONE\n",
    "pandas_df.FLAG_PHONE.value_counts(normalize=True)"
   ]
  },
  {
   "cell_type": "code",
   "execution_count": null,
   "id": "258ad04c",
   "metadata": {},
   "outputs": [],
   "source": [
    "calculate_delinquent_pct(pandas_df,'FLAG_PHONE')"
   ]
  },
  {
   "cell_type": "markdown",
   "id": "0ef61550",
   "metadata": {},
   "source": [
    "> ***Observations:*** <br>\n",
    "> Imbalanced data that many people have not provided their personal phone number in the applications."
   ]
  },
  {
   "cell_type": "code",
   "execution_count": 44,
   "id": "67cfdd83",
   "metadata": {},
   "outputs": [
    {
     "data": {
      "text/plain": [
       "0    0.910278\n",
       "1    0.089722\n",
       "Name: FLAG_EMAIL, dtype: float64"
      ]
     },
     "execution_count": 44,
     "metadata": {},
     "output_type": "execute_result"
    }
   ],
   "source": [
    "# FEATURE: FLAG_EMAIL\n",
    "pandas_df.FLAG_EMAIL.value_counts(normalize=True)\n",
    "# It's a categorical column"
   ]
  },
  {
   "cell_type": "code",
   "execution_count": null,
   "id": "a31c714c",
   "metadata": {},
   "outputs": [],
   "source": [
    "calculate_delinquent_pct(pandas_df,'FLAG_EMAIL')"
   ]
  },
  {
   "cell_type": "markdown",
   "id": "e6d1aa6e",
   "metadata": {},
   "source": [
    "> ***Observations:*** <br>\n",
    "> Feature FLAG_EMAIL though being integer, is a categorical column, 1 meaning Email is provided and 0 meaning Email is NOT provided."
   ]
  },
  {
   "cell_type": "code",
   "execution_count": 45,
   "id": "c7e0416e",
   "metadata": {},
   "outputs": [
    {
     "data": {
      "text/plain": [
       "2.0     19463\n",
       "1.0      6987\n",
       "3.0      6421\n",
       "4.0      3106\n",
       "5.0       397\n",
       "6.0        58\n",
       "7.0        19\n",
       "15.0        3\n",
       "9.0         2\n",
       "20.0        1\n",
       "Name: CNT_FAM_MEMBERS, dtype: int64"
      ]
     },
     "execution_count": 45,
     "metadata": {},
     "output_type": "execute_result"
    }
   ],
   "source": [
    "# FEATURE: CNT_FAM_MEMBERS\n",
    "pandas_df.CNT_FAM_MEMBERS.value_counts()"
   ]
  },
  {
   "cell_type": "code",
   "execution_count": null,
   "id": "22836537",
   "metadata": {},
   "outputs": [],
   "source": [
    "calculate_delinquent_pct(pandas_df,'CNT_FAM_MEMBERS')"
   ]
  },
  {
   "cell_type": "markdown",
   "id": "666b0a45",
   "metadata": {},
   "source": [
    "> ***Observations:*** <br>\n",
    "> Same as number of childrens, either we update both of them or remove them. Upto us."
   ]
  },
  {
   "cell_type": "markdown",
   "id": "48d0022d",
   "metadata": {},
   "source": [
    "# CATEGORICAL VALUES"
   ]
  },
  {
   "cell_type": "code",
   "execution_count": 46,
   "id": "ff7591d8",
   "metadata": {},
   "outputs": [
    {
     "data": {
      "text/html": [
       "<div>\n",
       "<style scoped>\n",
       "    .dataframe tbody tr th:only-of-type {\n",
       "        vertical-align: middle;\n",
       "    }\n",
       "\n",
       "    .dataframe tbody tr th {\n",
       "        vertical-align: top;\n",
       "    }\n",
       "\n",
       "    .dataframe thead th {\n",
       "        text-align: right;\n",
       "    }\n",
       "</style>\n",
       "<table border=\"1\" class=\"dataframe\">\n",
       "  <thead>\n",
       "    <tr style=\"text-align: right;\">\n",
       "      <th></th>\n",
       "      <th>CODE_GENDER</th>\n",
       "      <th>FLAG_OWN_CAR</th>\n",
       "      <th>FLAG_OWN_REALTY</th>\n",
       "      <th>NAME_INCOME_TYPE</th>\n",
       "      <th>NAME_EDUCATION_TYPE</th>\n",
       "      <th>NAME_FAMILY_STATUS</th>\n",
       "      <th>NAME_HOUSING_TYPE</th>\n",
       "      <th>OCCUPATION_TYPE</th>\n",
       "    </tr>\n",
       "  </thead>\n",
       "  <tbody>\n",
       "    <tr>\n",
       "      <th>0</th>\n",
       "      <td>F</td>\n",
       "      <td>N</td>\n",
       "      <td>N</td>\n",
       "      <td>Pensioner</td>\n",
       "      <td>Incomplete higher</td>\n",
       "      <td>Civil marriage</td>\n",
       "      <td>Rented apartment</td>\n",
       "      <td>None</td>\n",
       "    </tr>\n",
       "    <tr>\n",
       "      <th>1</th>\n",
       "      <td>F</td>\n",
       "      <td>N</td>\n",
       "      <td>N</td>\n",
       "      <td>Pensioner</td>\n",
       "      <td>Secondary / secondary special</td>\n",
       "      <td>Widow</td>\n",
       "      <td>House / apartment</td>\n",
       "      <td>None</td>\n",
       "    </tr>\n",
       "    <tr>\n",
       "      <th>2</th>\n",
       "      <td>F</td>\n",
       "      <td>N</td>\n",
       "      <td>N</td>\n",
       "      <td>Commercial associate</td>\n",
       "      <td>Secondary / secondary special</td>\n",
       "      <td>Married</td>\n",
       "      <td>House / apartment</td>\n",
       "      <td>Laborers</td>\n",
       "    </tr>\n",
       "    <tr>\n",
       "      <th>3</th>\n",
       "      <td>M</td>\n",
       "      <td>N</td>\n",
       "      <td>N</td>\n",
       "      <td>Working</td>\n",
       "      <td>Secondary / secondary special</td>\n",
       "      <td>Single / not married</td>\n",
       "      <td>With parents</td>\n",
       "      <td>Laborers</td>\n",
       "    </tr>\n",
       "    <tr>\n",
       "      <th>4</th>\n",
       "      <td>F</td>\n",
       "      <td>N</td>\n",
       "      <td>Y</td>\n",
       "      <td>State servant</td>\n",
       "      <td>Higher education</td>\n",
       "      <td>Single / not married</td>\n",
       "      <td>House / apartment</td>\n",
       "      <td>Managers</td>\n",
       "    </tr>\n",
       "  </tbody>\n",
       "</table>\n",
       "</div>"
      ],
      "text/plain": [
       "  CODE_GENDER FLAG_OWN_CAR FLAG_OWN_REALTY      NAME_INCOME_TYPE  \\\n",
       "0           F            N               N             Pensioner   \n",
       "1           F            N               N             Pensioner   \n",
       "2           F            N               N  Commercial associate   \n",
       "3           M            N               N               Working   \n",
       "4           F            N               Y         State servant   \n",
       "\n",
       "             NAME_EDUCATION_TYPE    NAME_FAMILY_STATUS  NAME_HOUSING_TYPE  \\\n",
       "0              Incomplete higher        Civil marriage   Rented apartment   \n",
       "1  Secondary / secondary special                 Widow  House / apartment   \n",
       "2  Secondary / secondary special               Married  House / apartment   \n",
       "3  Secondary / secondary special  Single / not married       With parents   \n",
       "4               Higher education  Single / not married  House / apartment   \n",
       "\n",
       "  OCCUPATION_TYPE  \n",
       "0            None  \n",
       "1            None  \n",
       "2        Laborers  \n",
       "3        Laborers  \n",
       "4        Managers  "
      ]
     },
     "execution_count": 46,
     "metadata": {},
     "output_type": "execute_result"
    }
   ],
   "source": [
    "cat_cols = pandas_df.select_dtypes(include='object').columns\n",
    "pandas_df[cat_cols].head()"
   ]
  },
  {
   "cell_type": "code",
   "execution_count": 47,
   "id": "bddda20e",
   "metadata": {},
   "outputs": [
    {
     "data": {
      "text/plain": [
       "F    0.670105\n",
       "M    0.329895\n",
       "Name: CODE_GENDER, dtype: float64"
      ]
     },
     "execution_count": 47,
     "metadata": {},
     "output_type": "execute_result"
    }
   ],
   "source": [
    "# FEATURE: CODE_GENDER\n",
    "pandas_df.CODE_GENDER.value_counts(normalize=True)"
   ]
  },
  {
   "cell_type": "code",
   "execution_count": 48,
   "id": "78fba5c2",
   "metadata": {},
   "outputs": [
    {
     "data": {
      "text/plain": [
       "(36457, 19)"
      ]
     },
     "execution_count": 48,
     "metadata": {},
     "output_type": "execute_result"
    }
   ],
   "source": [
    "pandas_df.shape"
   ]
  },
  {
   "cell_type": "code",
   "execution_count": 49,
   "id": "6dd744e1",
   "metadata": {},
   "outputs": [
    {
     "data": {
      "image/png": "[encoded data removed]",
      "text/plain": [
       "<Figure size 432x288 with 1 Axes>"
      ]
     },
     "metadata": {
      "needs_background": "light"
     },
     "output_type": "display_data"
    }
   ],
   "source": [
    "sns.countplot(data=pandas_df,x='CODE_GENDER',hue='Target_final')\n",
    "plt.show()"
   ]
  },
  {
   "cell_type": "code",
   "execution_count": null,
   "id": "7ed5d459",
   "metadata": {},
   "outputs": [],
   "source": [
    "calculate_delinquent_pct(pandas_df,'CODE_GENDER')"
   ]
  },
  {
   "cell_type": "code",
   "execution_count": 50,
   "id": "a473c059",
   "metadata": {},
   "outputs": [
    {
     "data": {
      "text/plain": [
       "N    0.620292\n",
       "Y    0.379708\n",
       "Name: FLAG_OWN_CAR, dtype: float64"
      ]
     },
     "execution_count": 50,
     "metadata": {},
     "output_type": "execute_result"
    }
   ],
   "source": [
    "# FEATURE: FLAG OWN CAR\n",
    "pandas_df.FLAG_OWN_CAR.value_counts(normalize=True)"
   ]
  },
  {
   "cell_type": "code",
   "execution_count": 51,
   "id": "4cffcad4",
   "metadata": {},
   "outputs": [
    {
     "data": {
      "image/png": "[encoded data removed]",
      "text/plain": [
       "<Figure size 432x288 with 1 Axes>"
      ]
     },
     "metadata": {
      "needs_background": "light"
     },
     "output_type": "display_data"
    }
   ],
   "source": [
    "sns.countplot(data=pandas_df,x='FLAG_OWN_CAR',hue='Target_final')\n",
    "plt.show()"
   ]
  },
  {
   "cell_type": "code",
   "execution_count": null,
   "id": "d1646c25",
   "metadata": {},
   "outputs": [],
   "source": [
    "calculate_delinquent_pct(pandas_df,'FLAG_OWN_CAR')"
   ]
  },
  {
   "cell_type": "code",
   "execution_count": 52,
   "id": "8483b0f9",
   "metadata": {},
   "outputs": [
    {
     "data": {
      "text/plain": [
       "Y    0.672189\n",
       "N    0.327811\n",
       "Name: FLAG_OWN_REALTY, dtype: float64"
      ]
     },
     "execution_count": 52,
     "metadata": {},
     "output_type": "execute_result"
    }
   ],
   "source": [
    "# FEATURE: FLAG_OWN_REALTY\n",
    "pandas_df.FLAG_OWN_REALTY.value_counts(normalize=True)"
   ]
  },
  {
   "cell_type": "code",
   "execution_count": 53,
   "id": "eabac5b9",
   "metadata": {},
   "outputs": [
    {
     "data": {
      "image/png": "[encoded data removed]",
      "text/plain": [
       "<Figure size 432x288 with 1 Axes>"
      ]
     },
     "metadata": {
      "needs_background": "light"
     },
     "output_type": "display_data"
    }
   ],
   "source": [
    "sns.countplot(data=pandas_df,x='FLAG_OWN_REALTY',hue='CODE_GENDER')\n",
    "plt.show()"
   ]
  },
  {
   "cell_type": "code",
   "execution_count": null,
   "id": "1dd280a3",
   "metadata": {},
   "outputs": [],
   "source": [
    "calculate_delinquent_pct(pandas_df,'FLAG_OWN_REALTY')"
   ]
  },
  {
   "cell_type": "code",
   "execution_count": 54,
   "id": "4543b930",
   "metadata": {},
   "outputs": [
    {
     "data": {
      "text/plain": [
       "Working                 0.516197\n",
       "Commercial associate    0.232877\n",
       "Pensioner               0.168747\n",
       "State servant           0.081877\n",
       "Student                 0.000302\n",
       "Name: NAME_INCOME_TYPE, dtype: float64"
      ]
     },
     "execution_count": 54,
     "metadata": {},
     "output_type": "execute_result"
    }
   ],
   "source": [
    "# FEATURE: INCOME TYPE\n",
    "pandas_df.NAME_INCOME_TYPE.value_counts(normalize=True)"
   ]
  },
  {
   "cell_type": "code",
   "execution_count": 55,
   "id": "f3e186cf",
   "metadata": {},
   "outputs": [
    {
     "data": {
      "image/png": "[encoded data removed]",
      "text/plain": [
       "<Figure size 432x288 with 1 Axes>"
      ]
     },
     "metadata": {
      "needs_background": "light"
     },
     "output_type": "display_data"
    }
   ],
   "source": [
    "sns.countplot(data=pandas_df,x='NAME_INCOME_TYPE',hue='CODE_GENDER')\n",
    "plt.xticks(rotation=45)\n",
    "plt.show()"
   ]
  },
  {
   "cell_type": "code",
   "execution_count": null,
   "id": "663981b6",
   "metadata": {},
   "outputs": [],
   "source": [
    "calculate_delinquent_pct(pandas_df,'NAME_INCOME_TYPE')"
   ]
  },
  {
   "cell_type": "code",
   "execution_count": 56,
   "id": "478b9182",
   "metadata": {},
   "outputs": [
    {
     "data": {
      "text/plain": [
       "Secondary / secondary special    24777\n",
       "Higher education                  9864\n",
       "Incomplete higher                 1410\n",
       "Lower secondary                    374\n",
       "Academic degree                     32\n",
       "Name: NAME_EDUCATION_TYPE, dtype: int64"
      ]
     },
     "execution_count": 56,
     "metadata": {},
     "output_type": "execute_result"
    }
   ],
   "source": [
    "# Education type\n",
    "pandas_df.NAME_EDUCATION_TYPE.value_counts()"
   ]
  },
  {
   "cell_type": "code",
   "execution_count": 57,
   "id": "75b0fc4a",
   "metadata": {},
   "outputs": [
    {
     "data": {
      "image/png": "[encoded data removed]",
      "text/plain": [
       "<Figure size 432x288 with 1 Axes>"
      ]
     },
     "metadata": {
      "needs_background": "light"
     },
     "output_type": "display_data"
    }
   ],
   "source": [
    "sns.boxplot(data=pandas_df,x='NAME_EDUCATION_TYPE',y='AMT_INCOME_TOTAL')\n",
    "plt.xticks(rotation=45)\n",
    "plt.show()"
   ]
  },
  {
   "cell_type": "code",
   "execution_count": null,
   "id": "60246625",
   "metadata": {},
   "outputs": [],
   "source": [
    "calculate_delinquent_pct(pandas_df,'NAME_EDUCATION_TYPE')"
   ]
  },
  {
   "cell_type": "code",
   "execution_count": 58,
   "id": "e65e5124",
   "metadata": {},
   "outputs": [],
   "source": [
    "# Applicants with completed Secondary or Higher Education are much more likely to have a higher annual income than others."
   ]
  },
  {
   "cell_type": "code",
   "execution_count": 59,
   "id": "e2dff470",
   "metadata": {},
   "outputs": [
    {
     "data": {
      "text/plain": [
       "Married                 0.687056\n",
       "Single / not married    0.132457\n",
       "Civil marriage          0.080780\n",
       "Separated               0.057684\n",
       "Widow                   0.042022\n",
       "Name: NAME_FAMILY_STATUS, dtype: float64"
      ]
     },
     "execution_count": 59,
     "metadata": {},
     "output_type": "execute_result"
    }
   ],
   "source": [
    "pandas_df.NAME_FAMILY_STATUS.value_counts(normalize=True)"
   ]
  },
  {
   "cell_type": "code",
   "execution_count": 60,
   "id": "62e9cad3",
   "metadata": {},
   "outputs": [
    {
     "data": {
      "image/png": "[encoded data removed]",
      "text/plain": [
       "<Figure size 432x288 with 1 Axes>"
      ]
     },
     "metadata": {
      "needs_background": "light"
     },
     "output_type": "display_data"
    }
   ],
   "source": [
    "sns.countplot(data=pandas_df,x='NAME_FAMILY_STATUS',hue='Target_final')\n",
    "plt.xticks(rotation=45)\n",
    "plt.show()"
   ]
  },
  {
   "cell_type": "code",
   "execution_count": null,
   "id": "f25d2cc7",
   "metadata": {},
   "outputs": [],
   "source": [
    "calculate_delinquent_pct(pandas_df,'NAME_FAMILY_STATUS')"
   ]
  },
  {
   "cell_type": "code",
   "execution_count": 61,
   "id": "9a402475",
   "metadata": {},
   "outputs": [
    {
     "name": "stdout",
     "output_type": "stream",
     "text": [
      "+---------------------+\n",
      "|avg(AMT_INCOME_TOTAL)|\n",
      "+---------------------+\n",
      "|   186685.73666236937|\n",
      "+---------------------+\n",
      "\n"
     ]
    }
   ],
   "source": [
    "# AMT_INCOME_TOTAL\n",
    "merged.agg({'AMT_INCOME_TOTAL':'avg'}).show()"
   ]
  },
  {
   "cell_type": "code",
   "execution_count": 62,
   "id": "fbebf861",
   "metadata": {},
   "outputs": [
    {
     "data": {
      "text/plain": [
       "count    3.645700e+04\n",
       "mean     1.866857e+05\n",
       "std      1.017892e+05\n",
       "min      2.700000e+04\n",
       "25%      1.215000e+05\n",
       "50%      1.575000e+05\n",
       "75%      2.250000e+05\n",
       "max      1.575000e+06\n",
       "Name: AMT_INCOME_TOTAL, dtype: float64"
      ]
     },
     "execution_count": 62,
     "metadata": {},
     "output_type": "execute_result"
    }
   ],
   "source": [
    "pandas_df.AMT_INCOME_TOTAL.describe()"
   ]
  },
  {
   "cell_type": "code",
   "execution_count": 63,
   "id": "6f12ec10",
   "metadata": {},
   "outputs": [
    {
     "data": {
      "text/plain": [
       "House / apartment      32548\n",
       "With parents            1776\n",
       "Municipal apartment     1128\n",
       "Rented apartment         575\n",
       "Office apartment         262\n",
       "Co-op apartment          168\n",
       "Name: NAME_HOUSING_TYPE, dtype: int64"
      ]
     },
     "execution_count": 63,
     "metadata": {},
     "output_type": "execute_result"
    }
   ],
   "source": [
    "# NAME HOUSING TYPE\n",
    "pandas_df.NAME_HOUSING_TYPE.value_counts()"
   ]
  },
  {
   "cell_type": "code",
   "execution_count": 64,
   "id": "aedd6c7d",
   "metadata": {},
   "outputs": [
    {
     "data": {
      "image/png": "[encoded data removed]",
      "text/plain": [
       "<Figure size 432x288 with 1 Axes>"
      ]
     },
     "metadata": {
      "needs_background": "light"
     },
     "output_type": "display_data"
    }
   ],
   "source": [
    "sns.countplot(data=pandas_df,x='NAME_HOUSING_TYPE',hue='Target_final')\n",
    "plt.xticks(rotation=45)\n",
    "plt.show()"
   ]
  },
  {
   "cell_type": "code",
   "execution_count": 65,
   "id": "c3577c94",
   "metadata": {},
   "outputs": [
    {
     "data": {
      "text/plain": [
       "Married                 25048\n",
       "Single / not married     4829\n",
       "Civil marriage           2945\n",
       "Separated                2103\n",
       "Widow                    1532\n",
       "Name: NAME_FAMILY_STATUS, dtype: int64"
      ]
     },
     "execution_count": 65,
     "metadata": {},
     "output_type": "execute_result"
    }
   ],
   "source": [
    "# NAME FAMILY STATUS\n",
    "pandas_df.NAME_FAMILY_STATUS.value_counts()"
   ]
  },
  {
   "cell_type": "code",
   "execution_count": 66,
   "id": "a89592f6",
   "metadata": {},
   "outputs": [
    {
     "data": {
      "text/plain": [
       "House / apartment      32548\n",
       "With parents            1776\n",
       "Municipal apartment     1128\n",
       "Rented apartment         575\n",
       "Office apartment         262\n",
       "Co-op apartment          168\n",
       "Name: NAME_HOUSING_TYPE, dtype: int64"
      ]
     },
     "execution_count": 66,
     "metadata": {},
     "output_type": "execute_result"
    }
   ],
   "source": [
    "# NAME HOUSING TYPE\n",
    "pandas_df.NAME_HOUSING_TYPE.value_counts()"
   ]
  },
  {
   "cell_type": "code",
   "execution_count": 67,
   "id": "39d1da5c",
   "metadata": {},
   "outputs": [
    {
     "data": {
      "text/plain": [
       "Laborers                 6211\n",
       "Core staff               3591\n",
       "Sales staff              3485\n",
       "Managers                 3012\n",
       "Drivers                  2138\n",
       "High skill tech staff    1383\n",
       "Accountants              1241\n",
       "Medicine staff           1207\n",
       "Cooking staff             655\n",
       "Security staff            592\n",
       "Cleaning staff            551\n",
       "Private service staff     344\n",
       "Low-skill Laborers        175\n",
       "Waiters/barmen staff      174\n",
       "Secretaries               151\n",
       "HR staff                   85\n",
       "Realty agents              79\n",
       "IT staff                   60\n",
       "Name: OCCUPATION_TYPE, dtype: int64"
      ]
     },
     "execution_count": 67,
     "metadata": {},
     "output_type": "execute_result"
    }
   ],
   "source": [
    "# OCCUPATION TYPE\n",
    "pandas_df.OCCUPATION_TYPE.value_counts()"
   ]
  },
  {
   "cell_type": "code",
   "execution_count": null,
   "id": "50f2ed5f",
   "metadata": {},
   "outputs": [],
   "source": [
    "calculate_delinquent_pct(pandas_df,'OCCUPATION_TYPE')"
   ]
  },
  {
   "cell_type": "code",
   "execution_count": 68,
   "id": "6e6bdd52",
   "metadata": {},
   "outputs": [
    {
     "data": {
      "text/plain": [
       "11323"
      ]
     },
     "execution_count": 68,
     "metadata": {},
     "output_type": "execute_result"
    }
   ],
   "source": [
    "pandas_df.OCCUPATION_TYPE.isnull().sum()"
   ]
  },
  {
   "cell_type": "code",
   "execution_count": 69,
   "id": "f0f2b7ad",
   "metadata": {},
   "outputs": [
    {
     "data": {
      "image/png": "[encoded data removed]",
      "text/plain": [
       "<Figure size 1080x1080 with 2 Axes>"
      ]
     },
     "metadata": {
      "needs_background": "light"
     },
     "output_type": "display_data"
    }
   ],
   "source": [
    "plt.figure(figsize=(15,15))\n",
    "sns.heatmap(pandas_df.corr(),annot=True,cmap='RdYlGn')\n",
    "plt.show()"
   ]
  },
  {
   "cell_type": "code",
   "execution_count": 70,
   "id": "0dbf2464",
   "metadata": {},
   "outputs": [],
   "source": [
    "# We need to clean this column FLAG_MOBIL as all the values are the same as 1."
   ]
  },
  {
   "cell_type": "markdown",
   "id": "ae7c0336",
   "metadata": {},
   "source": [
    "***Some Observations:***\n",
    "1. OCCUPATION TYPE Missing values - do some missing value treatment\n",
    "2. We see max CNT_CHILDREN to be 19, which seems highly unlikely.\n",
    "3. Days birth is birthdate which is in negative, i.e. -1 means birthday was yesterday, so we need to convert these values.\n",
    "4. FLAG_MOBIL only has 1 value, so the column is not useful to us, so we will drop that column.\n",
    "5. Days employed has both positive and negative values, and this is fine because only applicants with INCOME_TYPE = 'Pensioner',\n",
    "    are having positive days employed values while all other are getting negative values. This might be because Pensioners\n",
    "    salary data might be calculated from the day they will receive pension.\n",
    "6. Around 77% of the applicants have no submitted their work phone number, which makes the column highly imbalanced.\n",
    "7. Almost 30% of the applicants have not even submitted their personal phone number.\n",
    "8. FLAG_EMAIL column\n",
    "    a. Type is integer BUT IT IS A CATEGORICAL COLUMN.\n",
    "    b. So we need to treat it as a CATEGORICAL COLUMN (1 means Email provided otherwise 0)\n",
    "9. CNT_FAM_MEMBERS similar to CNT_CHILDREN, also has 4 outliers which we need to treat.\n",
    "\n",
    "CATEGORICAL COLUMNS\n",
    "10. 67% of the applicants are Females.\n",
    "11. 62% of the applicants does not have car.\n",
    "12. 67% of the applicants own realty.\n",
    "13. Above 50% of the applicants are from working class.\n",
    "14. Approx 69% of the applicants are Married."
   ]
  },
  {
   "cell_type": "markdown",
   "id": "0a971846",
   "metadata": {},
   "source": [
    "***Questions according to Assignment:***\n",
    "1. What is the proportion of females in the applicant customer base? <br>\n",
    "*Answer:* 67% <br>\n",
    "<br>\n",
    "2. Is homeownership higher among male applicants or female applicants? <br>\n",
    "*Answer:* Females <br>\n",
    "<br>\n",
    "3. Is there any correlation between the customer's income level and education level?\n",
    "*Answer:* Yes there is a correlation between the two. <br>\n",
    "<br>\n",
    "4. What is the average and median salary of the applicant base? <br>\n",
    "*Answer:* Average:186685.73666236937 , Median: 157500.0 <br>\n",
    "<br>    \n",
    "5. Is the proportion of bad customers higher for people who own cars? <br>\n",
    "*Answer:* No. <br>\n",
    "<br>\n",
    "6. Is the proportion of bad customers higher for those living on rent than the rest of the population? <br>\n",
    "*Answer:* Yes<br>\n",
    "<br>\n",
    "7. Is the proportion of bad customers higher for those who are single than married customers? <br>\n",
    "*Answer:* No <br>\n",
    "<br>"
   ]
  },
  {
   "cell_type": "markdown",
   "id": "435a6294",
   "metadata": {},
   "source": [
    "# Feature Engineering"
   ]
  },
  {
   "cell_type": "code",
   "execution_count": 73,
   "id": "019d628c",
   "metadata": {},
   "outputs": [
    {
     "name": "stdout",
     "output_type": "stream",
     "text": [
      "+--------------------+-----+\n",
      "|     OCCUPATION_TYPE|count|\n",
      "+--------------------+-----+\n",
      "|                null|11323|\n",
      "|            Managers| 3012|\n",
      "|            HR staff|   85|\n",
      "|      Medicine staff| 1207|\n",
      "|         Accountants| 1241|\n",
      "|            Laborers| 6211|\n",
      "|      Cleaning staff|  551|\n",
      "|Private service s...|  344|\n",
      "|             Drivers| 2138|\n",
      "|         Sales staff| 3485|\n",
      "|       Realty agents|   79|\n",
      "|            IT staff|   60|\n",
      "|      Security staff|  592|\n",
      "|         Secretaries|  151|\n",
      "|  Low-skill Laborers|  175|\n",
      "|          Core staff| 3591|\n",
      "|       Cooking staff|  655|\n",
      "|High skill tech s...| 1383|\n",
      "|Waiters/barmen staff|  174|\n",
      "+--------------------+-----+\n",
      "\n"
     ]
    }
   ],
   "source": [
    "# OCCUPATION COLUMN\n",
    "merged.groupBy('OCCUPATION_TYPE').count().show()"
   ]
  },
  {
   "cell_type": "markdown",
   "id": "208a2fb6",
   "metadata": {},
   "source": [
    "***Making a new column 'OCCUPATION_TYPE_FE' which will replace the missing values with the value 'Laborers' because it's count is highest among all the other categories.***"
   ]
  },
  {
   "cell_type": "code",
   "execution_count": 74,
   "id": "6529df41",
   "metadata": {},
   "outputs": [],
   "source": [
    "merged = merged.withColumn(\"OCCUPATION_TYPE_FE\",F.when(merged.OCCUPATION_TYPE.isNull(),\"Laborers\").otherwise(merged.OCCUPATION_TYPE))"
   ]
  },
  {
   "cell_type": "code",
   "execution_count": 75,
   "id": "960f0b99",
   "metadata": {},
   "outputs": [
    {
     "name": "stdout",
     "output_type": "stream",
     "text": [
      "+--------------------+-----+\n",
      "|  OCCUPATION_TYPE_FE|count|\n",
      "+--------------------+-----+\n",
      "|            Managers| 3012|\n",
      "|            HR staff|   85|\n",
      "|      Medicine staff| 1207|\n",
      "|         Accountants| 1241|\n",
      "|            Laborers|17534|\n",
      "|      Cleaning staff|  551|\n",
      "|Private service s...|  344|\n",
      "|             Drivers| 2138|\n",
      "|         Sales staff| 3485|\n",
      "|       Realty agents|   79|\n",
      "|            IT staff|   60|\n",
      "|      Security staff|  592|\n",
      "|         Secretaries|  151|\n",
      "|  Low-skill Laborers|  175|\n",
      "|          Core staff| 3591|\n",
      "|       Cooking staff|  655|\n",
      "|High skill tech s...| 1383|\n",
      "|Waiters/barmen staff|  174|\n",
      "+--------------------+-----+\n",
      "\n"
     ]
    }
   ],
   "source": [
    "merged.groupBy('OCCUPATION_TYPE_FE').count().show()"
   ]
  },
  {
   "cell_type": "code",
   "execution_count": 76,
   "id": "6144adcf",
   "metadata": {},
   "outputs": [
    {
     "name": "stdout",
     "output_type": "stream",
     "text": [
      "+------------+-----+\n",
      "|CNT_CHILDREN|count|\n",
      "+------------+-----+\n",
      "|           1| 7492|\n",
      "|           3|  419|\n",
      "|           5|   20|\n",
      "|          19|    1|\n",
      "|           4|   63|\n",
      "|           7|    2|\n",
      "|          14|    3|\n",
      "|           2| 3256|\n",
      "|           0|25201|\n",
      "+------------+-----+\n",
      "\n"
     ]
    }
   ],
   "source": [
    "# OUTLIER TREATMENT FOR CNT_CHILDREN\n",
    "merged.groupBy('CNT_CHILDREN').count().show()"
   ]
  },
  {
   "cell_type": "markdown",
   "id": "8ef95844",
   "metadata": {},
   "source": [
    "***Making a new column 'CNT_CHILDREN_FE' in which if the count is greater than 7, it replaces it by 0, thinking it's a mistake by the applicant, and there is no way of having more than 7 children. And also since mode=0, so 0 is preferred for outlier treatment.***"
   ]
  },
  {
   "cell_type": "code",
   "execution_count": 77,
   "id": "e98bc38b",
   "metadata": {},
   "outputs": [
    {
     "name": "stdout",
     "output_type": "stream",
     "text": [
      "+---------------+-----+\n",
      "|CNT_CHILDREN_FE|count|\n",
      "+---------------+-----+\n",
      "|              1| 7492|\n",
      "|              3|  419|\n",
      "|              5|   20|\n",
      "|              4|   63|\n",
      "|              7|    2|\n",
      "|              2| 3256|\n",
      "|              0|25205|\n",
      "+---------------+-----+\n",
      "\n"
     ]
    }
   ],
   "source": [
    "merged = merged.withColumn(\"CNT_CHILDREN_FE\",F.when(merged.CNT_CHILDREN >7,0).otherwise(merged.CNT_CHILDREN))\n",
    "merged.groupBy('CNT_CHILDREN_FE').count().show()"
   ]
  },
  {
   "cell_type": "code",
   "execution_count": 78,
   "id": "59083ab8",
   "metadata": {},
   "outputs": [],
   "source": [
    "# CNT_FAM_MEMBERS Outlier treatment"
   ]
  },
  {
   "cell_type": "code",
   "execution_count": 79,
   "id": "87712eb7",
   "metadata": {},
   "outputs": [
    {
     "name": "stdout",
     "output_type": "stream",
     "text": [
      "+---------------+-----+\n",
      "|CNT_FAM_MEMBERS|count|\n",
      "+---------------+-----+\n",
      "|            7.0|   19|\n",
      "|            1.0| 6987|\n",
      "|            4.0| 3106|\n",
      "|            3.0| 6421|\n",
      "|            2.0|19463|\n",
      "|            6.0|   58|\n",
      "|           20.0|    1|\n",
      "|            5.0|  397|\n",
      "|           15.0|    3|\n",
      "|            9.0|    2|\n",
      "+---------------+-----+\n",
      "\n"
     ]
    }
   ],
   "source": [
    "merged.groupBy('CNT_FAM_MEMBERS').count().show()"
   ]
  },
  {
   "cell_type": "markdown",
   "id": "cefad2fe",
   "metadata": {},
   "source": [
    "***Doing feature engineering and making new feature CNT_FAM_MEMBERS_FE such that any count greater than 10 would be assumed as an outlier and the family would be considered to have 2 family members instead. Also mode = 2 , so 2 is prefferred for outlier treatment here.***"
   ]
  },
  {
   "cell_type": "code",
   "execution_count": 80,
   "id": "f8910074",
   "metadata": {},
   "outputs": [
    {
     "name": "stdout",
     "output_type": "stream",
     "text": [
      "+------------------+-----+\n",
      "|CNT_FAM_MEMBERS_FE|count|\n",
      "+------------------+-----+\n",
      "|               7.0|   19|\n",
      "|               1.0| 6987|\n",
      "|               4.0| 3106|\n",
      "|               3.0| 6421|\n",
      "|               2.0|19467|\n",
      "|               6.0|   58|\n",
      "|               5.0|  397|\n",
      "|               9.0|    2|\n",
      "+------------------+-----+\n",
      "\n"
     ]
    }
   ],
   "source": [
    "merged = merged.withColumn(\"CNT_FAM_MEMBERS_FE\",F.when(merged.CNT_FAM_MEMBERS > 10,2).otherwise(merged.CNT_FAM_MEMBERS))\n",
    "merged.groupBy('CNT_FAM_MEMBERS_FE').count().show()"
   ]
  },
  {
   "cell_type": "code",
   "execution_count": 81,
   "id": "c2c39007",
   "metadata": {},
   "outputs": [
    {
     "name": "stdout",
     "output_type": "stream",
     "text": [
      "+----------+-----+\n",
      "|FLAG_MOBIL|count|\n",
      "+----------+-----+\n",
      "|         1|36457|\n",
      "+----------+-----+\n",
      "\n"
     ]
    }
   ],
   "source": [
    "# FLAG_MOBIL\n",
    "merged.groupBy('FLAG_MOBIL').count().show()"
   ]
  },
  {
   "cell_type": "markdown",
   "id": "b1be088e",
   "metadata": {},
   "source": [
    "***Dropping column FLAG_MOBIL as it has only 1 value throughout the whole dataset and doesn't contribute to the model learning/training.***"
   ]
  },
  {
   "cell_type": "code",
   "execution_count": 82,
   "id": "2edbc03d",
   "metadata": {},
   "outputs": [],
   "source": [
    "# Drop this value, since it is of no use.\n",
    "merged = merged.drop('FLAG_MOBIL')"
   ]
  },
  {
   "cell_type": "code",
   "execution_count": 83,
   "id": "318ac40d",
   "metadata": {},
   "outputs": [
    {
     "name": "stdout",
     "output_type": "stream",
     "text": [
      "root\n",
      " |-- ID: integer (nullable = true)\n",
      " |-- CODE_GENDER: string (nullable = true)\n",
      " |-- FLAG_OWN_CAR: string (nullable = true)\n",
      " |-- FLAG_OWN_REALTY: string (nullable = true)\n",
      " |-- CNT_CHILDREN: integer (nullable = true)\n",
      " |-- AMT_INCOME_TOTAL: double (nullable = true)\n",
      " |-- NAME_INCOME_TYPE: string (nullable = true)\n",
      " |-- NAME_EDUCATION_TYPE: string (nullable = true)\n",
      " |-- NAME_FAMILY_STATUS: string (nullable = true)\n",
      " |-- NAME_HOUSING_TYPE: string (nullable = true)\n",
      " |-- DAYS_BIRTH: integer (nullable = true)\n",
      " |-- DAYS_EMPLOYED: integer (nullable = true)\n",
      " |-- FLAG_WORK_PHONE: integer (nullable = true)\n",
      " |-- FLAG_PHONE: integer (nullable = true)\n",
      " |-- FLAG_EMAIL: integer (nullable = true)\n",
      " |-- OCCUPATION_TYPE: string (nullable = true)\n",
      " |-- CNT_FAM_MEMBERS: double (nullable = true)\n",
      " |-- Target_final: integer (nullable = true)\n",
      " |-- OCCUPATION_TYPE_FE: string (nullable = true)\n",
      " |-- CNT_CHILDREN_FE: integer (nullable = true)\n",
      " |-- CNT_FAM_MEMBERS_FE: double (nullable = true)\n",
      "\n"
     ]
    }
   ],
   "source": [
    "merged.printSchema()"
   ]
  },
  {
   "cell_type": "code",
   "execution_count": 84,
   "id": "ea0293cb",
   "metadata": {},
   "outputs": [
    {
     "name": "stdout",
     "output_type": "stream",
     "text": [
      "+----------+-----+\n",
      "|DAYS_BIRTH|count|\n",
      "+----------+-----+\n",
      "|     -9866|    5|\n",
      "|    -10659|    4|\n",
      "|    -20295|    9|\n",
      "|    -18186|    5|\n",
      "|    -11206|   17|\n",
      "|    -19648|    2|\n",
      "|    -22936|    6|\n",
      "|    -10396|   11|\n",
      "|    -19580|    2|\n",
      "|    -23679|    6|\n",
      "|    -12070|    5|\n",
      "|    -17570|    5|\n",
      "|    -19210|    9|\n",
      "|    -14614|    5|\n",
      "|     -9762|    5|\n",
      "|     -8946|    2|\n",
      "|    -23077|    3|\n",
      "|     -9704|    2|\n",
      "|     -8145|    1|\n",
      "|    -17743|    5|\n",
      "+----------+-----+\n",
      "only showing top 20 rows\n",
      "\n"
     ]
    }
   ],
   "source": [
    "# DAYS_BIRTH\n",
    "merged.groupBy('DAYS_BIRTH').count().show()"
   ]
  },
  {
   "cell_type": "markdown",
   "id": "6dd7b34b",
   "metadata": {},
   "source": [
    "***Defining a function to convert DAYS_BIRTH feature into Age.***\n",
    "1. Create function\n",
    "2. Make a udf function\n",
    "3. Use the udf on the pyspark dataframe to get a new column/feature as 'Age_FE'"
   ]
  },
  {
   "cell_type": "code",
   "execution_count": 85,
   "id": "791740b0",
   "metadata": {},
   "outputs": [],
   "source": [
    "def convert_to_Age(days_birth):\n",
    "    age = abs(days_birth)//365\n",
    "    return age\n",
    "\n",
    "transform_days_birth_to_age_udf = F.udf(f=lambda row: convert_to_Age(row),returnType=T.IntegerType())"
   ]
  },
  {
   "cell_type": "code",
   "execution_count": 86,
   "id": "6b6df0fa",
   "metadata": {},
   "outputs": [
    {
     "name": "stdout",
     "output_type": "stream",
     "text": [
      "+------+\n",
      "|Age_FE|\n",
      "+------+\n",
      "|    50|\n",
      "|    40|\n",
      "|    48|\n",
      "|    44|\n",
      "|    56|\n",
      "|    25|\n",
      "|    35|\n",
      "|    47|\n",
      "|    36|\n",
      "|    48|\n",
      "|    31|\n",
      "|    27|\n",
      "|    29|\n",
      "|    50|\n",
      "|    60|\n",
      "|    61|\n",
      "|    33|\n",
      "|    53|\n",
      "|    46|\n",
      "|    52|\n",
      "+------+\n",
      "only showing top 20 rows\n",
      "\n"
     ]
    }
   ],
   "source": [
    "merged = merged.withColumn(\"Age_FE\",transform_days_birth_to_age_udf(F.col('DAYS_BIRTH')))\n",
    "merged.select('Age_FE').show()"
   ]
  },
  {
   "cell_type": "code",
   "execution_count": 87,
   "id": "920e20de",
   "metadata": {},
   "outputs": [
    {
     "name": "stdout",
     "output_type": "stream",
     "text": [
      "+------+-----------+\n",
      "|AGE_FE|max(AGE_FE)|\n",
      "+------+-----------+\n",
      "|    31|         31|\n",
      "|    65|         65|\n",
      "|    53|         53|\n",
      "|    34|         34|\n",
      "|    28|         28|\n",
      "|    27|         27|\n",
      "|    26|         26|\n",
      "|    44|         44|\n",
      "|    22|         22|\n",
      "|    47|         47|\n",
      "|    52|         52|\n",
      "|    40|         40|\n",
      "|    20|         20|\n",
      "|    57|         57|\n",
      "|    54|         54|\n",
      "|    48|         48|\n",
      "|    64|         64|\n",
      "|    41|         41|\n",
      "|    43|         43|\n",
      "|    37|         37|\n",
      "+------+-----------+\n",
      "only showing top 20 rows\n",
      "\n"
     ]
    }
   ],
   "source": [
    "merged.groupBy('AGE_FE').max('AGE_FE').show()"
   ]
  },
  {
   "cell_type": "markdown",
   "id": "4575667c",
   "metadata": {},
   "source": [
    "***Defining a function find_median to get the median of column DAYS_EMPLOYED and substitute it to rows where DAYS_EMPLOYED is positive. As we saw earlier, applicants with INCOME_TYPE as Pensioners have DAYS_EMPLOYED in positive which will act as an Outlier. That's why we are replacing it with the median value.***"
   ]
  },
  {
   "cell_type": "code",
   "execution_count": 88,
   "id": "e28c9714",
   "metadata": {},
   "outputs": [],
   "source": [
    "import numpy as np\n",
    "def find_median(values_list):\n",
    "    try:\n",
    "        median = np.median(values_list)\n",
    "        return round(float(median),2)\n",
    "    except Exception:\n",
    "        return None"
   ]
  },
  {
   "cell_type": "code",
   "execution_count": 89,
   "id": "911e6111",
   "metadata": {},
   "outputs": [
    {
     "name": "stdout",
     "output_type": "stream",
     "text": [
      "-1552.0\n"
     ]
    }
   ],
   "source": [
    "print(find_median(merged.select('DAYS_EMPLOYED').toPandas().values.tolist()))"
   ]
  },
  {
   "cell_type": "code",
   "execution_count": 90,
   "id": "cf23c9ed",
   "metadata": {},
   "outputs": [],
   "source": [
    "merged = merged.withColumn('DAYS_EMPLOYED_FE',F.when(merged.DAYS_EMPLOYED > 0,-1552.0).otherwise(merged.DAYS_EMPLOYED))"
   ]
  },
  {
   "cell_type": "code",
   "execution_count": 91,
   "id": "e203a96e",
   "metadata": {},
   "outputs": [
    {
     "name": "stdout",
     "output_type": "stream",
     "text": [
      "+---------------------+\n",
      "|max(DAYS_EMPLOYED_FE)|\n",
      "+---------------------+\n",
      "|                -17.0|\n",
      "+---------------------+\n",
      "\n"
     ]
    }
   ],
   "source": [
    "merged.agg({'DAYS_EMPLOYED_FE': 'max' }).show()"
   ]
  },
  {
   "cell_type": "markdown",
   "id": "e68e87a1",
   "metadata": {},
   "source": [
    "# WOE and IV"
   ]
  },
  {
   "cell_type": "markdown",
   "id": "1ded6f2e",
   "metadata": {},
   "source": [
    "***Using WOE to find WOE_transformation columns on categorical columns and then using IV value to eliminate week predictors.***"
   ]
  },
  {
   "cell_type": "code",
   "execution_count": 92,
   "id": "7f60f5db",
   "metadata": {},
   "outputs": [],
   "source": [
    "from pyspark.sql import DataFrame\n",
    "class WOE_IV(object):\n",
    "    \n",
    "    \"\"\"\n",
    "    This class contains methods that are used for calculating the WOE and IV values in a given dataset.\n",
    "    \n",
    "    Attributes\n",
    "    ----------\n",
    "    df : spark DataFrame\n",
    "        The spark dataframe\n",
    "    cols_to_woe : list\n",
    "        Columns that you want to convert in WOE and IV\n",
    "    label_column : str\n",
    "        target column of the data\n",
    "    good_label : str\n",
    "        Predicted variable in the form of 1 or 0\n",
    "    \"\"\"\n",
    "    \n",
    "    def __init__(self, df: DataFrame, cols_to_woe: [str], label_column: str, good_label: str):\n",
    "        self.df = df\n",
    "        self.cols_to_woe = cols_to_woe\n",
    "        self.label_column = label_column\n",
    "        self.good_label = good_label\n",
    "        self.fit_data = {} # This is a dictionary which will store all the WOE and IV computed in the latter part of the code\n",
    "\n",
    "    def fit(self):  \n",
    "        \"\"\"\n",
    "        This method takes the columns in 'cols_to_woe' and calculates the good and bad amounts, and then assigns the WOE values in the dictionary, 'fit_data'\n",
    "        \"\"\"\n",
    "        for col_to_woe in self.cols_to_woe: # Iterating over each column in the list, cols_to_woe\n",
    "            \n",
    "            total_good = self.compute_total_amount_of_good() # Computes the total amount of good labels in the entire dataset\n",
    "            total_bad = self.compute_total_amount_of_bad() # Computes the total amount of bad labels in the entire dataset\n",
    "            \n",
    "            woe_df = self.df.select(col_to_woe) # This dataframe stores the column, col_to_woe from the DataFrame\n",
    "            categories = woe_df.distinct().collect() # Creates a list of all the distinct categories in the column, col_to_woe\n",
    "            for category_row in categories: # Iterating over each category in the distinct categories of the column\n",
    "                category = category_row[col_to_woe]\n",
    "                \n",
    "                # For each category, we calculate the good_amount and bad_amount\n",
    "                good_amount = self.compute_good_amount(col_to_woe, category)\n",
    "                bad_amount = self.compute_bad_amount(col_to_woe, category)\n",
    "                \n",
    "                # If the good_amount or bad_amount is 0, we replace it with 0.5, because in the calculation of woe, it comes in the denominator resulting in a Nan value which will give an error\n",
    "                good_amount = good_amount if good_amount != 0 else 0.5\n",
    "                bad_amount = bad_amount if bad_amount != 0 else 0.5\n",
    "\n",
    "                # Calculating the fraction of good_amount and bad_amount specific to that category\n",
    "                good_dist = good_amount / total_good\n",
    "                bad_dist = bad_amount / total_bad\n",
    "\n",
    "                # Calling the build_fit_data method which calculates the WOE and IV for the category in the column and stores it in the dictionary, fit_data\n",
    "                self.build_fit_data(col_to_woe, category, good_dist, bad_dist)\n",
    "\n",
    "    def transform(self, df: DataFrame):\n",
    "        \"\"\"\n",
    "        This method creates a column called \"col_to_woe + '_woe'\" which replaces the given category value with the WOE value.\n",
    "        It finally returns a final dataframe containing the WOE values in place of the columns\n",
    "        \"\"\"\n",
    "        def _encode_woe(col_to_woe_):\n",
    "            return F.coalesce(\n",
    "                *[F.when(F.col(col_to_woe_) == category, F.lit(woe_iv['woe']))\n",
    "                  for category, woe_iv in self.fit_data[col_to_woe_].items()]\n",
    "            )\n",
    "\n",
    "        for col_to_woe, woe_info in self.fit_data.items():\n",
    "            # Adds another column to the df containing the final WOE values\n",
    "            df = df.withColumn(col_to_woe + '_woe', _encode_woe(col_to_woe))\n",
    "        return df\n",
    "\n",
    "    def compute_total_amount_of_good(self):\n",
    "     # Computes the total amount of good labels in the entire dataset\n",
    "        return self.df.select(self.label_column).filter(F.col(self.label_column) == self.good_label).count()\n",
    "\n",
    "    def compute_total_amount_of_bad(self):\n",
    "     # Computes the total amount of bad labels in the entire dataset\n",
    "        return self.df.select(self.label_column).filter(F.col(self.label_column) != self.good_label).count()\n",
    "\n",
    "    def compute_good_amount(self, col_to_woe: str, category: str):\n",
    "     # Computes the total amount of good labels for the specific class in the feature\n",
    "        return self.df.select(col_to_woe, self.label_column)\\\n",
    "                      .filter(\n",
    "                            (F.col(col_to_woe) == category) & (F.col(self.label_column) == self.good_label)\n",
    "                      ).count()\n",
    "\n",
    "    def compute_bad_amount(self, col_to_woe: str, category: str):\n",
    "        # Computes the total amount of bad labels for the specific class in the feature\n",
    "        return self.df.select(col_to_woe, self.label_column)\\\n",
    "                      .filter(\n",
    "                            (F.col(col_to_woe) == category) & (F.col(self.label_column) != self.good_label)\n",
    "                      ).count()\n",
    "\n",
    "    def build_fit_data(self, col_to_woe, category, good_dist, bad_dist):\n",
    "        \"\"\"\n",
    "        Calculates the WOE and value for the specific category and saves it in the woe_info dictionary which is saves in the fit_data dictionary\n",
    "        \n",
    "        \n",
    "        Attributes:\n",
    "        col_to_woe: str\n",
    "        name of the feature\n",
    "        \n",
    "        category: str\n",
    "        Class of that feature\n",
    "        \n",
    "        good_dist: float\n",
    "        Fraction of good labels specific to that category\n",
    "        \n",
    "        bad_dist: float\n",
    "        Fraction of bad labels specific to that category\n",
    "        \"\"\"\n",
    "        woe_info = {\n",
    "            category: {\n",
    "                'woe': math.log(good_dist / bad_dist), # Calculating the WOE value for the category in the column\n",
    "                'iv': (good_dist - bad_dist) * math.log(good_dist / bad_dist) # Calculating the IV value for the category in the column\n",
    "            }\n",
    "        }\n",
    "\n",
    "        # Adding the feature, col_to_woe to fit_data if not present already\n",
    "        if col_to_woe not in self.fit_data:\n",
    "            self.fit_data[col_to_woe] = woe_info\n",
    "        else:\n",
    "            self.fit_data[col_to_woe].update(woe_info)\n",
    "\n",
    "    def compute_iv(self):\n",
    "        \"\"\"\n",
    "        Returns the IV dictionary which contains the IV value for each feature\n",
    "        \"\"\"\n",
    "        iv_dict = {}\n",
    "\n",
    "        for woe_col, categories in self.fit_data.items():\n",
    "            iv_dict[woe_col] = 0\n",
    "            for category, woe_iv in categories.items():\n",
    "                iv_dict[woe_col] += woe_iv['iv'] # IV for the feature = IV value for the indiviual categories of the feature (column)\n",
    "        return iv_dict"
   ]
  },
  {
   "cell_type": "code",
   "execution_count": 94,
   "id": "92ebf7be",
   "metadata": {},
   "outputs": [
    {
     "name": "stdout",
     "output_type": "stream",
     "text": [
      "root\n",
      " |-- ID: integer (nullable = true)\n",
      " |-- CODE_GENDER: string (nullable = true)\n",
      " |-- FLAG_OWN_CAR: string (nullable = true)\n",
      " |-- FLAG_OWN_REALTY: string (nullable = true)\n",
      " |-- CNT_CHILDREN: integer (nullable = true)\n",
      " |-- AMT_INCOME_TOTAL: double (nullable = true)\n",
      " |-- NAME_INCOME_TYPE: string (nullable = true)\n",
      " |-- NAME_EDUCATION_TYPE: string (nullable = true)\n",
      " |-- NAME_FAMILY_STATUS: string (nullable = true)\n",
      " |-- NAME_HOUSING_TYPE: string (nullable = true)\n",
      " |-- DAYS_BIRTH: integer (nullable = true)\n",
      " |-- DAYS_EMPLOYED: integer (nullable = true)\n",
      " |-- FLAG_WORK_PHONE: integer (nullable = true)\n",
      " |-- FLAG_PHONE: integer (nullable = true)\n",
      " |-- FLAG_EMAIL: integer (nullable = true)\n",
      " |-- OCCUPATION_TYPE: string (nullable = true)\n",
      " |-- CNT_FAM_MEMBERS: double (nullable = true)\n",
      " |-- Target_final: integer (nullable = true)\n",
      " |-- OCCUPATION_TYPE_FE: string (nullable = true)\n",
      " |-- CNT_CHILDREN_FE: integer (nullable = true)\n",
      " |-- CNT_FAM_MEMBERS_FE: double (nullable = true)\n",
      " |-- Age_FE: integer (nullable = true)\n",
      " |-- DAYS_EMPLOYED_FE: double (nullable = true)\n",
      "\n"
     ]
    }
   ],
   "source": [
    "merged.printSchema()"
   ]
  },
  {
   "cell_type": "code",
   "execution_count": 95,
   "id": "6bbf4767",
   "metadata": {},
   "outputs": [
    {
     "data": {
      "text/plain": [
       "['CODE_GENDER',\n",
       " 'FLAG_OWN_CAR',\n",
       " 'FLAG_OWN_REALTY',\n",
       " 'NAME_INCOME_TYPE',\n",
       " 'NAME_EDUCATION_TYPE',\n",
       " 'NAME_FAMILY_STATUS',\n",
       " 'NAME_HOUSING_TYPE',\n",
       " 'OCCUPATION_TYPE',\n",
       " 'OCCUPATION_TYPE_FE']"
      ]
     },
     "execution_count": 95,
     "metadata": {},
     "output_type": "execute_result"
    }
   ],
   "source": [
    "#Get all categorical columns that are of string type\n",
    "columnList = [item[0] for item in merged.dtypes if item[1].startswith('string')]\n",
    "columnList"
   ]
  },
  {
   "cell_type": "code",
   "execution_count": 96,
   "id": "d8c9f247",
   "metadata": {},
   "outputs": [
    {
     "data": {
      "text/plain": [
       "['CODE_GENDER',\n",
       " 'FLAG_OWN_CAR',\n",
       " 'FLAG_OWN_REALTY',\n",
       " 'NAME_INCOME_TYPE',\n",
       " 'NAME_EDUCATION_TYPE',\n",
       " 'NAME_FAMILY_STATUS',\n",
       " 'NAME_HOUSING_TYPE',\n",
       " 'OCCUPATION_TYPE_FE',\n",
       " 'FLAG_WORK_PHONE',\n",
       " 'FLAG_PHONE',\n",
       " 'FLAG_EMAIL']"
      ]
     },
     "execution_count": 96,
     "metadata": {},
     "output_type": "execute_result"
    }
   ],
   "source": [
    "#Removing OCCUPATION_TYPE because we need only Feature encoded column (FE) columns\n",
    "columnList.remove('OCCUPATION_TYPE')\n",
    "#Add categorical columns which are integers(0 and 1 categories)\n",
    "columnList.extend(['FLAG_WORK_PHONE','FLAG_PHONE','FLAG_EMAIL'])\n",
    "columnList"
   ]
  },
  {
   "cell_type": "markdown",
   "id": "c703b5bd",
   "metadata": {},
   "source": [
    "***Making an object woe of WOE_IV class and passing our categorical columns, along with the final label as 'Target_final' and good_label as 0.*** <br>\n",
    "Then, fit the woe object. <br>\n",
    "Transform our merged pyspark dataframe which would result in encoded_df.<br>\n",
    "Then call woe.compute_iv() to get the iv values of all the categorical features passed.<br>"
   ]
  },
  {
   "cell_type": "code",
   "execution_count": 97,
   "id": "a44217d1",
   "metadata": {},
   "outputs": [],
   "source": [
    "import math\n",
    "woe = WOE_IV(merged,columnList,label_column=\"Target_final\",good_label=0)\n",
    "woe.fit()\n",
    "encoded_df = woe.transform(merged)\n",
    "output = woe.compute_iv()"
   ]
  },
  {
   "cell_type": "code",
   "execution_count": 98,
   "id": "f4a339ff",
   "metadata": {},
   "outputs": [
    {
     "data": {
      "text/plain": [
       "{'CODE_GENDER': 0.013581371667358226,\n",
       " 'FLAG_OWN_CAR': 0.0011443033795676962,\n",
       " 'FLAG_OWN_REALTY': 0.028349157710111452,\n",
       " 'NAME_INCOME_TYPE': 0.018047025803906012,\n",
       " 'NAME_EDUCATION_TYPE': 0.009216510365458699,\n",
       " 'NAME_FAMILY_STATUS': 0.030119259773091364,\n",
       " 'NAME_HOUSING_TYPE': 0.015711059499443562,\n",
       " 'OCCUPATION_TYPE_FE': 0.06138953368013723,\n",
       " 'FLAG_WORK_PHONE': 0.0018649623862678076,\n",
       " 'FLAG_PHONE': 0.0001503891689122611,\n",
       " 'FLAG_EMAIL': 0.0003664774106978877}"
      ]
     },
     "execution_count": 98,
     "metadata": {},
     "output_type": "execute_result"
    }
   ],
   "source": [
    "#IV Values\n",
    "output"
   ]
  },
  {
   "cell_type": "markdown",
   "id": "676f9e68",
   "metadata": {},
   "source": [
    "***We will not use the columns with IV Value less than 0.002 to eliminate week predictors.*** <br>\n",
    "So we will not use the columns - FLAG_OWN_CAR, FLAG_WORK_PHONE, FLAG_PHONE, FLAG_EMAIL"
   ]
  },
  {
   "cell_type": "code",
   "execution_count": 100,
   "id": "03e86f2a",
   "metadata": {},
   "outputs": [
    {
     "name": "stdout",
     "output_type": "stream",
     "text": [
      "root\n",
      " |-- ID: integer (nullable = true)\n",
      " |-- CODE_GENDER: string (nullable = true)\n",
      " |-- FLAG_OWN_CAR: string (nullable = true)\n",
      " |-- FLAG_OWN_REALTY: string (nullable = true)\n",
      " |-- CNT_CHILDREN: integer (nullable = true)\n",
      " |-- AMT_INCOME_TOTAL: double (nullable = true)\n",
      " |-- NAME_INCOME_TYPE: string (nullable = true)\n",
      " |-- NAME_EDUCATION_TYPE: string (nullable = true)\n",
      " |-- NAME_FAMILY_STATUS: string (nullable = true)\n",
      " |-- NAME_HOUSING_TYPE: string (nullable = true)\n",
      " |-- DAYS_BIRTH: integer (nullable = true)\n",
      " |-- DAYS_EMPLOYED: integer (nullable = true)\n",
      " |-- FLAG_WORK_PHONE: integer (nullable = true)\n",
      " |-- FLAG_PHONE: integer (nullable = true)\n",
      " |-- FLAG_EMAIL: integer (nullable = true)\n",
      " |-- OCCUPATION_TYPE: string (nullable = true)\n",
      " |-- CNT_FAM_MEMBERS: double (nullable = true)\n",
      " |-- Target_final: integer (nullable = true)\n",
      " |-- OCCUPATION_TYPE_FE: string (nullable = true)\n",
      " |-- CNT_CHILDREN_FE: integer (nullable = true)\n",
      " |-- CNT_FAM_MEMBERS_FE: double (nullable = true)\n",
      " |-- Age_FE: integer (nullable = true)\n",
      " |-- DAYS_EMPLOYED_FE: double (nullable = true)\n",
      " |-- CODE_GENDER_woe: double (nullable = true)\n",
      " |-- FLAG_OWN_CAR_woe: double (nullable = true)\n",
      " |-- FLAG_OWN_REALTY_woe: double (nullable = true)\n",
      " |-- NAME_INCOME_TYPE_woe: double (nullable = true)\n",
      " |-- NAME_EDUCATION_TYPE_woe: double (nullable = true)\n",
      " |-- NAME_FAMILY_STATUS_woe: double (nullable = true)\n",
      " |-- NAME_HOUSING_TYPE_woe: double (nullable = true)\n",
      " |-- OCCUPATION_TYPE_FE_woe: double (nullable = true)\n",
      " |-- FLAG_WORK_PHONE_woe: double (nullable = true)\n",
      " |-- FLAG_PHONE_woe: double (nullable = true)\n",
      " |-- FLAG_EMAIL_woe: double (nullable = true)\n",
      "\n"
     ]
    }
   ],
   "source": [
    "encoded_df.printSchema()"
   ]
  },
  {
   "cell_type": "markdown",
   "id": "982924f3",
   "metadata": {},
   "source": [
    "***Combine all the variable that we want to use for our inital model building process. This will include both numerical and categorical features.***"
   ]
  },
  {
   "cell_type": "code",
   "execution_count": 101,
   "id": "912cccec",
   "metadata": {},
   "outputs": [
    {
     "name": "stdout",
     "output_type": "stream",
     "text": [
      "Size of training columns:12\n"
     ]
    },
    {
     "data": {
      "text/plain": [
       "['CODE_GENDER_woe',\n",
       " 'FLAG_OWN_REALTY_woe',\n",
       " 'NAME_INCOME_TYPE_woe',\n",
       " 'NAME_EDUCATION_TYPE_woe',\n",
       " 'NAME_FAMILY_STATUS_woe',\n",
       " 'NAME_HOUSING_TYPE_woe',\n",
       " 'OCCUPATION_TYPE_FE_woe',\n",
       " 'CNT_CHILDREN_FE',\n",
       " 'AMT_INCOME_TOTAL',\n",
       " 'DAYS_EMPLOYED_FE',\n",
       " 'Age_FE',\n",
       " 'CNT_FAM_MEMBERS_FE']"
      ]
     },
     "execution_count": 101,
     "metadata": {},
     "output_type": "execute_result"
    }
   ],
   "source": [
    "def get_woe_columns(collist):\n",
    "    anslist=[]\n",
    "    for col in collist:\n",
    "        if col[-3:] == 'woe':\n",
    "            #Removing week predictors using IV Value\n",
    "            if col not in ('FLAG_OWN_CAR_woe','FLAG_WORK_PHONE_woe','FLAG_PHONE_woe','FLAG_EMAIL_woe'):\n",
    "                anslist.append(col)\n",
    "    return anslist\n",
    "\n",
    "trainCols = get_woe_columns(encoded_df.columns)\n",
    "trainCols.extend(['CNT_CHILDREN_FE','AMT_INCOME_TOTAL','DAYS_EMPLOYED_FE','Age_FE','CNT_FAM_MEMBERS_FE'])\n",
    "#trainCols.extend(['CNT_CHILDREN_FE','Age_FE'])\n",
    "print('Size of training columns:{}'.format(len(trainCols)))\n",
    "trainCols"
   ]
  },
  {
   "cell_type": "markdown",
   "id": "b0ed7f9c",
   "metadata": {},
   "source": [
    "***Displaying all the woe values for Target_final == 1, i.e. delinquent customers. Just displaying woe values, nothing else.***"
   ]
  },
  {
   "cell_type": "code",
   "execution_count": 102,
   "id": "3d00d597",
   "metadata": {},
   "outputs": [
    {
     "name": "stderr",
     "output_type": "stream",
     "text": [
      "22/10/19 16:51:44 WARN Utils: Truncated the string representation of a plan since it was too large. This behavior can be adjusted by setting 'spark.debug.maxToStringFields' in SparkEnv.conf.\n"
     ]
    },
    {
     "name": "stdout",
     "output_type": "stream",
     "text": [
      "+-------------------+-------------------+--------------------+-----------------------+----------------------+---------------------+----------------------+\n",
      "|    CODE_GENDER_woe|FLAG_OWN_REALTY_woe|NAME_INCOME_TYPE_woe|NAME_EDUCATION_TYPE_woe|NAME_FAMILY_STATUS_woe|NAME_HOUSING_TYPE_woe|OCCUPATION_TYPE_FE_woe|\n",
      "+-------------------+-------------------+--------------------+-----------------------+----------------------+---------------------+----------------------+\n",
      "|-0.1566539525555282|-0.2217096232977501| 0.03904256008498212|   0.041260402295213154|   0.07532458183715152| 0.018571206026937258|  -0.31098034150587456|\n",
      "|-0.1566539525555282|0.12816876027993715| 0.03904256008498212|   -0.02610510696186...|  -0.21746376270713924| 0.018571206026937258|    0.0808839047699536|\n",
      "|0.08679484467682122|0.12816876027993715| -0.2279605463657168|   0.041260402295213154|   -0.5657473482619784| 0.018571206026937258|  0.011272133206970306|\n",
      "|0.08679484467682122|0.12816876027993715| 0.03904256008498212|   0.041260402295213154|   -0.5657473482619784| 0.018571206026937258|    0.0808839047699536|\n",
      "|0.08679484467682122|0.12816876027993715| 0.03904256008498212|   -0.02610510696186...|   0.07532458183715152| 0.018571206026937258|  0.011272133206970306|\n",
      "|-0.1566539525555282|-0.2217096232977501| 0.03904256008498212|   0.041260402295213154|   0.07987892748074678|  0.14567372394426403|  0.011272133206970306|\n",
      "|0.08679484467682122|-0.2217096232977501| 0.03904256008498212|   0.041260402295213154|   0.07532458183715152| 0.018571206026937258|    0.2729634556453107|\n",
      "|0.08679484467682122|0.12816876027993715| 0.03904256008498212|   0.041260402295213154|   0.07532458183715152| 0.018571206026937258|   -0.2023022656820009|\n",
      "|0.08679484467682122|0.12816876027993715| 0.03904256008498212|   -0.02610510696186...|   0.07532458183715152| 0.018571206026937258|  0.011272133206970306|\n",
      "|0.08679484467682122|0.12816876027993715| 0.03904256008498212|   0.041260402295213154|   0.07532458183715152| 0.018571206026937258|    0.2729634556453107|\n",
      "|0.08679484467682122|0.12816876027993715| 0.03904256008498212|   0.041260402295213154|   0.07987892748074678| 0.018571206026937258|  0.011272133206970306|\n",
      "|0.08679484467682122|0.12816876027993715| -0.2279605463657168|   0.041260402295213154|   0.07532458183715152| 0.018571206026937258|  0.011272133206970306|\n",
      "|0.08679484467682122|-0.2217096232977501|0.003212036639015...|   -0.02610510696186...|   0.13868159394241372| 0.018571206026937258|    0.3672159938914999|\n",
      "|0.08679484467682122|0.12816876027993715| -0.2279605463657168|   0.041260402295213154|   0.07532458183715152| 0.018571206026937258|  0.011272133206970306|\n",
      "|0.08679484467682122|0.12816876027993715| 0.03904256008498212|   0.041260402295213154|   0.07987892748074678| 0.018571206026937258|    0.7213878076121139|\n",
      "|0.08679484467682122|0.12816876027993715| -0.2279605463657168|   -0.02610510696186...|   0.13868159394241372| 0.018571206026937258|  0.011272133206970306|\n",
      "|0.08679484467682122|-0.2217096232977501| -0.2279605463657168|   0.041260402295213154|   0.07532458183715152| 0.018571206026937258|  0.011272133206970306|\n",
      "|-0.1566539525555282|0.12816876027993715| 0.03904256008498212|   0.041260402295213154|   0.07532458183715152| 0.018571206026937258|  0.011272133206970306|\n",
      "|0.08679484467682122|0.12816876027993715| 0.03904256008498212|   -0.02610510696186...|   0.07532458183715152| 0.018571206026937258|  -0.09412957261112097|\n",
      "|0.08679484467682122|0.12816876027993715| -0.2279605463657168|   0.041260402295213154|   -0.5657473482619784| 0.018571206026937258|  0.011272133206970306|\n",
      "+-------------------+-------------------+--------------------+-----------------------+----------------------+---------------------+----------------------+\n",
      "only showing top 20 rows\n",
      "\n"
     ]
    }
   ],
   "source": [
    "encoded_df.filter(encoded_df.Target_final == 1).select(get_woe_columns(encoded_df.columns)).show()"
   ]
  },
  {
   "cell_type": "markdown",
   "id": "4e07c0a8",
   "metadata": {},
   "source": [
    "# MODEL 1"
   ]
  },
  {
   "cell_type": "markdown",
   "id": "63acc965",
   "metadata": {},
   "source": [
    "***Using VectorAssember to transform all our trainCols into one single features called as 'features'***."
   ]
  },
  {
   "cell_type": "code",
   "execution_count": 103,
   "id": "58befaef",
   "metadata": {},
   "outputs": [],
   "source": [
    "# MODEL Building\n",
    "from pyspark.ml.feature import VectorAssembler \n",
    "#configure the assembler object and use it to transform merged df\n",
    "assembler = VectorAssembler(inputCols=trainCols,outputCol='features')\n",
    "finaldf = assembler.transform(encoded_df)"
   ]
  },
  {
   "cell_type": "code",
   "execution_count": 104,
   "id": "23ae8724",
   "metadata": {},
   "outputs": [
    {
     "name": "stdout",
     "output_type": "stream",
     "text": [
      "+-------+-----------+------------+---------------+------------+----------------+--------------------+--------------------+--------------------+-----------------+----------+-------------+---------------+----------+----------+--------------------+---------------+------------+--------------------+---------------+------------------+------+----------------+-------------------+--------------------+-------------------+--------------------+-----------------------+----------------------+---------------------+----------------------+--------------------+--------------------+--------------------+--------------------+\n",
      "|     ID|CODE_GENDER|FLAG_OWN_CAR|FLAG_OWN_REALTY|CNT_CHILDREN|AMT_INCOME_TOTAL|    NAME_INCOME_TYPE| NAME_EDUCATION_TYPE|  NAME_FAMILY_STATUS|NAME_HOUSING_TYPE|DAYS_BIRTH|DAYS_EMPLOYED|FLAG_WORK_PHONE|FLAG_PHONE|FLAG_EMAIL|     OCCUPATION_TYPE|CNT_FAM_MEMBERS|Target_final|  OCCUPATION_TYPE_FE|CNT_CHILDREN_FE|CNT_FAM_MEMBERS_FE|Age_FE|DAYS_EMPLOYED_FE|    CODE_GENDER_woe|    FLAG_OWN_CAR_woe|FLAG_OWN_REALTY_woe|NAME_INCOME_TYPE_woe|NAME_EDUCATION_TYPE_woe|NAME_FAMILY_STATUS_woe|NAME_HOUSING_TYPE_woe|OCCUPATION_TYPE_FE_woe| FLAG_WORK_PHONE_woe|      FLAG_PHONE_woe|      FLAG_EMAIL_woe|            features|\n",
      "+-------+-----------+------------+---------------+------------+----------------+--------------------+--------------------+--------------------+-----------------+----------+-------------+---------------+----------+----------+--------------------+---------------+------------+--------------------+---------------+------------------+------+----------------+-------------------+--------------------+-------------------+--------------------+-----------------------+----------------------+---------------------+----------------------+--------------------+--------------------+--------------------+--------------------+\n",
      "|5009033|          F|           N|              N|           0|        255150.0|           Pensioner|   Incomplete higher|      Civil marriage| Rented apartment|    -18682|       365243|              0|         0|         0|                null|            2.0|           0|            Laborers|              0|               2.0|    51|         -1552.0|0.08679484467682122|-0.02602457659832209|-0.2217096232977501| -0.2279605463657168|    -0.3324458676896392|   0.07987892748074678|  0.19731695709610228|  0.011272133206970306|0.023889130492183903|0.007980836151509957|-0.00591287007589...|[0.08679484467682...|\n",
      "|5009304|          F|           N|              N|           0|        112500.0|           Pensioner|Secondary / secon...|               Widow|House / apartment|    -22061|       365243|              0|         0|         0|                null|            1.0|           0|            Laborers|              0|               1.0|    60|         -1552.0|0.08679484467682122|-0.02602457659832209|-0.2217096232977501| -0.2279605463657168|   0.041260402295213154|   -0.5657473482619784| 0.018571206026937258|  0.011272133206970306|0.023889130492183903|0.007980836151509957|-0.00591287007589...|[0.08679484467682...|\n",
      "|5009355|          F|           N|              N|           0|        135000.0|Commercial associate|Secondary / secon...|             Married|House / apartment|    -19692|        -5273|              1|         1|         0|            Laborers|            2.0|           0|            Laborers|              0|               2.0|    53|         -5273.0|0.08679484467682122|-0.02602457659832209|-0.2217096232977501|0.003212036639015...|   0.041260402295213154|   0.07532458183715152| 0.018571206026937258|  0.011272133206970306|-0.07807953701462458|-0.01884402220697...|-0.00591287007589...|[0.08679484467682...|\n",
      "|5009429|          M|           N|              N|           0|        198000.0|             Working|Secondary / secon...|Single / not married|     With parents|     -8657|        -1164|              1|         0|         0|            Laborers|            1.0|           0|            Laborers|              0|               1.0|    23|         -1164.0|-0.1566539525555282|-0.02602457659832209|-0.2217096232977501| 0.03904256008498212|   0.041260402295213154|  -0.21746376270713924|  0.14567372394426403|  0.011272133206970306|-0.07807953701462458|0.007980836151509957|-0.00591287007589...|[-0.1566539525555...|\n",
      "|5010070|          F|           N|              Y|           0|        279000.0|       State servant|    Higher education|Single / not married|House / apartment|    -11091|         -617|              0|         0|         1|            Managers|            1.0|           0|            Managers|              0|               1.0|    30|          -617.0|0.08679484467682122|-0.02602457659832209|0.12816876027993715| 0.31436353571318904|   -0.02610510696186...|  -0.21746376270713924| 0.018571206026937258|    0.0808839047699536|0.023889130492183903|0.007980836151509957| 0.06198150776556719|[0.08679484467682...|\n",
      "|5010236|          M|           Y|              Y|           0|        225000.0|             Working|Secondary / secon...|             Married|House / apartment|    -16507|        -4331|              0|         0|         0|             Drivers|            2.0|           0|             Drivers|              0|               2.0|    45|         -4331.0|-0.1566539525555282|0.043974298762103715|0.12816876027993715| 0.03904256008498212|   0.041260402295213154|   0.07532458183715152| 0.018571206026937258|  -0.31098034150587456|0.023889130492183903|0.007980836151509957|-0.00591287007589...|[-0.1566539525555...|\n",
      "|5010338|          F|           N|              N|           0|        216000.0|           Pensioner|Secondary / secon...|             Married|House / apartment|    -22867|       365243|              0|         0|         0|                null|            2.0|           0|            Laborers|              0|               2.0|    62|         -1552.0|0.08679484467682122|-0.02602457659832209|-0.2217096232977501| -0.2279605463657168|   0.041260402295213154|   0.07532458183715152| 0.018571206026937258|  0.011272133206970306|0.023889130492183903|0.007980836151509957|-0.00591287007589...|[0.08679484467682...|\n",
      "|5010511|          F|           Y|              Y|           1|        157500.0|Commercial associate|Secondary / secon...|             Married|House / apartment|    -13830|        -4239|              0|         0|         0|            Laborers|            3.0|           0|            Laborers|              1|               3.0|    37|         -4239.0|0.08679484467682122|0.043974298762103715|0.12816876027993715|0.003212036639015...|   0.041260402295213154|   0.07532458183715152| 0.018571206026937258|  0.011272133206970306|0.023889130492183903|0.007980836151509957|-0.00591287007589...|[0.08679484467682...|\n",
      "|5010624|          F|           N|              Y|           0|        103500.0|           Pensioner|   Incomplete higher|             Married|House / apartment|    -22254|       365243|              0|         1|         0|                null|            2.0|           0|            Laborers|              0|               2.0|    60|         -1552.0|0.08679484467682122|-0.02602457659832209|0.12816876027993715| -0.2279605463657168|    -0.3324458676896392|   0.07532458183715152| 0.018571206026937258|  0.011272133206970306|0.023889130492183903|-0.01884402220697...|-0.00591287007589...|[0.08679484467682...|\n",
      "|5010629|          F|           N|              Y|           0|        180000.0|             Working|Secondary / secon...|Single / not married|House / apartment|    -19421|        -2017|              0|         0|         0|                null|            1.0|           0|            Laborers|              0|               1.0|    53|         -2017.0|0.08679484467682122|-0.02602457659832209|0.12816876027993715| 0.03904256008498212|   0.041260402295213154|  -0.21746376270713924| 0.018571206026937258|  0.011272133206970306|0.023889130492183903|0.007980836151509957|-0.00591287007589...|[0.08679484467682...|\n",
      "|5011029|          F|           N|              Y|           0|        292500.0|             Working|Secondary / secon...|      Civil marriage|House / apartment|    -16588|        -1013|              0|         0|         1|         Sales staff|            2.0|           0|         Sales staff|              0|               2.0|    45|         -1013.0|0.08679484467682122|-0.02602457659832209|0.12816876027993715| 0.03904256008498212|   0.041260402295213154|   0.07987892748074678| 0.018571206026937258|    0.2729634556453107|0.023889130492183903|0.007980836151509957| 0.06198150776556719|[0.08679484467682...|\n",
      "|5018442|          F|           N|              Y|           0|        202500.0|             Working|Secondary / secon...|               Widow|House / apartment|    -20227|        -5416|              0|         0|         0|          Core staff|            1.0|           0|          Core staff|              0|               1.0|    55|         -5416.0|0.08679484467682122|-0.02602457659832209|0.12816876027993715| 0.03904256008498212|   0.041260402295213154|   -0.5657473482619784| 0.018571206026937258|   -0.2023022656820009|0.023889130492183903|0.007980836151509957|-0.00591287007589...|[0.08679484467682...|\n",
      "|5021819|          F|           Y|              Y|           1|         67500.0|             Working|Secondary / secon...|             Married|House / apartment|    -11454|        -1678|              0|         1|         1|       Cooking staff|            3.0|           0|       Cooking staff|              1|               3.0|    31|         -1678.0|0.08679484467682122|0.043974298762103715|0.12816876027993715| 0.03904256008498212|   0.041260402295213154|   0.07532458183715152| 0.018571206026937258|    0.2099741214945689|0.023889130492183903|-0.01884402220697...| 0.06198150776556719|[0.08679484467682...|\n",
      "|5021944|          F|           Y|              Y|           0|        445500.0|Commercial associate|    Higher education|             Married|House / apartment|    -12477|         -456|              0|         0|         0|            Managers|            2.0|           0|            Managers|              0|               2.0|    34|          -456.0|0.08679484467682122|0.043974298762103715|0.12816876027993715|0.003212036639015...|   -0.02610510696186...|   0.07532458183715152| 0.018571206026937258|    0.0808839047699536|0.023889130492183903|0.007980836151509957|-0.00591287007589...|[0.08679484467682...|\n",
      "|5021994|          M|           Y|              Y|           0|        135000.0|             Working|    Higher education|             Married|House / apartment|     -9303|         -852|              0|         0|         0|         Sales staff|            2.0|           0|         Sales staff|              0|               2.0|    25|          -852.0|-0.1566539525555282|0.043974298762103715|0.12816876027993715| 0.03904256008498212|   -0.02610510696186...|   0.07532458183715152| 0.018571206026937258|    0.2729634556453107|0.023889130492183903|0.007980836151509957|-0.00591287007589...|[-0.1566539525555...|\n",
      "|5022024|          M|           Y|              Y|           0|        112500.0|             Working|Secondary / secon...|Single / not married|House / apartment|     -9952|        -1613|              0|         0|         0|                null|            1.0|           0|            Laborers|              0|               1.0|    27|         -1613.0|-0.1566539525555282|0.043974298762103715|0.12816876027993715| 0.03904256008498212|   0.041260402295213154|  -0.21746376270713924| 0.018571206026937258|  0.011272133206970306|0.023889130492183903|0.007980836151509957|-0.00591287007589...|[-0.1566539525555...|\n",
      "|5022285|          F|           N|              N|           1|        157500.0|             Working|Secondary / secon...|      Civil marriage|House / apartment|    -15100|        -3500|              0|         0|         0|       Cooking staff|            3.0|           0|       Cooking staff|              1|               3.0|    41|         -3500.0|0.08679484467682122|-0.02602457659832209|-0.2217096232977501| 0.03904256008498212|   0.041260402295213154|   0.07987892748074678| 0.018571206026937258|    0.2099741214945689|0.023889130492183903|0.007980836151509957|-0.00591287007589...|[0.08679484467682...|\n",
      "|5022944|          F|           Y|              N|           0|        202500.0|Commercial associate|   Incomplete higher|           Separated|House / apartment|    -14096|        -1344|              0|         1|         1|         Accountants|            1.0|           0|         Accountants|              0|               1.0|    38|         -1344.0|0.08679484467682122|0.043974298762103715|-0.2217096232977501|0.003212036639015...|    -0.3324458676896392|   0.13868159394241372| 0.018571206026937258|  -0.09412957261112097|0.023889130492183903|-0.01884402220697...| 0.06198150776556719|[0.08679484467682...|\n",
      "|5023011|          M|           Y|              N|           0|        360000.0|             Working|Secondary / secon...|             Married|House / apartment|    -11440|        -2457|              0|         0|         0|Private service s...|            2.0|           0|Private service s...|              0|               2.0|    31|         -2457.0|-0.1566539525555282|0.043974298762103715|-0.2217096232977501| 0.03904256008498212|   0.041260402295213154|   0.07532458183715152| 0.018571206026937258|     1.078062751550846|0.023889130492183903|0.007980836151509957|-0.00591287007589...|[-0.1566539525555...|\n",
      "|5023430|          F|           N|              Y|           0|        108000.0|           Pensioner|Secondary / secon...|             Married|House / apartment|    -23044|       365243|              0|         1|         0|                null|            2.0|           0|            Laborers|              0|               2.0|    63|         -1552.0|0.08679484467682122|-0.02602457659832209|0.12816876027993715| -0.2279605463657168|   0.041260402295213154|   0.07532458183715152| 0.018571206026937258|  0.011272133206970306|0.023889130492183903|-0.01884402220697...|-0.00591287007589...|[0.08679484467682...|\n",
      "+-------+-----------+------------+---------------+------------+----------------+--------------------+--------------------+--------------------+-----------------+----------+-------------+---------------+----------+----------+--------------------+---------------+------------+--------------------+---------------+------------------+------+----------------+-------------------+--------------------+-------------------+--------------------+-----------------------+----------------------+---------------------+----------------------+--------------------+--------------------+--------------------+--------------------+\n",
      "only showing top 20 rows\n",
      "\n"
     ]
    }
   ],
   "source": [
    "finaldf.show()"
   ]
  },
  {
   "cell_type": "markdown",
   "id": "1a9c46c5",
   "metadata": {},
   "source": [
    "***Splitting the data into zeroes and ones, then splitting further into train and test, and then merging back so that we get proportionate data. Simple way of doing a stratified train-test split in pyspark, with seed=2018 as mentioned in the instructions.***"
   ]
  },
  {
   "cell_type": "code",
   "execution_count": 105,
   "id": "efde57ea",
   "metadata": {},
   "outputs": [],
   "source": [
    "# split the data into training and testing data set\n",
    "# split dataframes between 0s and 1s\n",
    "zeros = finaldf.filter(finaldf[\"Target_final\"]==0)\n",
    "ones = finaldf.filter(finaldf[\"Target_final\"]==1)\n",
    "# split datasets into training and testing\n",
    "train0, test0 = zeros.randomSplit([0.7,0.3], seed=2018)\n",
    "train1, test1 = ones.randomSplit([0.7,0.3], seed=2018)\n",
    "# stack datasets back together\n",
    "train = train0.union(train1)\n",
    "test = test0.union(test1)"
   ]
  },
  {
   "cell_type": "markdown",
   "id": "d97d7c1b",
   "metadata": {},
   "source": [
    "***Using pysparl.ml.classification.LogisticRegression for 1st iteration of our model***"
   ]
  },
  {
   "cell_type": "code",
   "execution_count": 106,
   "id": "5f3b6db8",
   "metadata": {},
   "outputs": [
    {
     "name": "stderr",
     "output_type": "stream",
     "text": [
      "22/10/19 16:52:36 WARN BLAS: Failed to load implementation from: com.github.fommil.netlib.NativeSystemBLAS\n",
      "22/10/19 16:52:36 WARN BLAS: Failed to load implementation from: com.github.fommil.netlib.NativeRefBLAS\n"
     ]
    }
   ],
   "source": [
    "# train model in the training dataset\n",
    "\n",
    "# import the logistic model\n",
    "from pyspark.ml.classification import LogisticRegression\n",
    "\n",
    "# create the logistic model, configure it and call fit it to the data. \n",
    "lr = LogisticRegression(featuresCol='features', labelCol='Target_final')\n",
    "model = lr.fit(train)"
   ]
  },
  {
   "cell_type": "markdown",
   "id": "43a7ab65",
   "metadata": {},
   "source": [
    "***After transform our test data, we get some new columns, such as rawPrediction, probability, prediction.***"
   ]
  },
  {
   "cell_type": "code",
   "execution_count": 107,
   "id": "d058d58b",
   "metadata": {},
   "outputs": [
    {
     "data": {
      "text/plain": [
       "DataFrame[ID: int, CODE_GENDER: string, FLAG_OWN_CAR: string, FLAG_OWN_REALTY: string, CNT_CHILDREN: int, AMT_INCOME_TOTAL: double, NAME_INCOME_TYPE: string, NAME_EDUCATION_TYPE: string, NAME_FAMILY_STATUS: string, NAME_HOUSING_TYPE: string, DAYS_BIRTH: int, DAYS_EMPLOYED: int, FLAG_WORK_PHONE: int, FLAG_PHONE: int, FLAG_EMAIL: int, OCCUPATION_TYPE: string, CNT_FAM_MEMBERS: double, Target_final: int, OCCUPATION_TYPE_FE: string, CNT_CHILDREN_FE: int, CNT_FAM_MEMBERS_FE: double, Age_FE: int, DAYS_EMPLOYED_FE: double, CODE_GENDER_woe: double, FLAG_OWN_CAR_woe: double, FLAG_OWN_REALTY_woe: double, NAME_INCOME_TYPE_woe: double, NAME_EDUCATION_TYPE_woe: double, NAME_FAMILY_STATUS_woe: double, NAME_HOUSING_TYPE_woe: double, OCCUPATION_TYPE_FE_woe: double, FLAG_WORK_PHONE_woe: double, FLAG_PHONE_woe: double, FLAG_EMAIL_woe: double, features: vector, rawPrediction: vector, probability: vector, prediction: double]"
      ]
     },
     "execution_count": 107,
     "metadata": {},
     "output_type": "execute_result"
    }
   ],
   "source": [
    "test_df_predict = model.transform(test)\n",
    "test_df_predict"
   ]
  },
  {
   "cell_type": "markdown",
   "id": "91e36547",
   "metadata": {},
   "source": [
    "***Evaluating our model on test data to get the accuracy and plot the roc curve to find optimal threshold for the model built.***"
   ]
  },
  {
   "cell_type": "code",
   "execution_count": 108,
   "id": "4a41a0ec",
   "metadata": {},
   "outputs": [
    {
     "name": "stdout",
     "output_type": "stream",
     "text": [
      "+------------+--------------------+----------+\n",
      "|Target_final|         probability|prediction|\n",
      "+------------+--------------------+----------+\n",
      "|           0|[0.98067329393032...|       0.0|\n",
      "|           0|[0.98590845338311...|       0.0|\n",
      "|           0|[0.98809628314669...|       0.0|\n",
      "|           0|[0.98489213383730...|       0.0|\n",
      "|           0|[0.98676935892977...|       0.0|\n",
      "|           0|[0.99564847512499...|       0.0|\n",
      "|           0|[0.98957896818125...|       0.0|\n",
      "|           0|[0.98303539689787...|       0.0|\n",
      "|           0|[0.98454977545554...|       0.0|\n",
      "|           0|[0.96967699183283...|       0.0|\n",
      "|           0|[0.98323116947532...|       0.0|\n",
      "|           0|[0.96325779820912...|       0.0|\n",
      "|           0|[0.97643580538348...|       0.0|\n",
      "|           0|[0.98650443854231...|       0.0|\n",
      "|           0|[0.98351218386007...|       0.0|\n",
      "|           0|[0.97142713532071...|       0.0|\n",
      "|           0|[0.98389487477870...|       0.0|\n",
      "|           0|[0.98425908644118...|       0.0|\n",
      "|           0|[0.97831757501792...|       0.0|\n",
      "|           0|[0.99083341265082...|       0.0|\n",
      "|           0|[0.98739121898491...|       0.0|\n",
      "|           0|[0.98349075527026...|       0.0|\n",
      "|           0|[0.98434085205340...|       0.0|\n",
      "|           0|[0.97476193820162...|       0.0|\n",
      "|           0|[0.98397876191628...|       0.0|\n",
      "|           0|[0.98323116947532...|       0.0|\n",
      "|           0|[0.95574028485306...|       0.0|\n",
      "|           0|[0.98341439008828...|       0.0|\n",
      "|           0|[0.97981153649048...|       0.0|\n",
      "|           0|[0.98307856431889...|       0.0|\n",
      "+------------+--------------------+----------+\n",
      "only showing top 30 rows\n",
      "\n"
     ]
    }
   ],
   "source": [
    "# use the model to predict the class labels of test data. \n",
    "result_test = model.evaluate(test)\n",
    "result_test.predictions.select('Target_final','probability','prediction').show(30)"
   ]
  },
  {
   "cell_type": "code",
   "execution_count": 109,
   "id": "94c3b9c6",
   "metadata": {},
   "outputs": [
    {
     "data": {
      "text/plain": [
       "[[DenseVector([0.9807, 0.0193])],\n",
       " [DenseVector([0.9859, 0.0141])],\n",
       " [DenseVector([0.9881, 0.0119])],\n",
       " [DenseVector([0.9849, 0.0151])],\n",
       " [DenseVector([0.9868, 0.0132])],\n",
       " [DenseVector([0.9956, 0.0044])],\n",
       " [DenseVector([0.9896, 0.0104])],\n",
       " [DenseVector([0.983, 0.017])],\n",
       " [DenseVector([0.9845, 0.0155])],\n",
       " [DenseVector([0.9697, 0.0303])],\n",
       " [DenseVector([0.9832, 0.0168])],\n",
       " [DenseVector([0.9633, 0.0367])],\n",
       " [DenseVector([0.9764, 0.0236])],\n",
       " [DenseVector([0.9865, 0.0135])],\n",
       " [DenseVector([0.9835, 0.0165])],\n",
       " [DenseVector([0.9714, 0.0286])],\n",
       " [DenseVector([0.9839, 0.0161])],\n",
       " [DenseVector([0.9843, 0.0157])],\n",
       " [DenseVector([0.9783, 0.0217])],\n",
       " [DenseVector([0.9908, 0.0092])],\n",
       " [DenseVector([0.9874, 0.0126])],\n",
       " [DenseVector([0.9835, 0.0165])],\n",
       " [DenseVector([0.9843, 0.0157])],\n",
       " [DenseVector([0.9748, 0.0252])],\n",
       " [DenseVector([0.984, 0.016])],\n",
       " [DenseVector([0.9832, 0.0168])],\n",
       " [DenseVector([0.9557, 0.0443])],\n",
       " [DenseVector([0.9834, 0.0166])],\n",
       " [DenseVector([0.9798, 0.0202])],\n",
       " [DenseVector([0.9831, 0.0169])],\n",
       " [DenseVector([0.9837, 0.0163])],\n",
       " [DenseVector([0.9828, 0.0172])],\n",
       " [DenseVector([0.9848, 0.0152])],\n",
       " [DenseVector([0.9905, 0.0095])],\n",
       " [DenseVector([0.9826, 0.0174])],\n",
       " [DenseVector([0.9865, 0.0135])],\n",
       " [DenseVector([0.9803, 0.0197])],\n",
       " [DenseVector([0.9674, 0.0326])],\n",
       " [DenseVector([0.9854, 0.0146])],\n",
       " [DenseVector([0.989, 0.011])],\n",
       " [DenseVector([0.9763, 0.0237])],\n",
       " [DenseVector([0.9878, 0.0122])],\n",
       " [DenseVector([0.9606, 0.0394])],\n",
       " [DenseVector([0.9807, 0.0193])],\n",
       " [DenseVector([0.9769, 0.0231])],\n",
       " [DenseVector([0.9765, 0.0235])],\n",
       " [DenseVector([0.9849, 0.0151])],\n",
       " [DenseVector([0.9824, 0.0176])],\n",
       " [DenseVector([0.9711, 0.0289])],\n",
       " [DenseVector([0.9633, 0.0367])],\n",
       " [DenseVector([0.9852, 0.0148])],\n",
       " [DenseVector([0.9801, 0.0199])],\n",
       " [DenseVector([0.979, 0.021])],\n",
       " [DenseVector([0.9819, 0.0181])],\n",
       " [DenseVector([0.9847, 0.0153])],\n",
       " [DenseVector([0.9822, 0.0178])],\n",
       " [DenseVector([0.9835, 0.0165])],\n",
       " [DenseVector([0.9873, 0.0127])],\n",
       " [DenseVector([0.9735, 0.0265])],\n",
       " [DenseVector([0.9836, 0.0164])],\n",
       " [DenseVector([0.9901, 0.0099])],\n",
       " [DenseVector([0.9805, 0.0195])],\n",
       " [DenseVector([0.9878, 0.0122])],\n",
       " [DenseVector([0.9795, 0.0205])],\n",
       " [DenseVector([0.9891, 0.0109])],\n",
       " [DenseVector([0.9708, 0.0292])],\n",
       " [DenseVector([0.9845, 0.0155])],\n",
       " [DenseVector([0.9848, 0.0152])],\n",
       " [DenseVector([0.9908, 0.0092])],\n",
       " [DenseVector([0.9949, 0.0051])],\n",
       " [DenseVector([0.987, 0.013])],\n",
       " [DenseVector([0.9809, 0.0191])],\n",
       " [DenseVector([0.9851, 0.0149])],\n",
       " [DenseVector([0.9901, 0.0099])],\n",
       " [DenseVector([0.9929, 0.0071])],\n",
       " [DenseVector([0.9857, 0.0143])],\n",
       " [DenseVector([0.9811, 0.0189])],\n",
       " [DenseVector([0.988, 0.012])],\n",
       " [DenseVector([0.991, 0.009])],\n",
       " [DenseVector([0.9741, 0.0259])],\n",
       " [DenseVector([0.9844, 0.0156])],\n",
       " [DenseVector([0.977, 0.023])],\n",
       " [DenseVector([0.9824, 0.0176])],\n",
       " [DenseVector([0.9805, 0.0195])],\n",
       " [DenseVector([0.9827, 0.0173])],\n",
       " [DenseVector([0.9845, 0.0155])],\n",
       " [DenseVector([0.9855, 0.0145])],\n",
       " [DenseVector([0.9833, 0.0167])],\n",
       " [DenseVector([0.9875, 0.0125])],\n",
       " [DenseVector([0.9833, 0.0167])],\n",
       " [DenseVector([0.9873, 0.0127])],\n",
       " [DenseVector([0.9851, 0.0149])],\n",
       " [DenseVector([0.987, 0.013])],\n",
       " [DenseVector([0.9739, 0.0261])],\n",
       " [DenseVector([0.995, 0.005])],\n",
       " [DenseVector([0.9819, 0.0181])],\n",
       " [DenseVector([0.9911, 0.0089])],\n",
       " [DenseVector([0.987, 0.013])],\n",
       " [DenseVector([0.9882, 0.0118])],\n",
       " [DenseVector([0.9879, 0.0121])],\n",
       " [DenseVector([0.9859, 0.0141])],\n",
       " [DenseVector([0.9844, 0.0156])],\n",
       " [DenseVector([0.9808, 0.0192])],\n",
       " [DenseVector([0.9694, 0.0306])],\n",
       " [DenseVector([0.9888, 0.0112])],\n",
       " [DenseVector([0.9929, 0.0071])],\n",
       " [DenseVector([0.99, 0.01])],\n",
       " [DenseVector([0.9838, 0.0162])],\n",
       " [DenseVector([0.9708, 0.0292])],\n",
       " [DenseVector([0.9708, 0.0292])],\n",
       " [DenseVector([0.9824, 0.0176])],\n",
       " [DenseVector([0.9848, 0.0152])],\n",
       " [DenseVector([0.9803, 0.0197])],\n",
       " [DenseVector([0.9893, 0.0107])],\n",
       " [DenseVector([0.9888, 0.0112])],\n",
       " [DenseVector([0.979, 0.021])],\n",
       " [DenseVector([0.9863, 0.0137])],\n",
       " [DenseVector([0.98, 0.02])],\n",
       " [DenseVector([0.9818, 0.0182])],\n",
       " [DenseVector([0.9895, 0.0105])],\n",
       " [DenseVector([0.982, 0.018])],\n",
       " [DenseVector([0.982, 0.018])],\n",
       " [DenseVector([0.991, 0.009])],\n",
       " [DenseVector([0.9759, 0.0241])],\n",
       " [DenseVector([0.9849, 0.0151])],\n",
       " [DenseVector([0.9829, 0.0171])],\n",
       " [DenseVector([0.9899, 0.0101])],\n",
       " [DenseVector([0.9725, 0.0275])],\n",
       " [DenseVector([0.9817, 0.0183])],\n",
       " [DenseVector([0.9855, 0.0145])],\n",
       " [DenseVector([0.9879, 0.0121])],\n",
       " [DenseVector([0.9827, 0.0173])],\n",
       " [DenseVector([0.9845, 0.0155])],\n",
       " [DenseVector([0.9831, 0.0169])],\n",
       " [DenseVector([0.9849, 0.0151])],\n",
       " [DenseVector([0.9827, 0.0173])],\n",
       " [DenseVector([0.9882, 0.0118])],\n",
       " [DenseVector([0.9933, 0.0067])],\n",
       " [DenseVector([0.9764, 0.0236])],\n",
       " [DenseVector([0.9745, 0.0255])],\n",
       " [DenseVector([0.9792, 0.0208])],\n",
       " [DenseVector([0.9869, 0.0131])],\n",
       " [DenseVector([0.9824, 0.0176])],\n",
       " [DenseVector([0.99, 0.01])],\n",
       " [DenseVector([0.9739, 0.0261])],\n",
       " [DenseVector([0.9866, 0.0134])],\n",
       " [DenseVector([0.9868, 0.0132])],\n",
       " [DenseVector([0.9865, 0.0135])],\n",
       " [DenseVector([0.9788, 0.0212])],\n",
       " [DenseVector([0.9788, 0.0212])],\n",
       " [DenseVector([0.9918, 0.0082])],\n",
       " [DenseVector([0.9907, 0.0093])],\n",
       " [DenseVector([0.9716, 0.0284])],\n",
       " [DenseVector([0.9633, 0.0367])],\n",
       " [DenseVector([0.9868, 0.0132])],\n",
       " [DenseVector([0.9932, 0.0068])],\n",
       " [DenseVector([0.9827, 0.0173])],\n",
       " [DenseVector([0.9932, 0.0068])],\n",
       " [DenseVector([0.9838, 0.0162])],\n",
       " [DenseVector([0.9817, 0.0183])],\n",
       " [DenseVector([0.9865, 0.0135])],\n",
       " [DenseVector([0.9867, 0.0133])],\n",
       " [DenseVector([0.9894, 0.0106])],\n",
       " [DenseVector([0.9908, 0.0092])],\n",
       " [DenseVector([0.9893, 0.0107])],\n",
       " [DenseVector([0.984, 0.016])],\n",
       " [DenseVector([0.9844, 0.0156])],\n",
       " [DenseVector([0.9863, 0.0137])],\n",
       " [DenseVector([0.9828, 0.0172])],\n",
       " [DenseVector([0.9834, 0.0166])],\n",
       " [DenseVector([0.9807, 0.0193])],\n",
       " [DenseVector([0.9855, 0.0145])],\n",
       " [DenseVector([0.9898, 0.0102])],\n",
       " [DenseVector([0.9909, 0.0091])],\n",
       " [DenseVector([0.984, 0.016])],\n",
       " [DenseVector([0.9764, 0.0236])],\n",
       " [DenseVector([0.9794, 0.0206])],\n",
       " [DenseVector([0.988, 0.012])],\n",
       " [DenseVector([0.9709, 0.0291])],\n",
       " [DenseVector([0.9767, 0.0233])],\n",
       " [DenseVector([0.9847, 0.0153])],\n",
       " [DenseVector([0.9814, 0.0186])],\n",
       " [DenseVector([0.9907, 0.0093])],\n",
       " [DenseVector([0.9812, 0.0188])],\n",
       " [DenseVector([0.9841, 0.0159])],\n",
       " [DenseVector([0.9725, 0.0275])],\n",
       " [DenseVector([0.9884, 0.0116])],\n",
       " [DenseVector([0.987, 0.013])],\n",
       " [DenseVector([0.9899, 0.0101])],\n",
       " [DenseVector([0.9878, 0.0122])],\n",
       " [DenseVector([0.9851, 0.0149])],\n",
       " [DenseVector([0.9879, 0.0121])],\n",
       " [DenseVector([0.9759, 0.0241])],\n",
       " [DenseVector([0.9789, 0.0211])],\n",
       " [DenseVector([0.989, 0.011])],\n",
       " [DenseVector([0.9816, 0.0184])],\n",
       " [DenseVector([0.9776, 0.0224])],\n",
       " [DenseVector([0.9845, 0.0155])],\n",
       " [DenseVector([0.935, 0.065])],\n",
       " [DenseVector([0.9622, 0.0378])],\n",
       " [DenseVector([0.9633, 0.0367])],\n",
       " [DenseVector([0.9759, 0.0241])],\n",
       " [DenseVector([0.9846, 0.0154])],\n",
       " [DenseVector([0.984, 0.016])],\n",
       " [DenseVector([0.9788, 0.0212])],\n",
       " [DenseVector([0.9827, 0.0173])],\n",
       " [DenseVector([0.9752, 0.0248])],\n",
       " [DenseVector([0.9701, 0.0299])],\n",
       " [DenseVector([0.9869, 0.0131])],\n",
       " [DenseVector([0.9668, 0.0332])],\n",
       " [DenseVector([0.989, 0.011])],\n",
       " [DenseVector([0.9849, 0.0151])],\n",
       " [DenseVector([0.9911, 0.0089])],\n",
       " [DenseVector([0.9872, 0.0128])],\n",
       " [DenseVector([0.9846, 0.0154])],\n",
       " [DenseVector([0.9772, 0.0228])],\n",
       " [DenseVector([0.9847, 0.0153])],\n",
       " [DenseVector([0.9841, 0.0159])],\n",
       " [DenseVector([0.9822, 0.0178])],\n",
       " [DenseVector([0.9813, 0.0187])],\n",
       " [DenseVector([0.983, 0.017])],\n",
       " [DenseVector([0.9837, 0.0163])],\n",
       " [DenseVector([0.9863, 0.0137])],\n",
       " [DenseVector([0.9894, 0.0106])],\n",
       " [DenseVector([0.9847, 0.0153])],\n",
       " [DenseVector([0.9847, 0.0153])],\n",
       " [DenseVector([0.9577, 0.0423])],\n",
       " [DenseVector([0.9851, 0.0149])],\n",
       " [DenseVector([0.9878, 0.0122])],\n",
       " [DenseVector([0.9803, 0.0197])],\n",
       " [DenseVector([0.9773, 0.0227])],\n",
       " [DenseVector([0.9862, 0.0138])],\n",
       " [DenseVector([0.9743, 0.0257])],\n",
       " [DenseVector([0.9892, 0.0108])],\n",
       " [DenseVector([0.9917, 0.0083])],\n",
       " [DenseVector([0.9935, 0.0065])],\n",
       " [DenseVector([0.9874, 0.0126])],\n",
       " [DenseVector([0.9858, 0.0142])],\n",
       " [DenseVector([0.9824, 0.0176])],\n",
       " [DenseVector([0.9834, 0.0166])],\n",
       " [DenseVector([0.9749, 0.0251])],\n",
       " [DenseVector([0.9824, 0.0176])],\n",
       " [DenseVector([0.9899, 0.0101])],\n",
       " [DenseVector([0.9811, 0.0189])],\n",
       " [DenseVector([0.9928, 0.0072])],\n",
       " [DenseVector([0.9911, 0.0089])],\n",
       " [DenseVector([0.9953, 0.0047])],\n",
       " [DenseVector([0.9818, 0.0182])],\n",
       " [DenseVector([0.982, 0.018])],\n",
       " [DenseVector([0.9846, 0.0154])],\n",
       " [DenseVector([0.9902, 0.0098])],\n",
       " [DenseVector([0.9783, 0.0217])],\n",
       " [DenseVector([0.9859, 0.0141])],\n",
       " [DenseVector([0.9769, 0.0231])],\n",
       " [DenseVector([0.9851, 0.0149])],\n",
       " [DenseVector([0.983, 0.017])],\n",
       " [DenseVector([0.9828, 0.0172])],\n",
       " [DenseVector([0.9891, 0.0109])],\n",
       " [DenseVector([0.9956, 0.0044])],\n",
       " [DenseVector([0.9771, 0.0229])],\n",
       " [DenseVector([0.9884, 0.0116])],\n",
       " [DenseVector([0.9874, 0.0126])],\n",
       " [DenseVector([0.9901, 0.0099])],\n",
       " [DenseVector([0.9874, 0.0126])],\n",
       " [DenseVector([0.9796, 0.0204])],\n",
       " [DenseVector([0.9905, 0.0095])],\n",
       " [DenseVector([0.9635, 0.0365])],\n",
       " [DenseVector([0.9808, 0.0192])],\n",
       " [DenseVector([0.977, 0.023])],\n",
       " [DenseVector([0.9766, 0.0234])],\n",
       " [DenseVector([0.977, 0.023])],\n",
       " [DenseVector([0.9856, 0.0144])],\n",
       " [DenseVector([0.9923, 0.0077])],\n",
       " [DenseVector([0.9923, 0.0077])],\n",
       " [DenseVector([0.9853, 0.0147])],\n",
       " [DenseVector([0.9805, 0.0195])],\n",
       " [DenseVector([0.9825, 0.0175])],\n",
       " [DenseVector([0.9881, 0.0119])],\n",
       " [DenseVector([0.9841, 0.0159])],\n",
       " [DenseVector([0.9887, 0.0113])],\n",
       " [DenseVector([0.9822, 0.0178])],\n",
       " [DenseVector([0.9909, 0.0091])],\n",
       " [DenseVector([0.9843, 0.0157])],\n",
       " [DenseVector([0.982, 0.018])],\n",
       " [DenseVector([0.9847, 0.0153])],\n",
       " [DenseVector([0.9816, 0.0184])],\n",
       " [DenseVector([0.9887, 0.0113])],\n",
       " [DenseVector([0.9797, 0.0203])],\n",
       " [DenseVector([0.9884, 0.0116])],\n",
       " [DenseVector([0.9794, 0.0206])],\n",
       " [DenseVector([0.9865, 0.0135])],\n",
       " [DenseVector([0.9837, 0.0163])],\n",
       " [DenseVector([0.9765, 0.0235])],\n",
       " [DenseVector([0.988, 0.012])],\n",
       " [DenseVector([0.9805, 0.0195])],\n",
       " [DenseVector([0.9893, 0.0107])],\n",
       " [DenseVector([0.971, 0.029])],\n",
       " [DenseVector([0.9843, 0.0157])],\n",
       " [DenseVector([0.9839, 0.0161])],\n",
       " [DenseVector([0.9901, 0.0099])],\n",
       " [DenseVector([0.9779, 0.0221])],\n",
       " [DenseVector([0.9873, 0.0127])],\n",
       " [DenseVector([0.9873, 0.0127])],\n",
       " [DenseVector([0.992, 0.008])],\n",
       " [DenseVector([0.9891, 0.0109])],\n",
       " [DenseVector([0.991, 0.009])],\n",
       " [DenseVector([0.9854, 0.0146])],\n",
       " [DenseVector([0.9759, 0.0241])],\n",
       " [DenseVector([0.9864, 0.0136])],\n",
       " [DenseVector([0.9713, 0.0287])],\n",
       " [DenseVector([0.9865, 0.0135])],\n",
       " [DenseVector([0.989, 0.011])],\n",
       " [DenseVector([0.9825, 0.0175])],\n",
       " [DenseVector([0.9824, 0.0176])],\n",
       " [DenseVector([0.9849, 0.0151])],\n",
       " [DenseVector([0.9798, 0.0202])],\n",
       " [DenseVector([0.9712, 0.0288])],\n",
       " [DenseVector([0.9849, 0.0151])],\n",
       " [DenseVector([0.9825, 0.0175])],\n",
       " [DenseVector([0.989, 0.011])],\n",
       " [DenseVector([0.982, 0.018])],\n",
       " [DenseVector([0.9837, 0.0163])],\n",
       " [DenseVector([0.9771, 0.0229])],\n",
       " [DenseVector([0.983, 0.017])],\n",
       " [DenseVector([0.9851, 0.0149])],\n",
       " [DenseVector([0.9887, 0.0113])],\n",
       " [DenseVector([0.993, 0.007])],\n",
       " [DenseVector([0.993, 0.007])],\n",
       " [DenseVector([0.9639, 0.0361])],\n",
       " [DenseVector([0.9872, 0.0128])],\n",
       " [DenseVector([0.9858, 0.0142])],\n",
       " [DenseVector([0.9806, 0.0194])],\n",
       " [DenseVector([0.9806, 0.0194])],\n",
       " [DenseVector([0.9814, 0.0186])],\n",
       " [DenseVector([0.9797, 0.0203])],\n",
       " [DenseVector([0.9885, 0.0115])],\n",
       " [DenseVector([0.9841, 0.0159])],\n",
       " [DenseVector([0.9921, 0.0079])],\n",
       " [DenseVector([0.978, 0.022])],\n",
       " [DenseVector([0.9786, 0.0214])],\n",
       " [DenseVector([0.9848, 0.0152])],\n",
       " [DenseVector([0.9911, 0.0089])],\n",
       " [DenseVector([0.9914, 0.0086])],\n",
       " [DenseVector([0.9856, 0.0144])],\n",
       " [DenseVector([0.9858, 0.0142])],\n",
       " [DenseVector([0.9857, 0.0143])],\n",
       " [DenseVector([0.9905, 0.0095])],\n",
       " [DenseVector([0.9832, 0.0168])],\n",
       " [DenseVector([0.9839, 0.0161])],\n",
       " [DenseVector([0.9934, 0.0066])],\n",
       " [DenseVector([0.9824, 0.0176])],\n",
       " [DenseVector([0.9914, 0.0086])],\n",
       " [DenseVector([0.9884, 0.0116])],\n",
       " [DenseVector([0.9775, 0.0225])],\n",
       " [DenseVector([0.9803, 0.0197])],\n",
       " [DenseVector([0.9881, 0.0119])],\n",
       " [DenseVector([0.9833, 0.0167])],\n",
       " [DenseVector([0.9818, 0.0182])],\n",
       " [DenseVector([0.9783, 0.0217])],\n",
       " [DenseVector([0.984, 0.016])],\n",
       " [DenseVector([0.97, 0.03])],\n",
       " [DenseVector([0.935, 0.065])],\n",
       " [DenseVector([0.9824, 0.0176])],\n",
       " [DenseVector([0.9839, 0.0161])],\n",
       " [DenseVector([0.9639, 0.0361])],\n",
       " [DenseVector([0.9917, 0.0083])],\n",
       " [DenseVector([0.9793, 0.0207])],\n",
       " [DenseVector([0.9842, 0.0158])],\n",
       " [DenseVector([0.9741, 0.0259])],\n",
       " [DenseVector([0.9818, 0.0182])],\n",
       " [DenseVector([0.9888, 0.0112])],\n",
       " [DenseVector([0.9769, 0.0231])],\n",
       " [DenseVector([0.9849, 0.0151])],\n",
       " [DenseVector([0.9837, 0.0163])],\n",
       " [DenseVector([0.989, 0.011])],\n",
       " [DenseVector([0.9846, 0.0154])],\n",
       " [DenseVector([0.9794, 0.0206])],\n",
       " [DenseVector([0.9876, 0.0124])],\n",
       " [DenseVector([0.986, 0.014])],\n",
       " [DenseVector([0.9699, 0.0301])],\n",
       " [DenseVector([0.9904, 0.0096])],\n",
       " [DenseVector([0.9927, 0.0073])],\n",
       " [DenseVector([0.9813, 0.0187])],\n",
       " [DenseVector([0.9887, 0.0113])],\n",
       " [DenseVector([0.9839, 0.0161])],\n",
       " [DenseVector([0.9885, 0.0115])],\n",
       " [DenseVector([0.9859, 0.0141])],\n",
       " [DenseVector([0.9818, 0.0182])],\n",
       " [DenseVector([0.9745, 0.0255])],\n",
       " [DenseVector([0.9855, 0.0145])],\n",
       " [DenseVector([0.9856, 0.0144])],\n",
       " [DenseVector([0.9837, 0.0163])],\n",
       " [DenseVector([0.9845, 0.0155])],\n",
       " [DenseVector([0.9821, 0.0179])],\n",
       " [DenseVector([0.9911, 0.0089])],\n",
       " [DenseVector([0.98, 0.02])],\n",
       " [DenseVector([0.9851, 0.0149])],\n",
       " [DenseVector([0.9821, 0.0179])],\n",
       " [DenseVector([0.9844, 0.0156])],\n",
       " [DenseVector([0.9844, 0.0156])],\n",
       " [DenseVector([0.9789, 0.0211])],\n",
       " [DenseVector([0.9716, 0.0284])],\n",
       " [DenseVector([0.9841, 0.0159])],\n",
       " [DenseVector([0.9936, 0.0064])],\n",
       " [DenseVector([0.9805, 0.0195])],\n",
       " [DenseVector([0.9805, 0.0195])],\n",
       " [DenseVector([0.9843, 0.0157])],\n",
       " [DenseVector([0.9938, 0.0062])],\n",
       " [DenseVector([0.986, 0.014])],\n",
       " [DenseVector([0.9857, 0.0143])],\n",
       " [DenseVector([0.9837, 0.0163])],\n",
       " [DenseVector([0.9875, 0.0125])],\n",
       " [DenseVector([0.9845, 0.0155])],\n",
       " [DenseVector([0.9643, 0.0357])],\n",
       " [DenseVector([0.9825, 0.0175])],\n",
       " [DenseVector([0.9871, 0.0129])],\n",
       " [DenseVector([0.9858, 0.0142])],\n",
       " [DenseVector([0.9711, 0.0289])],\n",
       " [DenseVector([0.9805, 0.0195])],\n",
       " [DenseVector([0.9813, 0.0187])],\n",
       " [DenseVector([0.9839, 0.0161])],\n",
       " [DenseVector([0.9915, 0.0085])],\n",
       " [DenseVector([0.9976, 0.0024])],\n",
       " [DenseVector([0.9831, 0.0169])],\n",
       " [DenseVector([0.9843, 0.0157])],\n",
       " [DenseVector([0.9842, 0.0158])],\n",
       " [DenseVector([0.9866, 0.0134])],\n",
       " [DenseVector([0.9746, 0.0254])],\n",
       " [DenseVector([0.9871, 0.0129])],\n",
       " [DenseVector([0.9888, 0.0112])],\n",
       " [DenseVector([0.9775, 0.0225])],\n",
       " [DenseVector([0.9836, 0.0164])],\n",
       " [DenseVector([0.9906, 0.0094])],\n",
       " [DenseVector([0.9784, 0.0216])],\n",
       " [DenseVector([0.9917, 0.0083])],\n",
       " [DenseVector([0.9846, 0.0154])],\n",
       " [DenseVector([0.9858, 0.0142])],\n",
       " [DenseVector([0.9774, 0.0226])],\n",
       " [DenseVector([0.9833, 0.0167])],\n",
       " [DenseVector([0.9919, 0.0081])],\n",
       " [DenseVector([0.9869, 0.0131])],\n",
       " [DenseVector([0.975, 0.025])],\n",
       " [DenseVector([0.9681, 0.0319])],\n",
       " [DenseVector([0.9844, 0.0156])],\n",
       " [DenseVector([0.9953, 0.0047])],\n",
       " [DenseVector([0.9819, 0.0181])],\n",
       " [DenseVector([0.9853, 0.0147])],\n",
       " [DenseVector([0.9867, 0.0133])],\n",
       " [DenseVector([0.9847, 0.0153])],\n",
       " [DenseVector([0.9796, 0.0204])],\n",
       " [DenseVector([0.9811, 0.0189])],\n",
       " [DenseVector([0.9889, 0.0111])],\n",
       " [DenseVector([0.9859, 0.0141])],\n",
       " [DenseVector([0.9747, 0.0253])],\n",
       " [DenseVector([0.9867, 0.0133])],\n",
       " [DenseVector([0.987, 0.013])],\n",
       " [DenseVector([0.9716, 0.0284])],\n",
       " [DenseVector([0.9862, 0.0138])],\n",
       " [DenseVector([0.9847, 0.0153])],\n",
       " [DenseVector([0.9767, 0.0233])],\n",
       " [DenseVector([0.9811, 0.0189])],\n",
       " [DenseVector([0.9931, 0.0069])],\n",
       " [DenseVector([0.9795, 0.0205])],\n",
       " [DenseVector([0.9324, 0.0676])],\n",
       " [DenseVector([0.9872, 0.0128])],\n",
       " [DenseVector([0.9912, 0.0088])],\n",
       " [DenseVector([0.9846, 0.0154])],\n",
       " [DenseVector([0.9863, 0.0137])],\n",
       " [DenseVector([0.9856, 0.0144])],\n",
       " [DenseVector([0.9887, 0.0113])],\n",
       " [DenseVector([0.9819, 0.0181])],\n",
       " [DenseVector([0.9897, 0.0103])],\n",
       " [DenseVector([0.9888, 0.0112])],\n",
       " [DenseVector([0.9842, 0.0158])],\n",
       " [DenseVector([0.9836, 0.0164])],\n",
       " [DenseVector([0.9965, 0.0035])],\n",
       " [DenseVector([0.9887, 0.0113])],\n",
       " [DenseVector([0.9592, 0.0408])],\n",
       " [DenseVector([0.9787, 0.0213])],\n",
       " [DenseVector([0.9875, 0.0125])],\n",
       " [DenseVector([0.9898, 0.0102])],\n",
       " [DenseVector([0.9843, 0.0157])],\n",
       " [DenseVector([0.9843, 0.0157])],\n",
       " [DenseVector([0.9765, 0.0235])],\n",
       " [DenseVector([0.9916, 0.0084])],\n",
       " [DenseVector([0.9883, 0.0117])],\n",
       " [DenseVector([0.9856, 0.0144])],\n",
       " [DenseVector([0.9885, 0.0115])],\n",
       " [DenseVector([0.989, 0.011])],\n",
       " [DenseVector([0.9843, 0.0157])],\n",
       " [DenseVector([0.9901, 0.0099])],\n",
       " [DenseVector([0.9895, 0.0105])],\n",
       " [DenseVector([0.9911, 0.0089])],\n",
       " [DenseVector([0.9959, 0.0041])],\n",
       " [DenseVector([0.9896, 0.0104])],\n",
       " [DenseVector([0.9863, 0.0137])],\n",
       " [DenseVector([0.9802, 0.0198])],\n",
       " [DenseVector([0.9853, 0.0147])],\n",
       " [DenseVector([0.9649, 0.0351])],\n",
       " [DenseVector([0.9773, 0.0227])],\n",
       " [DenseVector([0.9705, 0.0295])],\n",
       " [DenseVector([0.9832, 0.0168])],\n",
       " [DenseVector([0.9846, 0.0154])],\n",
       " [DenseVector([0.9896, 0.0104])],\n",
       " [DenseVector([0.9865, 0.0135])],\n",
       " [DenseVector([0.9893, 0.0107])],\n",
       " [DenseVector([0.9858, 0.0142])],\n",
       " [DenseVector([0.9725, 0.0275])],\n",
       " [DenseVector([0.9884, 0.0116])],\n",
       " [DenseVector([0.9853, 0.0147])],\n",
       " [DenseVector([0.9834, 0.0166])],\n",
       " [DenseVector([0.9909, 0.0091])],\n",
       " [DenseVector([0.9821, 0.0179])],\n",
       " [DenseVector([0.9805, 0.0195])],\n",
       " [DenseVector([0.9819, 0.0181])],\n",
       " [DenseVector([0.97, 0.03])],\n",
       " [DenseVector([0.9809, 0.0191])],\n",
       " [DenseVector([0.9824, 0.0176])],\n",
       " [DenseVector([0.9836, 0.0164])],\n",
       " [DenseVector([0.9781, 0.0219])],\n",
       " [DenseVector([0.9842, 0.0158])],\n",
       " [DenseVector([0.9887, 0.0113])],\n",
       " [DenseVector([0.9859, 0.0141])],\n",
       " [DenseVector([0.9863, 0.0137])],\n",
       " [DenseVector([0.9336, 0.0664])],\n",
       " [DenseVector([0.9837, 0.0163])],\n",
       " [DenseVector([0.9866, 0.0134])],\n",
       " [DenseVector([0.9921, 0.0079])],\n",
       " [DenseVector([0.9859, 0.0141])],\n",
       " [DenseVector([0.9703, 0.0297])],\n",
       " [DenseVector([0.975, 0.025])],\n",
       " [DenseVector([0.9815, 0.0185])],\n",
       " [DenseVector([0.9816, 0.0184])],\n",
       " [DenseVector([0.988, 0.012])],\n",
       " [DenseVector([0.9785, 0.0215])],\n",
       " [DenseVector([0.9888, 0.0112])],\n",
       " [DenseVector([0.9898, 0.0102])],\n",
       " [DenseVector([0.9718, 0.0282])],\n",
       " [DenseVector([0.9845, 0.0155])],\n",
       " [DenseVector([0.9817, 0.0183])],\n",
       " [DenseVector([0.9848, 0.0152])],\n",
       " [DenseVector([0.9814, 0.0186])],\n",
       " [DenseVector([0.9868, 0.0132])],\n",
       " [DenseVector([0.9826, 0.0174])],\n",
       " [DenseVector([0.9813, 0.0187])],\n",
       " [DenseVector([0.9836, 0.0164])],\n",
       " [DenseVector([0.9803, 0.0197])],\n",
       " [DenseVector([0.9866, 0.0134])],\n",
       " [DenseVector([0.9914, 0.0086])],\n",
       " [DenseVector([0.9857, 0.0143])],\n",
       " [DenseVector([0.9897, 0.0103])],\n",
       " [DenseVector([0.9923, 0.0077])],\n",
       " [DenseVector([0.9785, 0.0215])],\n",
       " [DenseVector([0.9823, 0.0177])],\n",
       " [DenseVector([0.9749, 0.0251])],\n",
       " [DenseVector([0.9839, 0.0161])],\n",
       " [DenseVector([0.9723, 0.0277])],\n",
       " [DenseVector([0.9782, 0.0218])],\n",
       " [DenseVector([0.9844, 0.0156])],\n",
       " [DenseVector([0.9806, 0.0194])],\n",
       " [DenseVector([0.9809, 0.0191])],\n",
       " [DenseVector([0.9888, 0.0112])],\n",
       " [DenseVector([0.9855, 0.0145])],\n",
       " [DenseVector([0.973, 0.027])],\n",
       " [DenseVector([0.9848, 0.0152])],\n",
       " [DenseVector([0.9872, 0.0128])],\n",
       " [DenseVector([0.9876, 0.0124])],\n",
       " [DenseVector([0.9847, 0.0153])],\n",
       " [DenseVector([0.9798, 0.0202])],\n",
       " [DenseVector([0.9876, 0.0124])],\n",
       " [DenseVector([0.988, 0.012])],\n",
       " [DenseVector([0.9891, 0.0109])],\n",
       " [DenseVector([0.9826, 0.0174])],\n",
       " [DenseVector([0.9847, 0.0153])],\n",
       " [DenseVector([0.9849, 0.0151])],\n",
       " [DenseVector([0.9922, 0.0078])],\n",
       " [DenseVector([0.9886, 0.0114])],\n",
       " [DenseVector([0.9852, 0.0148])],\n",
       " [DenseVector([0.981, 0.019])],\n",
       " [DenseVector([0.9852, 0.0148])],\n",
       " [DenseVector([0.9904, 0.0096])],\n",
       " [DenseVector([0.9741, 0.0259])],\n",
       " [DenseVector([0.9828, 0.0172])],\n",
       " [DenseVector([0.9759, 0.0241])],\n",
       " [DenseVector([0.9949, 0.0051])],\n",
       " [DenseVector([0.9847, 0.0153])],\n",
       " [DenseVector([0.9726, 0.0274])],\n",
       " [DenseVector([0.9861, 0.0139])],\n",
       " [DenseVector([0.9767, 0.0233])],\n",
       " [DenseVector([0.984, 0.016])],\n",
       " [DenseVector([0.9906, 0.0094])],\n",
       " [DenseVector([0.9899, 0.0101])],\n",
       " [DenseVector([0.9787, 0.0213])],\n",
       " [DenseVector([0.981, 0.019])],\n",
       " [DenseVector([0.9872, 0.0128])],\n",
       " [DenseVector([0.9914, 0.0086])],\n",
       " [DenseVector([0.9849, 0.0151])],\n",
       " [DenseVector([0.9712, 0.0288])],\n",
       " [DenseVector([0.9813, 0.0187])],\n",
       " [DenseVector([0.9766, 0.0234])],\n",
       " [DenseVector([0.993, 0.007])],\n",
       " [DenseVector([0.9835, 0.0165])],\n",
       " [DenseVector([0.9889, 0.0111])],\n",
       " [DenseVector([0.9766, 0.0234])],\n",
       " [DenseVector([0.9969, 0.0031])],\n",
       " [DenseVector([0.9775, 0.0225])],\n",
       " [DenseVector([0.9875, 0.0125])],\n",
       " [DenseVector([0.9912, 0.0088])],\n",
       " [DenseVector([0.982, 0.018])],\n",
       " [DenseVector([0.9847, 0.0153])],\n",
       " [DenseVector([0.9844, 0.0156])],\n",
       " [DenseVector([0.981, 0.019])],\n",
       " [DenseVector([0.983, 0.017])],\n",
       " [DenseVector([0.9763, 0.0237])],\n",
       " [DenseVector([0.9806, 0.0194])],\n",
       " [DenseVector([0.9826, 0.0174])],\n",
       " [DenseVector([0.9709, 0.0291])],\n",
       " [DenseVector([0.9888, 0.0112])],\n",
       " [DenseVector([0.9826, 0.0174])],\n",
       " [DenseVector([0.9667, 0.0333])],\n",
       " [DenseVector([0.9802, 0.0198])],\n",
       " [DenseVector([0.979, 0.021])],\n",
       " [DenseVector([0.9848, 0.0152])],\n",
       " [DenseVector([0.9806, 0.0194])],\n",
       " [DenseVector([0.9804, 0.0196])],\n",
       " [DenseVector([0.9901, 0.0099])],\n",
       " [DenseVector([0.992, 0.008])],\n",
       " [DenseVector([0.9898, 0.0102])],\n",
       " [DenseVector([0.9754, 0.0246])],\n",
       " [DenseVector([0.9824, 0.0176])],\n",
       " [DenseVector([0.9846, 0.0154])],\n",
       " [DenseVector([0.9878, 0.0122])],\n",
       " [DenseVector([0.9877, 0.0123])],\n",
       " [DenseVector([0.9906, 0.0094])],\n",
       " [DenseVector([0.9486, 0.0514])],\n",
       " [DenseVector([0.987, 0.013])],\n",
       " [DenseVector([0.9847, 0.0153])],\n",
       " [DenseVector([0.982, 0.018])],\n",
       " [DenseVector([0.9856, 0.0144])],\n",
       " [DenseVector([0.9896, 0.0104])],\n",
       " [DenseVector([0.9922, 0.0078])],\n",
       " [DenseVector([0.9976, 0.0024])],\n",
       " [DenseVector([0.9879, 0.0121])],\n",
       " [DenseVector([0.9813, 0.0187])],\n",
       " [DenseVector([0.9848, 0.0152])],\n",
       " [DenseVector([0.9797, 0.0203])],\n",
       " [DenseVector([0.9823, 0.0177])],\n",
       " [DenseVector([0.9725, 0.0275])],\n",
       " [DenseVector([0.9809, 0.0191])],\n",
       " [DenseVector([0.9808, 0.0192])],\n",
       " [DenseVector([0.9881, 0.0119])],\n",
       " [DenseVector([0.9816, 0.0184])],\n",
       " [DenseVector([0.9765, 0.0235])],\n",
       " [DenseVector([0.9871, 0.0129])],\n",
       " [DenseVector([0.9865, 0.0135])],\n",
       " [DenseVector([0.9818, 0.0182])],\n",
       " [DenseVector([0.9812, 0.0188])],\n",
       " [DenseVector([0.982, 0.018])],\n",
       " [DenseVector([0.9777, 0.0223])],\n",
       " [DenseVector([0.9641, 0.0359])],\n",
       " [DenseVector([0.9829, 0.0171])],\n",
       " [DenseVector([0.9758, 0.0242])],\n",
       " [DenseVector([0.9895, 0.0105])],\n",
       " [DenseVector([0.9789, 0.0211])],\n",
       " [DenseVector([0.9815, 0.0185])],\n",
       " [DenseVector([0.9846, 0.0154])],\n",
       " [DenseVector([0.9846, 0.0154])],\n",
       " [DenseVector([0.9902, 0.0098])],\n",
       " [DenseVector([0.9857, 0.0143])],\n",
       " [DenseVector([0.9767, 0.0233])],\n",
       " [DenseVector([0.9855, 0.0145])],\n",
       " [DenseVector([0.9866, 0.0134])],\n",
       " [DenseVector([0.9756, 0.0244])],\n",
       " [DenseVector([0.9916, 0.0084])],\n",
       " [DenseVector([0.9787, 0.0213])],\n",
       " [DenseVector([0.978, 0.022])],\n",
       " [DenseVector([0.9952, 0.0048])],\n",
       " [DenseVector([0.9709, 0.0291])],\n",
       " [DenseVector([0.9737, 0.0263])],\n",
       " [DenseVector([0.9844, 0.0156])],\n",
       " [DenseVector([0.9819, 0.0181])],\n",
       " [DenseVector([0.9716, 0.0284])],\n",
       " [DenseVector([0.9917, 0.0083])],\n",
       " [DenseVector([0.9802, 0.0198])],\n",
       " [DenseVector([0.9848, 0.0152])],\n",
       " [DenseVector([0.9866, 0.0134])],\n",
       " [DenseVector([0.9868, 0.0132])],\n",
       " [DenseVector([0.9935, 0.0065])],\n",
       " [DenseVector([0.9932, 0.0068])],\n",
       " [DenseVector([0.9845, 0.0155])],\n",
       " [DenseVector([0.9752, 0.0248])],\n",
       " [DenseVector([0.994, 0.006])],\n",
       " [DenseVector([0.9542, 0.0458])],\n",
       " [DenseVector([0.9846, 0.0154])],\n",
       " [DenseVector([0.9845, 0.0155])],\n",
       " [DenseVector([0.9976, 0.0024])],\n",
       " [DenseVector([0.9872, 0.0128])],\n",
       " [DenseVector([0.9858, 0.0142])],\n",
       " [DenseVector([0.9901, 0.0099])],\n",
       " [DenseVector([0.979, 0.021])],\n",
       " [DenseVector([0.9792, 0.0208])],\n",
       " [DenseVector([0.9819, 0.0181])],\n",
       " [DenseVector([0.9845, 0.0155])],\n",
       " [DenseVector([0.9808, 0.0192])],\n",
       " [DenseVector([0.9822, 0.0178])],\n",
       " [DenseVector([0.9916, 0.0084])],\n",
       " [DenseVector([0.9886, 0.0114])],\n",
       " [DenseVector([0.9874, 0.0126])],\n",
       " [DenseVector([0.9909, 0.0091])],\n",
       " [DenseVector([0.9822, 0.0178])],\n",
       " [DenseVector([0.9795, 0.0205])],\n",
       " [DenseVector([0.9829, 0.0171])],\n",
       " [DenseVector([0.9706, 0.0294])],\n",
       " [DenseVector([0.9954, 0.0046])],\n",
       " [DenseVector([0.988, 0.012])],\n",
       " [DenseVector([0.9896, 0.0104])],\n",
       " [DenseVector([0.9818, 0.0182])],\n",
       " [DenseVector([0.9924, 0.0076])],\n",
       " [DenseVector([0.9884, 0.0116])],\n",
       " [DenseVector([0.9811, 0.0189])],\n",
       " [DenseVector([0.98, 0.02])],\n",
       " [DenseVector([0.984, 0.016])],\n",
       " [DenseVector([0.9811, 0.0189])],\n",
       " [DenseVector([0.9881, 0.0119])],\n",
       " [DenseVector([0.9845, 0.0155])],\n",
       " [DenseVector([0.9944, 0.0056])],\n",
       " [DenseVector([0.9822, 0.0178])],\n",
       " [DenseVector([0.9898, 0.0102])],\n",
       " [DenseVector([0.9958, 0.0042])],\n",
       " [DenseVector([0.9905, 0.0095])],\n",
       " [DenseVector([0.981, 0.019])],\n",
       " [DenseVector([0.9926, 0.0074])],\n",
       " [DenseVector([0.9842, 0.0158])],\n",
       " [DenseVector([0.987, 0.013])],\n",
       " [DenseVector([0.9812, 0.0188])],\n",
       " [DenseVector([0.9827, 0.0173])],\n",
       " [DenseVector([0.985, 0.015])],\n",
       " [DenseVector([0.9814, 0.0186])],\n",
       " [DenseVector([0.9882, 0.0118])],\n",
       " [DenseVector([0.9915, 0.0085])],\n",
       " [DenseVector([0.9872, 0.0128])],\n",
       " [DenseVector([0.9817, 0.0183])],\n",
       " [DenseVector([0.9882, 0.0118])],\n",
       " [DenseVector([0.9847, 0.0153])],\n",
       " [DenseVector([0.9859, 0.0141])],\n",
       " [DenseVector([0.9863, 0.0137])],\n",
       " [DenseVector([0.9876, 0.0124])],\n",
       " [DenseVector([0.9832, 0.0168])],\n",
       " [DenseVector([0.9832, 0.0168])],\n",
       " [DenseVector([0.9887, 0.0113])],\n",
       " [DenseVector([0.9898, 0.0102])],\n",
       " [DenseVector([0.9863, 0.0137])],\n",
       " [DenseVector([0.9735, 0.0265])],\n",
       " [DenseVector([0.9971, 0.0029])],\n",
       " [DenseVector([0.9896, 0.0104])],\n",
       " [DenseVector([0.9919, 0.0081])],\n",
       " [DenseVector([0.9768, 0.0232])],\n",
       " [DenseVector([0.984, 0.016])],\n",
       " [DenseVector([0.9755, 0.0245])],\n",
       " [DenseVector([0.982, 0.018])],\n",
       " [DenseVector([0.987, 0.013])],\n",
       " [DenseVector([0.9836, 0.0164])],\n",
       " [DenseVector([0.9713, 0.0287])],\n",
       " [DenseVector([0.9763, 0.0237])],\n",
       " [DenseVector([0.9871, 0.0129])],\n",
       " [DenseVector([0.9847, 0.0153])],\n",
       " [DenseVector([0.9895, 0.0105])],\n",
       " [DenseVector([0.989, 0.011])],\n",
       " [DenseVector([0.9872, 0.0128])],\n",
       " [DenseVector([0.9911, 0.0089])],\n",
       " [DenseVector([0.9801, 0.0199])],\n",
       " [DenseVector([0.9877, 0.0123])],\n",
       " [DenseVector([0.9766, 0.0234])],\n",
       " [DenseVector([0.9813, 0.0187])],\n",
       " [DenseVector([0.9941, 0.0059])],\n",
       " [DenseVector([0.9836, 0.0164])],\n",
       " [DenseVector([0.9801, 0.0199])],\n",
       " [DenseVector([0.9864, 0.0136])],\n",
       " [DenseVector([0.9833, 0.0167])],\n",
       " [DenseVector([0.983, 0.017])],\n",
       " [DenseVector([0.989, 0.011])],\n",
       " [DenseVector([0.988, 0.012])],\n",
       " [DenseVector([0.9621, 0.0379])],\n",
       " [DenseVector([0.9861, 0.0139])],\n",
       " [DenseVector([0.9954, 0.0046])],\n",
       " [DenseVector([0.9878, 0.0122])],\n",
       " [DenseVector([0.9904, 0.0096])],\n",
       " [DenseVector([0.9887, 0.0113])],\n",
       " [DenseVector([0.9845, 0.0155])],\n",
       " [DenseVector([0.9917, 0.0083])],\n",
       " [DenseVector([0.9844, 0.0156])],\n",
       " [DenseVector([0.994, 0.006])],\n",
       " [DenseVector([0.9848, 0.0152])],\n",
       " [DenseVector([0.9847, 0.0153])],\n",
       " [DenseVector([0.9897, 0.0103])],\n",
       " [DenseVector([0.9777, 0.0223])],\n",
       " [DenseVector([0.9914, 0.0086])],\n",
       " [DenseVector([0.9843, 0.0157])],\n",
       " [DenseVector([0.9886, 0.0114])],\n",
       " [DenseVector([0.9813, 0.0187])],\n",
       " [DenseVector([0.9831, 0.0169])],\n",
       " [DenseVector([0.9936, 0.0064])],\n",
       " [DenseVector([0.9781, 0.0219])],\n",
       " [DenseVector([0.9867, 0.0133])],\n",
       " [DenseVector([0.9837, 0.0163])],\n",
       " [DenseVector([0.9893, 0.0107])],\n",
       " [DenseVector([0.9927, 0.0073])],\n",
       " [DenseVector([0.9898, 0.0102])],\n",
       " [DenseVector([0.9855, 0.0145])],\n",
       " [DenseVector([0.9809, 0.0191])],\n",
       " [DenseVector([0.9887, 0.0113])],\n",
       " [DenseVector([0.996, 0.004])],\n",
       " [DenseVector([0.9809, 0.0191])],\n",
       " [DenseVector([0.9897, 0.0103])],\n",
       " [DenseVector([0.9812, 0.0188])],\n",
       " [DenseVector([0.9892, 0.0108])],\n",
       " [DenseVector([0.9943, 0.0057])],\n",
       " [DenseVector([0.9784, 0.0216])],\n",
       " [DenseVector([0.9942, 0.0058])],\n",
       " [DenseVector([0.9607, 0.0393])],\n",
       " [DenseVector([0.987, 0.013])],\n",
       " [DenseVector([0.9786, 0.0214])],\n",
       " [DenseVector([0.9324, 0.0676])],\n",
       " [DenseVector([0.995, 0.005])],\n",
       " [DenseVector([0.9914, 0.0086])],\n",
       " [DenseVector([0.9846, 0.0154])],\n",
       " [DenseVector([0.9925, 0.0075])],\n",
       " [DenseVector([0.9831, 0.0169])],\n",
       " [DenseVector([0.9811, 0.0189])],\n",
       " [DenseVector([0.9817, 0.0183])],\n",
       " [DenseVector([0.9853, 0.0147])],\n",
       " [DenseVector([0.9914, 0.0086])],\n",
       " [DenseVector([0.9881, 0.0119])],\n",
       " [DenseVector([0.9863, 0.0137])],\n",
       " [DenseVector([0.9834, 0.0166])],\n",
       " [DenseVector([0.9826, 0.0174])],\n",
       " [DenseVector([0.9848, 0.0152])],\n",
       " [DenseVector([0.9904, 0.0096])],\n",
       " [DenseVector([0.9884, 0.0116])],\n",
       " [DenseVector([0.9866, 0.0134])],\n",
       " [DenseVector([0.9903, 0.0097])],\n",
       " [DenseVector([0.9811, 0.0189])],\n",
       " [DenseVector([0.9846, 0.0154])],\n",
       " [DenseVector([0.9801, 0.0199])],\n",
       " [DenseVector([0.9933, 0.0067])],\n",
       " [DenseVector([0.9829, 0.0171])],\n",
       " [DenseVector([0.9898, 0.0102])],\n",
       " [DenseVector([0.9846, 0.0154])],\n",
       " [DenseVector([0.9972, 0.0028])],\n",
       " [DenseVector([0.9842, 0.0158])],\n",
       " [DenseVector([0.9837, 0.0163])],\n",
       " [DenseVector([0.9803, 0.0197])],\n",
       " [DenseVector([0.9764, 0.0236])],\n",
       " [DenseVector([0.9739, 0.0261])],\n",
       " [DenseVector([0.9847, 0.0153])],\n",
       " [DenseVector([0.9851, 0.0149])],\n",
       " [DenseVector([0.9853, 0.0147])],\n",
       " [DenseVector([0.9936, 0.0064])],\n",
       " [DenseVector([0.986, 0.014])],\n",
       " [DenseVector([0.9881, 0.0119])],\n",
       " [DenseVector([0.9833, 0.0167])],\n",
       " [DenseVector([0.9922, 0.0078])],\n",
       " [DenseVector([0.9853, 0.0147])],\n",
       " [DenseVector([0.988, 0.012])],\n",
       " [DenseVector([0.9786, 0.0214])],\n",
       " [DenseVector([0.981, 0.019])],\n",
       " [DenseVector([0.9846, 0.0154])],\n",
       " [DenseVector([0.9877, 0.0123])],\n",
       " [DenseVector([0.9731, 0.0269])],\n",
       " [DenseVector([0.9864, 0.0136])],\n",
       " [DenseVector([0.9785, 0.0215])],\n",
       " [DenseVector([0.9717, 0.0283])],\n",
       " [DenseVector([0.985, 0.015])],\n",
       " [DenseVector([0.9642, 0.0358])],\n",
       " [DenseVector([0.9821, 0.0179])],\n",
       " [DenseVector([0.9701, 0.0299])],\n",
       " [DenseVector([0.979, 0.021])],\n",
       " [DenseVector([0.9846, 0.0154])],\n",
       " [DenseVector([0.9819, 0.0181])],\n",
       " [DenseVector([0.9855, 0.0145])],\n",
       " [DenseVector([0.9922, 0.0078])],\n",
       " [DenseVector([0.992, 0.008])],\n",
       " [DenseVector([0.9899, 0.0101])],\n",
       " [DenseVector([0.9866, 0.0134])],\n",
       " [DenseVector([0.9863, 0.0137])],\n",
       " [DenseVector([0.9764, 0.0236])],\n",
       " [DenseVector([0.9949, 0.0051])],\n",
       " [DenseVector([0.9847, 0.0153])],\n",
       " [DenseVector([0.9765, 0.0235])],\n",
       " [DenseVector([0.9933, 0.0067])],\n",
       " [DenseVector([0.9805, 0.0195])],\n",
       " [DenseVector([0.9877, 0.0123])],\n",
       " [DenseVector([0.9924, 0.0076])],\n",
       " [DenseVector([0.9748, 0.0252])],\n",
       " [DenseVector([0.9928, 0.0072])],\n",
       " [DenseVector([0.9873, 0.0127])],\n",
       " [DenseVector([0.9861, 0.0139])],\n",
       " [DenseVector([0.9766, 0.0234])],\n",
       " [DenseVector([0.9664, 0.0336])],\n",
       " [DenseVector([0.9861, 0.0139])],\n",
       " [DenseVector([0.9723, 0.0277])],\n",
       " [DenseVector([0.9913, 0.0087])],\n",
       " [DenseVector([0.983, 0.017])],\n",
       " [DenseVector([0.982, 0.018])],\n",
       " [DenseVector([0.9803, 0.0197])],\n",
       " [DenseVector([0.9847, 0.0153])],\n",
       " [DenseVector([0.9883, 0.0117])],\n",
       " [DenseVector([0.9709, 0.0291])],\n",
       " [DenseVector([0.9812, 0.0188])],\n",
       " [DenseVector([0.9846, 0.0154])],\n",
       " [DenseVector([0.9864, 0.0136])],\n",
       " [DenseVector([0.9933, 0.0067])],\n",
       " [DenseVector([0.9925, 0.0075])],\n",
       " [DenseVector([0.973, 0.027])],\n",
       " [DenseVector([0.9867, 0.0133])],\n",
       " [DenseVector([0.9887, 0.0113])],\n",
       " [DenseVector([0.9849, 0.0151])],\n",
       " [DenseVector([0.9868, 0.0132])],\n",
       " [DenseVector([0.9814, 0.0186])],\n",
       " [DenseVector([0.9708, 0.0292])],\n",
       " [DenseVector([0.9909, 0.0091])],\n",
       " [DenseVector([0.9759, 0.0241])],\n",
       " [DenseVector([0.9876, 0.0124])],\n",
       " [DenseVector([0.985, 0.015])],\n",
       " [DenseVector([0.9781, 0.0219])],\n",
       " [DenseVector([0.9768, 0.0232])],\n",
       " [DenseVector([0.9851, 0.0149])],\n",
       " [DenseVector([0.971, 0.029])],\n",
       " [DenseVector([0.9725, 0.0275])],\n",
       " [DenseVector([0.98, 0.02])],\n",
       " [DenseVector([0.9824, 0.0176])],\n",
       " [DenseVector([0.9781, 0.0219])],\n",
       " [DenseVector([0.9704, 0.0296])],\n",
       " [DenseVector([0.9842, 0.0158])],\n",
       " [DenseVector([0.9876, 0.0124])],\n",
       " [DenseVector([0.9841, 0.0159])],\n",
       " [DenseVector([0.99, 0.01])],\n",
       " [DenseVector([0.9855, 0.0145])],\n",
       " [DenseVector([0.9821, 0.0179])],\n",
       " [DenseVector([0.9782, 0.0218])],\n",
       " [DenseVector([0.9856, 0.0144])],\n",
       " [DenseVector([0.9612, 0.0388])],\n",
       " [DenseVector([0.9796, 0.0204])],\n",
       " [DenseVector([0.9682, 0.0318])],\n",
       " [DenseVector([0.9798, 0.0202])],\n",
       " [DenseVector([0.9711, 0.0289])],\n",
       " [DenseVector([0.9646, 0.0354])],\n",
       " [DenseVector([0.9839, 0.0161])],\n",
       " [DenseVector([0.9867, 0.0133])],\n",
       " [DenseVector([0.9839, 0.0161])],\n",
       " [DenseVector([0.9856, 0.0144])],\n",
       " [DenseVector([0.98, 0.02])],\n",
       " [DenseVector([0.9886, 0.0114])],\n",
       " [DenseVector([0.9807, 0.0193])],\n",
       " [DenseVector([0.9833, 0.0167])],\n",
       " [DenseVector([0.9839, 0.0161])],\n",
       " [DenseVector([0.9734, 0.0266])],\n",
       " [DenseVector([0.9852, 0.0148])],\n",
       " [DenseVector([0.9869, 0.0131])],\n",
       " [DenseVector([0.9828, 0.0172])],\n",
       " [DenseVector([0.9922, 0.0078])],\n",
       " [DenseVector([0.9818, 0.0182])],\n",
       " [DenseVector([0.9852, 0.0148])],\n",
       " [DenseVector([0.9859, 0.0141])],\n",
       " [DenseVector([0.9871, 0.0129])],\n",
       " [DenseVector([0.985, 0.015])],\n",
       " [DenseVector([0.9888, 0.0112])],\n",
       " [DenseVector([0.9886, 0.0114])],\n",
       " [DenseVector([0.9859, 0.0141])],\n",
       " [DenseVector([0.9947, 0.0053])],\n",
       " [DenseVector([0.9883, 0.0117])],\n",
       " [DenseVector([0.9905, 0.0095])],\n",
       " [DenseVector([0.9633, 0.0367])],\n",
       " [DenseVector([0.9708, 0.0292])],\n",
       " [DenseVector([0.9849, 0.0151])],\n",
       " [DenseVector([0.9813, 0.0187])],\n",
       " [DenseVector([0.9826, 0.0174])],\n",
       " [DenseVector([0.9833, 0.0167])],\n",
       " [DenseVector([0.9847, 0.0153])],\n",
       " [DenseVector([0.9881, 0.0119])],\n",
       " [DenseVector([0.9842, 0.0158])],\n",
       " [DenseVector([0.9883, 0.0117])],\n",
       " [DenseVector([0.9805, 0.0195])],\n",
       " [DenseVector([0.9805, 0.0195])],\n",
       " [DenseVector([0.9867, 0.0133])],\n",
       " [DenseVector([0.9854, 0.0146])],\n",
       " [DenseVector([0.9858, 0.0142])],\n",
       " [DenseVector([0.9834, 0.0166])],\n",
       " [DenseVector([0.9876, 0.0124])],\n",
       " [DenseVector([0.9942, 0.0058])],\n",
       " [DenseVector([0.9831, 0.0169])],\n",
       " [DenseVector([0.9845, 0.0155])],\n",
       " [DenseVector([0.9898, 0.0102])],\n",
       " [DenseVector([0.9883, 0.0117])],\n",
       " [DenseVector([0.9934, 0.0066])],\n",
       " [DenseVector([0.9821, 0.0179])],\n",
       " [DenseVector([0.9784, 0.0216])],\n",
       " [DenseVector([0.9863, 0.0137])],\n",
       " [DenseVector([0.9841, 0.0159])],\n",
       " [DenseVector([0.9873, 0.0127])],\n",
       " ...]"
      ]
     },
     "execution_count": 109,
     "metadata": {},
     "output_type": "execute_result"
    }
   ],
   "source": [
    "result_test.predictions.select('probability').toPandas().values.tolist()"
   ]
  },
  {
   "cell_type": "code",
   "execution_count": 110,
   "id": "90c54cda",
   "metadata": {},
   "outputs": [],
   "source": [
    "# from sklearn.metrics import confusion_matrix\n",
    "# matrix = c onfusion_matrix(result_train.predictions.select('Target_final').toPandas(),result_train.predictions.select('prediction').toPandas())\n",
    "# matrix"
   ]
  },
  {
   "cell_type": "code",
   "execution_count": 112,
   "id": "2be8b824",
   "metadata": {},
   "outputs": [
    {
     "name": "stdout",
     "output_type": "stream",
     "text": [
      "+-------+-----------+------------+---------------+------------+----------------+--------------------+--------------------+--------------------+-------------------+----------+-------------+---------------+----------+----------+--------------------+---------------+------------+--------------------+---------------+------------------+------+----------------+-------------------+--------------------+-------------------+--------------------+-----------------------+----------------------+---------------------+----------------------+--------------------+--------------------+--------------------+--------------------+--------------------+--------------------+----------+\n",
      "|     ID|CODE_GENDER|FLAG_OWN_CAR|FLAG_OWN_REALTY|CNT_CHILDREN|AMT_INCOME_TOTAL|    NAME_INCOME_TYPE| NAME_EDUCATION_TYPE|  NAME_FAMILY_STATUS|  NAME_HOUSING_TYPE|DAYS_BIRTH|DAYS_EMPLOYED|FLAG_WORK_PHONE|FLAG_PHONE|FLAG_EMAIL|     OCCUPATION_TYPE|CNT_FAM_MEMBERS|Target_final|  OCCUPATION_TYPE_FE|CNT_CHILDREN_FE|CNT_FAM_MEMBERS_FE|Age_FE|DAYS_EMPLOYED_FE|    CODE_GENDER_woe|    FLAG_OWN_CAR_woe|FLAG_OWN_REALTY_woe|NAME_INCOME_TYPE_woe|NAME_EDUCATION_TYPE_woe|NAME_FAMILY_STATUS_woe|NAME_HOUSING_TYPE_woe|OCCUPATION_TYPE_FE_woe| FLAG_WORK_PHONE_woe|      FLAG_PHONE_woe|      FLAG_EMAIL_woe|            features|       rawPrediction|         probability|prediction|\n",
      "+-------+-----------+------------+---------------+------------+----------------+--------------------+--------------------+--------------------+-------------------+----------+-------------+---------------+----------+----------+--------------------+---------------+------------+--------------------+---------------+------------------+------+----------------+-------------------+--------------------+-------------------+--------------------+-----------------------+----------------------+---------------------+----------------------+--------------------+--------------------+--------------------+--------------------+--------------------+--------------------+----------+\n",
      "|5009429|          M|           N|              N|           0|        198000.0|             Working|Secondary / secon...|Single / not married|       With parents|     -8657|        -1164|              1|         0|         0|            Laborers|            1.0|           0|            Laborers|              0|               1.0|    23|         -1164.0|-0.1566539525555282|-0.02602457659832209|-0.2217096232977501| 0.03904256008498212|   0.041260402295213154|  -0.21746376270713924|  0.14567372394426403|  0.011272133206970306|-0.07807953701462458|0.007980836151509957|-0.00591287007589...|[-0.1566539525555...|[3.92675149677411...|[0.98067329393032...|       0.0|\n",
      "|5010070|          F|           N|              Y|           0|        279000.0|       State servant|    Higher education|Single / not married|  House / apartment|    -11091|         -617|              0|         0|         1|            Managers|            1.0|           0|            Managers|              0|               1.0|    30|          -617.0|0.08679484467682122|-0.02602457659832209|0.12816876027993715| 0.31436353571318904|   -0.02610510696186...|  -0.21746376270713924| 0.018571206026937258|    0.0808839047699536|0.023889130492183903|0.007980836151509957| 0.06198150776556719|[0.08679484467682...|[4.24798841694842...|[0.98590845338311...|       0.0|\n",
      "|5021819|          F|           Y|              Y|           1|         67500.0|             Working|Secondary / secon...|             Married|  House / apartment|    -11454|        -1678|              0|         1|         1|       Cooking staff|            3.0|           0|       Cooking staff|              1|               3.0|    31|         -1678.0|0.08679484467682122|0.043974298762103715|0.12816876027993715| 0.03904256008498212|   0.041260402295213154|   0.07532458183715152| 0.018571206026937258|    0.2099741214945689|0.023889130492183903|-0.01884402220697...| 0.06198150776556719|[0.08679484467682...|[4.41892945361383...|[0.98809628314669...|       0.0|\n",
      "|5023430|          F|           N|              Y|           0|        108000.0|           Pensioner|Secondary / secon...|             Married|  House / apartment|    -23044|       365243|              0|         1|         0|                null|            2.0|           0|            Laborers|              0|               2.0|    63|         -1552.0|0.08679484467682122|-0.02602457659832209|0.12816876027993715| -0.2279605463657168|   0.041260402295213154|   0.07532458183715152| 0.018571206026937258|  0.011272133206970306|0.023889130492183903|-0.01884402220697...|-0.00591287007589...|[0.08679484467682...|[4.17731658027445...|[0.98489213383730...|       0.0|\n",
      "|5024771|          F|           Y|              Y|           0|        202500.0|             Working|Secondary / secon...|Single / not married|  House / apartment|     -8568|        -1068|              0|         0|         0|         Sales staff|            1.0|           0|         Sales staff|              0|               1.0|    23|         -1068.0|0.08679484467682122|0.043974298762103715|0.12816876027993715| 0.03904256008498212|   0.041260402295213154|  -0.21746376270713924| 0.018571206026937258|    0.2729634556453107|0.023889130492183903|0.007980836151509957|-0.00591287007589...|[0.08679484467682...|[4.31190090047845...|[0.98676935892977...|       0.0|\n",
      "|5028624|          F|           Y|              Y|           0|        135000.0|Commercial associate|Secondary / secon...|             Married|  House / apartment|    -14221|        -1542|              0|         0|         0|Private service s...|            2.0|           0|Private service s...|              0|               2.0|    38|         -1542.0|0.08679484467682122|0.043974298762103715|0.12816876027993715|0.003212036639015...|   0.041260402295213154|   0.07532458183715152| 0.018571206026937258|     1.078062751550846|0.023889130492183903|0.007980836151509957|-0.00591287007589...|[0.08679484467682...|[5.43286792901457...|[0.99564847512499...|       0.0|\n",
      "|5029625|          F|           N|              Y|           1|        180000.0|             Working|Secondary / secon...|             Married|       With parents|     -8041|        -1419|              0|         1|         1|         Sales staff|            3.0|           0|         Sales staff|              1|               3.0|    22|         -1419.0|0.08679484467682122|-0.02602457659832209|0.12816876027993715| 0.03904256008498212|   0.041260402295213154|   0.07532458183715152|  0.14567372394426403|    0.2729634556453107|0.023889130492183903|-0.01884402220697...| 0.06198150776556719|[0.08679484467682...|[4.55345351366905...|[0.98957896818125...|       0.0|\n",
      "|5033529|          M|           Y|              Y|           0|        144000.0|           Pensioner|    Higher education|             Married|  House / apartment|    -18854|       365243|              0|         0|         0|                null|            2.0|           0|            Laborers|              0|               2.0|    51|         -1552.0|-0.1566539525555282|0.043974298762103715|0.12816876027993715| -0.2279605463657168|   -0.02610510696186...|   0.07532458183715152| 0.018571206026937258|  0.011272133206970306|0.023889130492183903|0.007980836151509957|-0.00591287007589...|[-0.1566539525555...|[4.05951612568843...|[0.98303539689787...|       0.0|\n",
      "|5033705|          M|           N|              Y|           0|        108000.0|           Pensioner|Secondary / secon...|             Married|  House / apartment|    -23332|       365243|              0|         1|         0|                null|            2.0|           0|            Laborers|              0|               2.0|    63|         -1552.0|-0.1566539525555282|-0.02602457659832209|0.12816876027993715| -0.2279605463657168|   0.041260402295213154|   0.07532458183715152| 0.018571206026937258|  0.011272133206970306|0.023889130492183903|-0.01884402220697...|-0.00591287007589...|[-0.1566539525555...|[4.15456091906307...|[0.98454977545554...|       0.0|\n",
      "|5033755|          F|           Y|              N|           0|         90000.0|           Pensioner|     Lower secondary|Single / not married|  House / apartment|    -24198|       365243|              0|         0|         0|                null|            1.0|           0|            Laborers|              0|               1.0|    66|         -1552.0|0.08679484467682122|0.043974298762103715|-0.2217096232977501| -0.2279605463657168|   -0.46903203030911855|  -0.21746376270713924| 0.018571206026937258|  0.011272133206970306|0.023889130492183903|0.007980836151509957|-0.00591287007589...|[0.08679484467682...|[3.46505624812128...|[0.96967699183283...|       0.0|\n",
      "|5033899|          M|           Y|              Y|           0|        247500.0|             Working|Secondary / secon...|             Married|  House / apartment|    -21757|        -2705|              0|         0|         0|             Drivers|            2.0|           0|             Drivers|              0|               2.0|    59|         -2705.0|-0.1566539525555282|0.043974298762103715|0.12816876027993715| 0.03904256008498212|   0.041260402295213154|   0.07532458183715152| 0.018571206026937258|  -0.31098034150587456|0.023889130492183903|0.007980836151509957|-0.00591287007589...|[-0.1566539525555...|[4.07132242257153...|[0.98323116947532...|       0.0|\n",
      "|5038681|          F|           N|              N|           1|        225000.0|           Pensioner|Secondary / secon...|             Married|Municipal apartment|    -18133|       365243|              0|         0|         0|                null|            3.0|           0|            Laborers|              1|               3.0|    49|         -1552.0|0.08679484467682122|-0.02602457659832209|-0.2217096232977501| -0.2279605463657168|   0.041260402295213154|   0.07532458183715152| -0.46355256454449306|  0.011272133206970306|0.023889130492183903|0.007980836151509957|-0.00591287007589...|[0.08679484467682...|[3.26639507222510...|[0.96325779820912...|       0.0|\n",
      "|5038750|          M|           Y|              Y|           2|        157500.0|Commercial associate|    Higher education|             Married|       With parents|    -14192|         -626|              0|         0|         0|             Drivers|            4.0|           0|             Drivers|              2|               4.0|    38|          -626.0|-0.1566539525555282|0.043974298762103715|0.12816876027993715|0.003212036639015...|   -0.02610510696186...|   0.07532458183715152|  0.14567372394426403|  -0.31098034150587456|0.023889130492183903|0.007980836151509957|-0.00591287007589...|[-0.1566539525555...|[3.72418062597480...|[0.97643580538348...|       0.0|\n",
      "|5045138|          F|           N|              N|           1|        112500.0|             Working|Secondary / secon...|      Civil marriage|  House / apartment|    -12210|        -2747|              0|         0|         0|       Cooking staff|            3.0|           0|       Cooking staff|              1|               3.0|    33|         -2747.0|0.08679484467682122|-0.02602457659832209|-0.2217096232977501| 0.03904256008498212|   0.041260402295213154|   0.07987892748074678| 0.018571206026937258|    0.2099741214945689|0.023889130492183903|0.007980836151509957|-0.00591287007589...|[0.08679484467682...|[4.29180697426292...|[0.98650443854231...|       0.0|\n",
      "|5045381|          M|           Y|              Y|           0|        261000.0|             Working|   Incomplete higher|             Married|  House / apartment|    -15936|        -1508|              0|         1|         0|            Managers|            2.0|           0|            Managers|              0|               2.0|    43|         -1508.0|-0.1566539525555282|0.043974298762103715|0.12816876027993715| 0.03904256008498212|    -0.3324458676896392|   0.07532458183715152| 0.018571206026937258|    0.0808839047699536|0.023889130492183903|-0.01884402220697...|-0.00591287007589...|[-0.1566539525555...|[4.08850833363743...|[0.98351218386007...|       0.0|\n",
      "|5046172|          M|           Y|              N|           0|        180000.0|             Working|Secondary / secon...|Single / not married|  House / apartment|    -20142|         -108|              0|         0|         0|High skill tech s...|            1.0|           0|High skill tech s...|              0|               1.0|    55|          -108.0|-0.1566539525555282|0.043974298762103715|-0.2217096232977501| 0.03904256008498212|   0.041260402295213154|  -0.21746376270713924| 0.018571206026937258|  -0.25471855844318103|0.023889130492183903|0.007980836151509957|-0.00591287007589...|[-0.1566539525555...|[3.52630878375705...|[0.97142713532071...|       0.0|\n",
      "|5046384|          F|           N|              Y|           0|        117000.0|           Pensioner|    Higher education|             Married|  House / apartment|    -21428|       365243|              0|         1|         0|                null|            2.0|           0|            Laborers|              0|               2.0|    58|         -1552.0|0.08679484467682122|-0.02602457659832209|0.12816876027993715| -0.2279605463657168|   -0.02610510696186...|   0.07532458183715152| 0.018571206026937258|  0.011272133206970306|0.023889130492183903|-0.01884402220697...|-0.00591287007589...|[0.08679484467682...|[4.11238149871189...|[0.98389487477870...|       0.0|\n",
      "|5046425|          M|           Y|              Y|           0|        225000.0|             Working|Secondary / secon...|             Married|  House / apartment|    -10911|         -535|              0|         0|         0|            Laborers|            2.0|           0|            Laborers|              0|               2.0|    29|          -535.0|-0.1566539525555282|0.043974298762103715|0.12816876027993715| 0.03904256008498212|   0.041260402295213154|   0.07532458183715152| 0.018571206026937258|  0.011272133206970306|0.023889130492183903|0.007980836151509957|-0.00591287007589...|[-0.1566539525555...|[4.13562587973345...|[0.98425908644118...|       0.0|\n",
      "|5048505|          F|           Y|              Y|           0|        720000.0|       State servant|    Higher education|               Widow|  House / apartment|    -15031|        -5422|              1|         1|         0|          Core staff|            1.0|           0|          Core staff|              0|               1.0|    41|         -5422.0|0.08679484467682122|0.043974298762103715|0.12816876027993715| 0.31436353571318904|   -0.02610510696186...|   -0.5657473482619784| 0.018571206026937258|   -0.2023022656820009|-0.07807953701462458|-0.01884402220697...|-0.00591287007589...|[0.08679484467682...|[3.80933231242435...|[0.97831757501792...|       0.0|\n",
      "|5054355|          M|           N|              N|           0|         99000.0|       State servant|Secondary / secon...|      Civil marriage|  House / apartment|    -22187|        -5416|              0|         0|         0|            Laborers|            2.0|           0|            Laborers|              0|               2.0|    60|         -5416.0|-0.1566539525555282|-0.02602457659832209|-0.2217096232977501| 0.31436353571318904|   0.041260402295213154|   0.07987892748074678| 0.018571206026937258|  0.011272133206970306|0.023889130492183903|0.007980836151509957|-0.00591287007589...|[-0.1566539525555...|[4.68298135679866...|[0.99083341265082...|       0.0|\n",
      "+-------+-----------+------------+---------------+------------+----------------+--------------------+--------------------+--------------------+-------------------+----------+-------------+---------------+----------+----------+--------------------+---------------+------------+--------------------+---------------+------------------+------+----------------+-------------------+--------------------+-------------------+--------------------+-----------------------+----------------------+---------------------+----------------------+--------------------+--------------------+--------------------+--------------------+--------------------+--------------------+----------+\n",
      "only showing top 20 rows\n",
      "\n"
     ]
    }
   ],
   "source": [
    "result_test.predictions.show()"
   ]
  },
  {
   "cell_type": "markdown",
   "id": "31dded5d",
   "metadata": {},
   "source": [
    "### Evaluation Metrics, finding ROC_AUC, Accuracy and plotting the curve for MODEL 1."
   ]
  },
  {
   "cell_type": "code",
   "execution_count": 113,
   "id": "bfe4b389",
   "metadata": {},
   "outputs": [
    {
     "name": "stdout",
     "output_type": "stream",
     "text": [
      "Accuracy:0.9837150127226463\n"
     ]
    },
    {
     "data": {
      "image/png": "[encoded data removed]",
      "text/plain": [
       "<Figure size 360x360 with 1 Axes>"
      ]
     },
     "metadata": {
      "needs_background": "light"
     },
     "output_type": "display_data"
    },
    {
     "name": "stdout",
     "output_type": "stream",
     "text": [
      "Area under ROC:0.623942074309186\n"
     ]
    }
   ],
   "source": [
    "#Extract the summary from the returned LogisticRegressionModel instance trained in the earlier\n",
    "#example\n",
    "trainingSummary = model.summary\n",
    "trainingSummary\n",
    "print(\"Accuracy:\"+ str(trainingSummary.accuracy))\n",
    "import matplotlib.pyplot as plt\n",
    "plt.figure(figsize=(5,5))\n",
    "plt.plot([0, 1], [0, 1], 'r--')\n",
    "plt.plot(model.summary.roc.select('FPR').collect(),\n",
    "         model.summary.roc.select('TPR').collect())\n",
    "plt.xlabel('FPR')\n",
    "plt.ylabel('TPR')\n",
    "plt.show()\n",
    "print(\"Area under ROC:\"+ str(result_test.areaUnderROC))"
   ]
  },
  {
   "cell_type": "code",
   "execution_count": 114,
   "id": "295c2037",
   "metadata": {},
   "outputs": [
    {
     "name": "stdout",
     "output_type": "stream",
     "text": [
      "+--------------------+--------------------+\n",
      "|                 FPR|                 TPR|\n",
      "+--------------------+--------------------+\n",
      "|                 0.0|                 0.0|\n",
      "|0.001034661148473...|0.004807692307692308|\n",
      "|0.003064188785864...|0.014423076923076924|\n",
      "|0.004655975168132...| 0.02403846153846154|\n",
      "|0.006486529507740061|0.028846153846153848|\n",
      "|0.008595646464244499|0.036057692307692304|\n",
      "|0.010744558080305623|0.036057692307692304|\n",
      "|0.012296549803016435|0.040865384615384616|\n",
      "|0.015042381312427872| 0.05048076923076923|\n",
      "|0.017151498268932308|  0.0673076923076923|\n",
      "| 0.01906164192765331| 0.06971153846153846|\n",
      "|0.021051374905487683| 0.07451923076923077|\n",
      "| 0.02351864379800231| 0.07692307692307693|\n",
      "|0.025747144733176807| 0.07932692307692307|\n",
      "|0.027816467030124557|  0.0889423076923077|\n",
      "| 0.03032353058219587|  0.0889423076923077|\n",
      "|0.032751004815153806|  0.0889423076923077|\n",
      "| 0.03394484460185443| 0.10576923076923077|\n",
      "| 0.03549683632456525| 0.11538461538461539|\n",
      "| 0.03840184647220343| 0.11778846153846154|\n",
      "+--------------------+--------------------+\n",
      "only showing top 20 rows\n",
      "\n"
     ]
    }
   ],
   "source": [
    "trainingSummary.roc.show()"
   ]
  },
  {
   "cell_type": "code",
   "execution_count": 115,
   "id": "2853cca7",
   "metadata": {},
   "outputs": [
    {
     "data": {
      "text/plain": [
       "Row(Target_final=0, probability=DenseVector([0.9807, 0.0193]))"
      ]
     },
     "execution_count": 115,
     "metadata": {},
     "output_type": "execute_result"
    }
   ],
   "source": [
    "thresh = result_test.predictions.select('Target_final','probability')\n",
    "thresh.collect()[0]"
   ]
  },
  {
   "cell_type": "code",
   "execution_count": 129,
   "id": "62ebe6ac",
   "metadata": {},
   "outputs": [
    {
     "data": {
      "text/plain": [
       "[0.01, 0.02, 0.03, 0.04, 0.05, 0.06, 0.07]"
      ]
     },
     "execution_count": 129,
     "metadata": {},
     "output_type": "execute_result"
    }
   ],
   "source": [
    "# the probability is a dense vector column. \n",
    "# You will have to find a way to access the value of the probability referring to the DELINQUENT class. \n",
    "# create a function to access the probability of the positive class form the 'probability' column\n",
    "\n",
    "from pyspark.sql.functions import udf, when\n",
    "from pyspark.sql.types import FloatType\n",
    "\n",
    "element_extrac=udf(lambda v:float(v[1]),FloatType())\n",
    "# create a list of all the thresholds you want to check the metrics for. \n",
    "\n",
    "result_list = []       # to store the values of precision and recall\n",
    "\n",
    "#NOTE: THE THRESHOLD VALUE SET, IS ACCORDING TO THE DELINQUENT CLASS. SO FOR EG. IF Predicted prob = 0.0193 and threshold=0.01,\n",
    "# so it means that the prediction = 1 (DELINQUENT) for that particular case.\n",
    "\n",
    "threshold_list = [0.01,0.02,0.03,0.04,0.05,0.06,0.07]\n",
    "threshold_list"
   ]
  },
  {
   "cell_type": "code",
   "execution_count": 130,
   "id": "437f7321",
   "metadata": {},
   "outputs": [],
   "source": [
    "# Now you have the probabilities, your task is to add a class column. \n",
    "# To create this column, compare the probabilities with the threshold and decide the class. \n",
    "# You can make a loop which will repeat the same action for different thresholds\n",
    "# Use the filter and count functions to find the true positives, false positives, false negatives. (inside the loop)\n",
    "# Using these values, find the precision and recall for different thresholds. (inside the loop)\n",
    "\n",
    "\n",
    "for i in threshold_list:\n",
    "    test_pred = thresh.withColumn('label_p',when(element_extrac(thresh[\"probability\"]) >= i, 1).otherwise(0))\n",
    "    TP = test_pred.filter(\"Target_final==1 AND label_p==1\").count()\n",
    "    FP = test_pred.filter(\"Target_final==0 AND label_p==1\").count()\n",
    "    FN = test_pred.filter(\"Target_final==1 AND label_p==0\").count()\n",
    "    TN = test_pred.filter(\"Target_final==0 AND label_p==0\").count()    \n",
    "    recall = (TP/(TP+FN))\n",
    "    presession = ((TP/(TP+FP)))\n",
    "    list1 = []\n",
    "    list1.append(i)\n",
    "    list1.append(presession)\n",
    "    list1.append(recall)\n",
    "    list1.append(TP)\n",
    "    list1.append(TN)\n",
    "    list1.append(FP)\n",
    "    list1.append(FN)\n",
    "    result_list.append(list1)"
   ]
  },
  {
   "cell_type": "code",
   "execution_count": 131,
   "id": "a6cedb7b",
   "metadata": {},
   "outputs": [],
   "source": [
    "# Create a panadas datafarme for the list of the output. \n",
    "\n",
    "# create a schema for the dataframes \n",
    "from pyspark.sql.types import *\n",
    "\n",
    "schema = StructType([StructField('threshold', FloatType(), True),\n",
    "                      StructField('precision', FloatType(), True),\n",
    "                      StructField('recall', FloatType(), True),\n",
    "                      StructField('TP', IntegerType(), True),\n",
    "                      StructField('TN', IntegerType(), True),\n",
    "                      StructField('FP', IntegerType(), True),\n",
    "                      StructField('FN', IntegerType(), True)])\n",
    "\n",
    "\n",
    "# create a rdd from the list\n",
    "rdd = spark.sparkContext.parallelize(result_list)\n",
    "\n",
    "\n",
    "# create a spark dataframe form rdd\n",
    "thresh_df = spark.createDataFrame(rdd,schema)\n",
    "\n",
    "# create pandas dataframe form the spark dataframe \n",
    "pandas_df = thresh_df.toPandas()"
   ]
  },
  {
   "cell_type": "code",
   "execution_count": 132,
   "id": "37fcaabe",
   "metadata": {},
   "outputs": [
    {
     "data": {
      "image/png": "[encoded data removed]",
      "text/plain": [
       "<Figure size 432x288 with 1 Axes>"
      ]
     },
     "metadata": {
      "needs_background": "light"
     },
     "output_type": "display_data"
    }
   ],
   "source": [
    "# import matplot lib \n",
    "import matplotlib.pyplot as plt\n",
    "\n",
    "# create the plot\n",
    "pandas_df.plot.line(x='threshold', y=['precision','recall'])\n",
    "\n",
    "# display the plot\n",
    "plt.show()"
   ]
  },
  {
   "cell_type": "markdown",
   "id": "b7dc284b",
   "metadata": {},
   "source": [
    "# MODEL 2 USING THRESHOLD=0.018\n"
   ]
  },
  {
   "cell_type": "code",
   "execution_count": null,
   "id": "e42f0fb9",
   "metadata": {},
   "outputs": [
    {
     "name": "stdout",
     "output_type": "stream",
     "text": [
      "+------------+--------------------+----------+\n",
      "|Target_final|         probability|prediction|\n",
      "+------------+--------------------+----------+\n",
      "|           0|[0.98067329393032...|       1.0|\n",
      "|           0|[0.98590845338311...|       0.0|\n",
      "|           0|[0.98809628314669...|       0.0|\n",
      "|           0|[0.98489213383730...|       0.0|\n",
      "|           0|[0.98676935892977...|       0.0|\n",
      "|           0|[0.99564847512499...|       0.0|\n",
      "|           0|[0.98957896818125...|       0.0|\n",
      "|           0|[0.98303539689787...|       0.0|\n",
      "|           0|[0.98454977545554...|       0.0|\n",
      "|           0|[0.96967699183283...|       1.0|\n",
      "|           0|[0.98323116947532...|       0.0|\n",
      "|           0|[0.96325779820912...|       1.0|\n",
      "|           0|[0.97643580538348...|       1.0|\n",
      "|           0|[0.98650443854230...|       0.0|\n",
      "|           0|[0.98351218386007...|       0.0|\n",
      "|           0|[0.97142713532071...|       1.0|\n",
      "|           0|[0.98389487477870...|       0.0|\n",
      "|           0|[0.98425908644118...|       0.0|\n",
      "|           0|[0.97831757501792...|       1.0|\n",
      "|           0|[0.99083341265082...|       0.0|\n",
      "|           0|[0.98739121898491...|       0.0|\n",
      "|           0|[0.98349075527026...|       0.0|\n",
      "|           0|[0.98434085205340...|       0.0|\n",
      "|           0|[0.97476193820162...|       1.0|\n",
      "|           0|[0.98397876191628...|       0.0|\n",
      "|           0|[0.98323116947532...|       0.0|\n",
      "|           0|[0.95574028485306...|       1.0|\n",
      "|           0|[0.98341439008828...|       0.0|\n",
      "|           0|[0.97981153649048...|       1.0|\n",
      "|           0|[0.98307856431889...|       0.0|\n",
      "+------------+--------------------+----------+\n",
      "only showing top 30 rows\n",
      "\n",
      "Accuracy:0.6799765120375807\n"
     ]
    }
   ],
   "source": [
    "lr2 = LogisticRegression(featuresCol='features', labelCol='Target_final',threshold=0.018)\n",
    "model2 = lr2.fit(train)\n",
    "result_test2 = model2.evaluate(test)\n",
    "result_test2.predictions.select('Target_final','probability','prediction').show(30)\n",
    "#Extract the summary from the returned LogisticRegressionModel instance trained in the earlier part\n",
    "trainingSummary2 = model2.summary\n",
    "trainingSummary2\n",
    "print(\"Accuracy:\"+ str(trainingSummary2.accuracy))\n",
    "import matplotlib.pyplot as plt\n",
    "plt.figure(figsize=(5,5))\n",
    "plt.plot([0, 1], [0, 1], 'r--')\n",
    "plt.plot(model2.summary.roc.select('FPR').collect(),\n",
    "         model2.summary.roc.select('TPR').collect())\n",
    "plt.xlabel('FPR')\n",
    "plt.ylabel('TPR')\n",
    "plt.show()\n",
    "print(\"Area under ROC:\"+ str(result_test2.areaUnderROC))"
   ]
  },
  {
   "cell_type": "code",
   "execution_count": null,
   "id": "5b3bafe9",
   "metadata": {},
   "outputs": [],
   "source": [
    "print(\"RecallByLabel:\"+ str(result_test2.recallByLabel))"
   ]
  },
  {
   "cell_type": "code",
   "execution_count": null,
   "id": "349d3911",
   "metadata": {},
   "outputs": [],
   "source": [
    "#Finding threshold for this model\n",
    "thresh = result_test2.predictions.select('Target_final','probability')\n",
    "element_extrac=udf(lambda v:float(v[1]),FloatType())\n",
    "# create a list of all the thresholds you want to check the metrics for. \n",
    "\n",
    "result_list = []       # to store the values of precision and recall\n",
    "threshold_list = [0.01,0.03,0.05,0.07,0.1,0.2,0.3,0.4,0.5,0.6,0.7]\n",
    "for i in threshold_list:\n",
    "    test_pred = thresh.withColumn('label_p',when(element_extrac(thresh[\"probability\"]) >= i, 1).otherwise(0))\n",
    "    TP = test_pred.filter(\"Target_final==1 AND label_p==1\").count()\n",
    "    FP = test_pred.filter(\"Target_final==0 AND label_p==1\").count()\n",
    "    FN = test_pred.filter(\"Target_final==1 AND label_p==0\").count()\n",
    "    TN = test_pred.filter(\"Target_final==0 AND label_p==0\").count()    \n",
    "    recall = (TP/(TP+FN))\n",
    "    presession = ((TP/(TP+FP)))\n",
    "    list1 = []\n",
    "    list1.append(i)\n",
    "    list1.append(presession)\n",
    "    list1.append(recall)\n",
    "    list1.append(TP)\n",
    "    list1.append(TN)\n",
    "    list1.append(FP)\n",
    "    list1.append(FN)\n",
    "    result_list.append(list1)"
   ]
  },
  {
   "cell_type": "code",
   "execution_count": null,
   "id": "0ac38494",
   "metadata": {},
   "outputs": [],
   "source": [
    "# create a rdd from the list\n",
    "rdd = spark.sparkContext.parallelize(result_list)\n",
    "# create a spark dataframe form rdd\n",
    "thresh_df = spark.createDataFrame(rdd,schema)\n",
    "# create pandas dataframe form the spark dataframe \n",
    "pandas_df = thresh_df.toPandas()\n",
    "# import matplot lib \n",
    "import matplotlib.pyplot as plt\n",
    "# create the plot\n",
    "pandas_df.plot.line(x='threshold', y=['precision','recall'])\n",
    "# display the plot\n",
    "plt.show()"
   ]
  },
  {
   "cell_type": "markdown",
   "id": "cfd958f1",
   "metadata": {},
   "source": [
    "# MODEL 3"
   ]
  },
  {
   "cell_type": "code",
   "execution_count": null,
   "id": "da152817",
   "metadata": {},
   "outputs": [],
   "source": [
    "def get_woe_columns(collist):\n",
    "    anslist=[]\n",
    "    for col in collist:\n",
    "        if col[-3:] == 'woe':\n",
    "            if col not in ('FLAG_OWN_CAR_woe','FLAG_WORK_PHONE_woe','FLAG_PHONE_woe','FLAG_EMAIL_woe'):\n",
    "                anslist.append(col)\n",
    "    return anslist\n",
    "\n",
    "trainCols = get_woe_columns(encoded_df.columns)\n",
    "#trainCols.extend(['CNT_CHILDREN_FE','AMT_INCOME_TOTAL','DAYS_EMPLOYED_FE','Age_FE','CNT_FAM_MEMBERS_FE'])\n",
    "trainCols.extend(['CNT_CHILDREN_FE','Age_FE','DAYS_EMPLOYED_FE'])\n",
    "print('Size of training columns:{}'.format(len(trainCols)))\n",
    "trainCols\n",
    "\n",
    "assembler = VectorAssembler(inputCols=trainCols,outputCol='features')\n",
    "finaldf = assembler.transform(encoded_df)"
   ]
  },
  {
   "cell_type": "code",
   "execution_count": null,
   "id": "4fd46654",
   "metadata": {},
   "outputs": [],
   "source": [
    "# split the data into training and testing data set\n",
    "# split dataframes between 0s and 1s\n",
    "zeros = finaldf.filter(finaldf[\"Target_final\"]==0)\n",
    "ones = finaldf.filter(finaldf[\"Target_final\"]==1)\n",
    "# split datasets into training and testing\n",
    "train0, test0 = zeros.randomSplit([0.7,0.3], seed=2018)\n",
    "train1, test1 = ones.randomSplit([0.7,0.3], seed=2018)\n",
    "# stack datasets back together\n",
    "train = train0.union(train1)\n",
    "test = test0.union(test1)"
   ]
  },
  {
   "cell_type": "code",
   "execution_count": null,
   "id": "3cdd106b",
   "metadata": {},
   "outputs": [],
   "source": [
    "lr3 = LogisticRegression(featuresCol='features', labelCol='Target_final',threshold=0.035)\n",
    "model3 = lr3.fit(train)\n",
    "result_test3 = model3.evaluate(test)\n",
    "result_test3.predictions.select('Target_final','probability','prediction').show(30)\n",
    "#Extract the summary from the returned LogisticRegressionModel instance trained in the earlier\n",
    "#example\n",
    "trainingSummary3 = model2.summary\n",
    "trainingSummary3\n",
    "print(\"Accuracy:\"+ str(trainingSummary2.accuracy))\n",
    "import matplotlib.pyplot as plt\n",
    "plt.figure(figsize=(5,5))\n",
    "plt.plot([0, 1], [0, 1], 'r--')\n",
    "plt.plot(model2.summary.roc.select('FPR').collect(),\n",
    "         model2.summary.roc.select('TPR').collect())\n",
    "plt.xlabel('FPR')\n",
    "plt.ylabel('TPR')\n",
    "plt.show()\n",
    "print(\"Area under ROC:\"+ str(result_test2.areaUnderROC))"
   ]
  },
  {
   "cell_type": "markdown",
   "id": "1632f42c",
   "metadata": {},
   "source": [
    "### MODEL PERFORMS BEST WITH A THRESHOLD SET FOR DELINQUENT TARGET (TARGET=1) AS 0.018.\n",
    "### After using MODEL 2 with 0.018 as the threshold as we can see from the Precion-Recall trade off chart itself that the Recall comes out to be approx. 0.6 with decent Precision and accuracy."
   ]
  },
  {
   "cell_type": "markdown",
   "id": "0db9db19",
   "metadata": {},
   "source": [
    "### The reason of such low threshold for delinquent applicants is because there is huge imbalance in the data."
   ]
  },
  {
   "cell_type": "code",
   "execution_count": null,
   "id": "9788d7b0",
   "metadata": {},
   "outputs": [],
   "source": [
    "#The End."
   ]
  }
 ],
 "metadata": {
  "kernelspec": {
   "display_name": "Python 3 (ipykernel)",
   "language": "python",
   "name": "python3"
  },
  "language_info": {
   "codemirror_mode": {
    "name": "ipython",
    "version": 3
   },
   "file_extension": ".py",
   "mimetype": "text/x-python",
   "name": "python",
   "nbconvert_exporter": "python",
   "pygments_lexer": "ipython3",
   "version": "3.7.10"
  }
 },
 "nbformat": 4,
 "nbformat_minor": 5
}
